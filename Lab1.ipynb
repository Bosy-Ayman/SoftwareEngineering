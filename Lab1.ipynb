{
  "nbformat": 4,
  "nbformat_minor": 0,
  "metadata": {
    "colab": {
      "provenance": [],
      "include_colab_link": true
    },
    "kernelspec": {
      "name": "python3",
      "display_name": "Python 3"
    },
    "language_info": {
      "name": "python"
    }
  },
  "cells": [
    {
      "cell_type": "markdown",
      "metadata": {
        "id": "view-in-github",
        "colab_type": "text"
      },
      "source": [
        "<a href=\"https://colab.research.google.com/github/Bosy-Ayman/SoftwareEngineering/blob/main/Lab1.ipynb\" target=\"_parent\"><img src=\"https://colab.research.google.com/assets/colab-badge.svg\" alt=\"Open In Colab\"/></a>"
      ]
    },
    {
      "cell_type": "markdown",
      "source": [
        "![image.png](data:image/png;base64,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)\n",
        "\n"
      ],
      "metadata": {
        "id": "v_j1RD4UGdqp"
      }
    },
    {
      "cell_type": "markdown",
      "source": [
        "**Zewail city for science and technology**\n",
        "\n",
        "**School of Computational Sciences & Artificial Intelligence**\n",
        "\n",
        "**Artificial intelligence – CSAI 301**"
      ],
      "metadata": {
        "id": "jNI2jM_HgPM7"
      }
    },
    {
      "cell_type": "markdown",
      "source": [
        "\n",
        "# **lab1**\n",
        "\n",
        "\n",
        "---\n",
        "\n",
        "\n",
        "#**HOWTOs for AI with Python**\n",
        "\n",
        "*  How to make charts with mathplotlib and tables with pandas\n",
        "\n",
        "*   How to use random numbers and arrays in numpy\n",
        "\n",
        "*   How to profile Python code to improve runtime.How to profile Python code to improve runtime.\n",
        "*  How to apply OOP concepts using python lanuage\n",
        "\n",
        "\n",
        "\n",
        "\n",
        "\n",
        "\n"
      ],
      "metadata": {
        "id": "sI-hoQdzxd3K"
      }
    },
    {
      "cell_type": "markdown",
      "source": [],
      "metadata": {
        "id": "fewvoTphjHzY"
      }
    },
    {
      "cell_type": "markdown",
      "source": [],
      "metadata": {
        "id": "sAtXTKRIp5Dv"
      }
    },
    {
      "cell_type": "markdown",
      "source": [],
      "metadata": {
        "id": "Qm2CyFACwKXb"
      }
    },
    {
      "cell_type": "markdown",
      "metadata": {
        "id": "7ZjcAOw2fLhP"
      },
      "source": [
        "#**[How to profile Python code to improve runtime]**\n",
        "\n",
        "It is often important to compare the run-time of different algorithms or to find out where an implementation wastes time or consumes too much memory.\n",
        "Details on timing code and memory profiling in notebooks is explained in:\n",
        "https://jakevdp.github.io/PythonDataScienceHandbook/01.07-timing-and-profiling.html"
      ]
    },
    {
      "cell_type": "markdown",
      "source": [
        "# Timing"
      ],
      "metadata": {
        "id": "hvS14QtuyMeH"
      }
    },
    {
      "cell_type": "markdown",
      "source": [
        "**[A] Manual timing using the time package**"
      ],
      "metadata": {
        "id": "Kb-3SHeMg-m6"
      }
    },
    {
      "cell_type": "code",
      "source": [
        "import time\n",
        "\n",
        "t0 = time.time()\n",
        "for i in range(100000): pass\n",
        "t1 = time.time()\n",
        "\n",
        "print(f\"Counting to 100000 took {round((t1-t0) * 1e3, 3)} milliseconds wall-clock time\")"
      ],
      "metadata": {
        "colab": {
          "base_uri": "https://localhost:8080/"
        },
        "id": "5Jb2gvd6hFOc",
        "outputId": "977697d2-a89f-40c7-b81d-3964a10a689d"
      },
      "execution_count": null,
      "outputs": [
        {
          "output_type": "stream",
          "name": "stdout",
          "text": [
            "Counting to 100000 took 4.849 milliseconds wall-clock time\n"
          ]
        }
      ]
    },
    {
      "cell_type": "code",
      "source": [],
      "metadata": {
        "id": "8lBYimAgcOFI"
      },
      "execution_count": null,
      "outputs": []
    },
    {
      "cell_type": "code",
      "source": [
        "import time\n",
        "\n",
        "t0 = time.time()\n",
        "for i in range(100000):\n",
        "\n",
        "t1 = time.time()\n",
        "\n",
        "print(f\"Counting to 100000 took {round((t1-t0) * 1e3, 3)} milliseconds wall-clock time\")"
      ],
      "metadata": {
        "colab": {
          "base_uri": "https://localhost:8080/",
          "height": 106
        },
        "outputId": "665877b1-8e31-4afb-e012-07a7d301cfdf",
        "id": "snrBRMYicOpf"
      },
      "execution_count": null,
      "outputs": [
        {
          "output_type": "error",
          "ename": "IndentationError",
          "evalue": "expected an indented block after 'for' statement on line 4 (<ipython-input-12-bb62f789818b>, line 6)",
          "traceback": [
            "\u001b[0;36m  File \u001b[0;32m\"<ipython-input-12-bb62f789818b>\"\u001b[0;36m, line \u001b[0;32m6\u001b[0m\n\u001b[0;31m    t1 = time.time()\u001b[0m\n\u001b[0m    ^\u001b[0m\n\u001b[0;31mIndentationError\u001b[0m\u001b[0;31m:\u001b[0m expected an indented block after 'for' statement on line 4\n"
          ]
        }
      ]
    },
    {
      "cell_type": "markdown",
      "source": [
        "**[b]Using the timit package**"
      ],
      "metadata": {
        "id": "TGylzfiUhUfk"
      }
    },
    {
      "cell_type": "code",
      "source": [
        "import timeit\n",
        "\n",
        "N = 100\n",
        "\n",
        "tm = timeit.timeit('for i in range(100000): pass',\n",
        "                   globals = globals(), number = N)\n",
        "\n",
        "print(f\"This took on average: {tm/N * 1e3} milliseconds\")"
      ],
      "metadata": {
        "colab": {
          "base_uri": "https://localhost:8080/"
        },
        "id": "oTnT498qhe4L",
        "outputId": "39276159-0e3f-43a5-888c-959b46bec0dd"
      },
      "execution_count": null,
      "outputs": [
        {
          "output_type": "stream",
          "name": "stdout",
          "text": [
            "This took on average: 2.580742119999968 milliseconds\n"
          ]
        }
      ]
    },
    {
      "cell_type": "markdown",
      "source": [
        "The timit package is useful to measure time for code that is called repeatedly. Note that repeatedly executing code is much faster in Python."
      ],
      "metadata": {
        "id": "GZpGiNwYhleg"
      }
    },
    {
      "cell_type": "markdown",
      "source": [
        "**Timing with magic lines**"
      ],
      "metadata": {
        "id": "xoUaWkakh7ut"
      }
    },
    {
      "cell_type": "code",
      "source": [
        "%time for i in range(100000): pass"
      ],
      "metadata": {
        "colab": {
          "base_uri": "https://localhost:8080/"
        },
        "id": "gneFWSs-iDpB",
        "outputId": "88320f3b-8cae-45dd-9451-51eac78c379d"
      },
      "execution_count": null,
      "outputs": [
        {
          "output_type": "stream",
          "name": "stdout",
          "text": [
            "CPU times: user 5.18 ms, sys: 0 ns, total: 5.18 ms\n",
            "Wall time: 5.12 ms\n"
          ]
        }
      ]
    },
    {
      "cell_type": "code",
      "source": [
        "%timeit for i in range(100000): pass"
      ],
      "metadata": {
        "colab": {
          "base_uri": "https://localhost:8080/"
        },
        "id": "jwZgUx9RiJme",
        "outputId": "18cf9577-0fd2-4d37-b8b4-03766e8ae995"
      },
      "execution_count": null,
      "outputs": [
        {
          "output_type": "stream",
          "name": "stdout",
          "text": [
            "2.59 ms ± 58.7 µs per loop (mean ± std. dev. of 7 runs, 100 loops each)\n"
          ]
        }
      ]
    },
    {
      "cell_type": "markdown",
      "source": [
        "Timeit runns the code several times to get a better estimate"
      ],
      "metadata": {
        "id": "C0nUdqZHiOcX"
      }
    },
    {
      "cell_type": "markdown",
      "source": [],
      "metadata": {
        "id": "Ws5yWCe4wW9R"
      }
    },
    {
      "cell_type": "markdown",
      "metadata": {
        "id": "ebaj9JoYfLht"
      },
      "source": [
        "## Using cProfile\n",
        "\n",
        "Profiling can be used to find the part of your program that uses up most of the time.\n",
        "See: https://docs.python.org/3/library/profile.html"
      ]
    },
    {
      "cell_type": "code",
      "execution_count": null,
      "metadata": {
        "id": "EClbnZAtfLhu",
        "outputId": "501e4252-6fd4-4746-b7e6-2e502a96e6d6"
      },
      "outputs": [
        {
          "name": "stdout",
          "output_type": "stream",
          "text": [
            "         1004 function calls in 0.017 seconds\n",
            "\n",
            "   Ordered by: standard name\n",
            "\n",
            "   ncalls  tottime  percall  cumtime  percall filename:lineno(function)\n",
            "        1    0.002    0.002    0.017    0.017 1525638392.py:3(my_function)\n",
            "        1    0.000    0.000    0.017    0.017 <string>:1(<module>)\n",
            "        1    0.000    0.000    0.017    0.017 {built-in method builtins.exec}\n",
            "     1000    0.015    0.000    0.015    0.000 {built-in method builtins.sum}\n",
            "        1    0.000    0.000    0.000    0.000 {method 'disable' of '_lsprof.Profiler' objects}\n",
            "\n",
            "\n"
          ]
        }
      ],
      "source": [
        "import cProfile\n",
        "\n",
        "def my_function(n = 1000):\n",
        "    for i in range(n):\n",
        "        sum(range(n))\n",
        "\n",
        "cProfile.run('my_function()')"
      ]
    },
    {
      "cell_type": "markdown",
      "metadata": {
        "id": "rwOe50UxfLhv"
      },
      "source": [
        "We see that most time (see `tottime`) is spent in the 1000 calls to `builtins.sum`.\n",
        "\n",
        "For nodebooks you can also use the magic command `%prun`."
      ]
    },
    {
      "cell_type": "code",
      "execution_count": null,
      "metadata": {
        "id": "RygspaiBfLhw",
        "outputId": "e82884a0-d058-41f8-e44c-9b09082c9c54"
      },
      "outputs": [
        {
          "name": "stdout",
          "output_type": "stream",
          "text": [
            " "
          ]
        },
        {
          "data": {
            "text/plain": [
              "         1004 function calls in 0.026 seconds\n",
              "\n",
              "   Ordered by: internal time\n",
              "\n",
              "   ncalls  tottime  percall  cumtime  percall filename:lineno(function)\n",
              "     1000    0.022    0.000    0.022    0.000 {built-in method builtins.sum}\n",
              "        1    0.004    0.004    0.025    0.025 571169245.py:1(my_function)\n",
              "        1    0.000    0.000    0.026    0.026 {built-in method builtins.exec}\n",
              "        1    0.000    0.000    0.025    0.025 <string>:1(<module>)\n",
              "        1    0.000    0.000    0.000    0.000 {method 'disable' of '_lsprof.Profiler' objects}"
            ]
          },
          "metadata": {},
          "output_type": "display_data"
        }
      ],
      "source": [
        "def my_function(n = 1000):\n",
        "    for i in range(n):\n",
        "        sum(range(n))\n",
        "\n",
        "%prun my_function()"
      ]
    },
    {
      "cell_type": "markdown",
      "source": [
        "# **[How to make charts with mathplotlib and tables with pandas]**\n"
      ],
      "metadata": {
        "id": "fIV_K9Ahn9nM"
      }
    },
    {
      "cell_type": "markdown",
      "source": [
        "\n",
        "\n",
        "*  matplotlib can be used to create simple charts (histograms, line charts, etc.). See: https://matplotlib.org/\n",
        "\n",
        "*   pandas can be used for data frames (tables).\n",
        "\n"
      ],
      "metadata": {
        "id": "iOraQpPwod76"
      }
    },
    {
      "cell_type": "markdown",
      "source": [
        "**Create some data**\n"
      ],
      "metadata": {
        "id": "2SDKqUpbm_M4"
      }
    },
    {
      "cell_type": "code",
      "source": [
        "import numpy as np\n",
        "import pandas as pd"
      ],
      "metadata": {
        "id": "slenCtMspD53"
      },
      "execution_count": null,
      "outputs": []
    },
    {
      "cell_type": "code",
      "source": [
        "# create some artificial performance data for 3 agents and 100 runs of a O(n^2) algorithm\n",
        "# create data for problem size n = 1 .. 100.\n",
        "n_max = 100\n",
        "runtime = {\n",
        "    \"agent 1\" : np.abs(np.add(np.power(np.divide(range(n_max), 10), 2),\n",
        "                              np.random.normal(loc = 0, scale = 10, size = n_max))),\n",
        "    \"agent 2\" : np.abs(np.add(np.power(np.divide(range(n_max),  5), 2),\n",
        "                              np.random.normal(loc = 0 , scale = 10, size = n_max))),\n",
        "    \"agent 3\" : np.abs(np.add(np.power(np.divide(range(n_max), 12), 2),\n",
        "                              np.random.normal(loc = 0 , scale = 10, size = n_max)))\n",
        "}\n",
        "\n",
        "# show data as a data frame using pandas\n",
        "df = pd.DataFrame(runtime)\n",
        "df"
      ],
      "metadata": {
        "colab": {
          "base_uri": "https://localhost:8080/",
          "height": 423
        },
        "id": "BaLGjkGdfUlw",
        "outputId": "b868e971-573c-48a2-daf4-632ffe3aabc8"
      },
      "execution_count": null,
      "outputs": [
        {
          "output_type": "execute_result",
          "data": {
            "text/plain": [
              "       agent 1     agent 2    agent 3\n",
              "0    16.539953    4.077878  19.144447\n",
              "1     1.544813   15.769641   8.747929\n",
              "2    29.600987    0.774183   3.602937\n",
              "3     7.576287   11.731018  21.875104\n",
              "4    15.912873   16.218874  14.312208\n",
              "..         ...         ...        ...\n",
              "95   84.994713  372.646256  64.209827\n",
              "96   96.360534  361.639031  59.557807\n",
              "97   84.122449  389.170451  44.353983\n",
              "98  117.337104  391.452115  63.858511\n",
              "99   80.066117  411.649548  46.891374\n",
              "\n",
              "[100 rows x 3 columns]"
            ],
            "text/html": [
              "\n",
              "  <div id=\"df-b7fcdc47-e247-47a2-b040-316d50fa095c\" class=\"colab-df-container\">\n",
              "    <div>\n",
              "<style scoped>\n",
              "    .dataframe tbody tr th:only-of-type {\n",
              "        vertical-align: middle;\n",
              "    }\n",
              "\n",
              "    .dataframe tbody tr th {\n",
              "        vertical-align: top;\n",
              "    }\n",
              "\n",
              "    .dataframe thead th {\n",
              "        text-align: right;\n",
              "    }\n",
              "</style>\n",
              "<table border=\"1\" class=\"dataframe\">\n",
              "  <thead>\n",
              "    <tr style=\"text-align: right;\">\n",
              "      <th></th>\n",
              "      <th>agent 1</th>\n",
              "      <th>agent 2</th>\n",
              "      <th>agent 3</th>\n",
              "    </tr>\n",
              "  </thead>\n",
              "  <tbody>\n",
              "    <tr>\n",
              "      <th>0</th>\n",
              "      <td>16.539953</td>\n",
              "      <td>4.077878</td>\n",
              "      <td>19.144447</td>\n",
              "    </tr>\n",
              "    <tr>\n",
              "      <th>1</th>\n",
              "      <td>1.544813</td>\n",
              "      <td>15.769641</td>\n",
              "      <td>8.747929</td>\n",
              "    </tr>\n",
              "    <tr>\n",
              "      <th>2</th>\n",
              "      <td>29.600987</td>\n",
              "      <td>0.774183</td>\n",
              "      <td>3.602937</td>\n",
              "    </tr>\n",
              "    <tr>\n",
              "      <th>3</th>\n",
              "      <td>7.576287</td>\n",
              "      <td>11.731018</td>\n",
              "      <td>21.875104</td>\n",
              "    </tr>\n",
              "    <tr>\n",
              "      <th>4</th>\n",
              "      <td>15.912873</td>\n",
              "      <td>16.218874</td>\n",
              "      <td>14.312208</td>\n",
              "    </tr>\n",
              "    <tr>\n",
              "      <th>...</th>\n",
              "      <td>...</td>\n",
              "      <td>...</td>\n",
              "      <td>...</td>\n",
              "    </tr>\n",
              "    <tr>\n",
              "      <th>95</th>\n",
              "      <td>84.994713</td>\n",
              "      <td>372.646256</td>\n",
              "      <td>64.209827</td>\n",
              "    </tr>\n",
              "    <tr>\n",
              "      <th>96</th>\n",
              "      <td>96.360534</td>\n",
              "      <td>361.639031</td>\n",
              "      <td>59.557807</td>\n",
              "    </tr>\n",
              "    <tr>\n",
              "      <th>97</th>\n",
              "      <td>84.122449</td>\n",
              "      <td>389.170451</td>\n",
              "      <td>44.353983</td>\n",
              "    </tr>\n",
              "    <tr>\n",
              "      <th>98</th>\n",
              "      <td>117.337104</td>\n",
              "      <td>391.452115</td>\n",
              "      <td>63.858511</td>\n",
              "    </tr>\n",
              "    <tr>\n",
              "      <th>99</th>\n",
              "      <td>80.066117</td>\n",
              "      <td>411.649548</td>\n",
              "      <td>46.891374</td>\n",
              "    </tr>\n",
              "  </tbody>\n",
              "</table>\n",
              "<p>100 rows × 3 columns</p>\n",
              "</div>\n",
              "    <div class=\"colab-df-buttons\">\n",
              "\n",
              "  <div class=\"colab-df-container\">\n",
              "    <button class=\"colab-df-convert\" onclick=\"convertToInteractive('df-b7fcdc47-e247-47a2-b040-316d50fa095c')\"\n",
              "            title=\"Convert this dataframe to an interactive table.\"\n",
              "            style=\"display:none;\">\n",
              "\n",
              "  <svg xmlns=\"http://www.w3.org/2000/svg\" height=\"24px\" viewBox=\"0 -960 960 960\">\n",
              "    <path d=\"M120-120v-720h720v720H120Zm60-500h600v-160H180v160Zm220 220h160v-160H400v160Zm0 220h160v-160H400v160ZM180-400h160v-160H180v160Zm440 0h160v-160H620v160ZM180-180h160v-160H180v160Zm440 0h160v-160H620v160Z\"/>\n",
              "  </svg>\n",
              "    </button>\n",
              "\n",
              "  <style>\n",
              "    .colab-df-container {\n",
              "      display:flex;\n",
              "      gap: 12px;\n",
              "    }\n",
              "\n",
              "    .colab-df-convert {\n",
              "      background-color: #E8F0FE;\n",
              "      border: none;\n",
              "      border-radius: 50%;\n",
              "      cursor: pointer;\n",
              "      display: none;\n",
              "      fill: #1967D2;\n",
              "      height: 32px;\n",
              "      padding: 0 0 0 0;\n",
              "      width: 32px;\n",
              "    }\n",
              "\n",
              "    .colab-df-convert:hover {\n",
              "      background-color: #E2EBFA;\n",
              "      box-shadow: 0px 1px 2px rgba(60, 64, 67, 0.3), 0px 1px 3px 1px rgba(60, 64, 67, 0.15);\n",
              "      fill: #174EA6;\n",
              "    }\n",
              "\n",
              "    .colab-df-buttons div {\n",
              "      margin-bottom: 4px;\n",
              "    }\n",
              "\n",
              "    [theme=dark] .colab-df-convert {\n",
              "      background-color: #3B4455;\n",
              "      fill: #D2E3FC;\n",
              "    }\n",
              "\n",
              "    [theme=dark] .colab-df-convert:hover {\n",
              "      background-color: #434B5C;\n",
              "      box-shadow: 0px 1px 3px 1px rgba(0, 0, 0, 0.15);\n",
              "      filter: drop-shadow(0px 1px 2px rgba(0, 0, 0, 0.3));\n",
              "      fill: #FFFFFF;\n",
              "    }\n",
              "  </style>\n",
              "\n",
              "    <script>\n",
              "      const buttonEl =\n",
              "        document.querySelector('#df-b7fcdc47-e247-47a2-b040-316d50fa095c button.colab-df-convert');\n",
              "      buttonEl.style.display =\n",
              "        google.colab.kernel.accessAllowed ? 'block' : 'none';\n",
              "\n",
              "      async function convertToInteractive(key) {\n",
              "        const element = document.querySelector('#df-b7fcdc47-e247-47a2-b040-316d50fa095c');\n",
              "        const dataTable =\n",
              "          await google.colab.kernel.invokeFunction('convertToInteractive',\n",
              "                                                    [key], {});\n",
              "        if (!dataTable) return;\n",
              "\n",
              "        const docLinkHtml = 'Like what you see? Visit the ' +\n",
              "          '<a target=\"_blank\" href=https://colab.research.google.com/notebooks/data_table.ipynb>data table notebook</a>'\n",
              "          + ' to learn more about interactive tables.';\n",
              "        element.innerHTML = '';\n",
              "        dataTable['output_type'] = 'display_data';\n",
              "        await google.colab.output.renderOutput(dataTable, element);\n",
              "        const docLink = document.createElement('div');\n",
              "        docLink.innerHTML = docLinkHtml;\n",
              "        element.appendChild(docLink);\n",
              "      }\n",
              "    </script>\n",
              "  </div>\n",
              "\n",
              "\n",
              "<div id=\"df-f371331a-ebe8-42f4-82b3-dc698df24806\">\n",
              "  <button class=\"colab-df-quickchart\" onclick=\"quickchart('df-f371331a-ebe8-42f4-82b3-dc698df24806')\"\n",
              "            title=\"Suggest charts\"\n",
              "            style=\"display:none;\">\n",
              "\n",
              "<svg xmlns=\"http://www.w3.org/2000/svg\" height=\"24px\"viewBox=\"0 0 24 24\"\n",
              "     width=\"24px\">\n",
              "    <g>\n",
              "        <path d=\"M19 3H5c-1.1 0-2 .9-2 2v14c0 1.1.9 2 2 2h14c1.1 0 2-.9 2-2V5c0-1.1-.9-2-2-2zM9 17H7v-7h2v7zm4 0h-2V7h2v10zm4 0h-2v-4h2v4z\"/>\n",
              "    </g>\n",
              "</svg>\n",
              "  </button>\n",
              "\n",
              "<style>\n",
              "  .colab-df-quickchart {\n",
              "      --bg-color: #E8F0FE;\n",
              "      --fill-color: #1967D2;\n",
              "      --hover-bg-color: #E2EBFA;\n",
              "      --hover-fill-color: #174EA6;\n",
              "      --disabled-fill-color: #AAA;\n",
              "      --disabled-bg-color: #DDD;\n",
              "  }\n",
              "\n",
              "  [theme=dark] .colab-df-quickchart {\n",
              "      --bg-color: #3B4455;\n",
              "      --fill-color: #D2E3FC;\n",
              "      --hover-bg-color: #434B5C;\n",
              "      --hover-fill-color: #FFFFFF;\n",
              "      --disabled-bg-color: #3B4455;\n",
              "      --disabled-fill-color: #666;\n",
              "  }\n",
              "\n",
              "  .colab-df-quickchart {\n",
              "    background-color: var(--bg-color);\n",
              "    border: none;\n",
              "    border-radius: 50%;\n",
              "    cursor: pointer;\n",
              "    display: none;\n",
              "    fill: var(--fill-color);\n",
              "    height: 32px;\n",
              "    padding: 0;\n",
              "    width: 32px;\n",
              "  }\n",
              "\n",
              "  .colab-df-quickchart:hover {\n",
              "    background-color: var(--hover-bg-color);\n",
              "    box-shadow: 0 1px 2px rgba(60, 64, 67, 0.3), 0 1px 3px 1px rgba(60, 64, 67, 0.15);\n",
              "    fill: var(--button-hover-fill-color);\n",
              "  }\n",
              "\n",
              "  .colab-df-quickchart-complete:disabled,\n",
              "  .colab-df-quickchart-complete:disabled:hover {\n",
              "    background-color: var(--disabled-bg-color);\n",
              "    fill: var(--disabled-fill-color);\n",
              "    box-shadow: none;\n",
              "  }\n",
              "\n",
              "  .colab-df-spinner {\n",
              "    border: 2px solid var(--fill-color);\n",
              "    border-color: transparent;\n",
              "    border-bottom-color: var(--fill-color);\n",
              "    animation:\n",
              "      spin 1s steps(1) infinite;\n",
              "  }\n",
              "\n",
              "  @keyframes spin {\n",
              "    0% {\n",
              "      border-color: transparent;\n",
              "      border-bottom-color: var(--fill-color);\n",
              "      border-left-color: var(--fill-color);\n",
              "    }\n",
              "    20% {\n",
              "      border-color: transparent;\n",
              "      border-left-color: var(--fill-color);\n",
              "      border-top-color: var(--fill-color);\n",
              "    }\n",
              "    30% {\n",
              "      border-color: transparent;\n",
              "      border-left-color: var(--fill-color);\n",
              "      border-top-color: var(--fill-color);\n",
              "      border-right-color: var(--fill-color);\n",
              "    }\n",
              "    40% {\n",
              "      border-color: transparent;\n",
              "      border-right-color: var(--fill-color);\n",
              "      border-top-color: var(--fill-color);\n",
              "    }\n",
              "    60% {\n",
              "      border-color: transparent;\n",
              "      border-right-color: var(--fill-color);\n",
              "    }\n",
              "    80% {\n",
              "      border-color: transparent;\n",
              "      border-right-color: var(--fill-color);\n",
              "      border-bottom-color: var(--fill-color);\n",
              "    }\n",
              "    90% {\n",
              "      border-color: transparent;\n",
              "      border-bottom-color: var(--fill-color);\n",
              "    }\n",
              "  }\n",
              "</style>\n",
              "\n",
              "  <script>\n",
              "    async function quickchart(key) {\n",
              "      const quickchartButtonEl =\n",
              "        document.querySelector('#' + key + ' button');\n",
              "      quickchartButtonEl.disabled = true;  // To prevent multiple clicks.\n",
              "      quickchartButtonEl.classList.add('colab-df-spinner');\n",
              "      try {\n",
              "        const charts = await google.colab.kernel.invokeFunction(\n",
              "            'suggestCharts', [key], {});\n",
              "      } catch (error) {\n",
              "        console.error('Error during call to suggestCharts:', error);\n",
              "      }\n",
              "      quickchartButtonEl.classList.remove('colab-df-spinner');\n",
              "      quickchartButtonEl.classList.add('colab-df-quickchart-complete');\n",
              "    }\n",
              "    (() => {\n",
              "      let quickchartButtonEl =\n",
              "        document.querySelector('#df-f371331a-ebe8-42f4-82b3-dc698df24806 button');\n",
              "      quickchartButtonEl.style.display =\n",
              "        google.colab.kernel.accessAllowed ? 'block' : 'none';\n",
              "    })();\n",
              "  </script>\n",
              "</div>\n",
              "\n",
              "  <div id=\"id_3e113f21-d4ff-417d-9fc5-38912eadd470\">\n",
              "    <style>\n",
              "      .colab-df-generate {\n",
              "        background-color: #E8F0FE;\n",
              "        border: none;\n",
              "        border-radius: 50%;\n",
              "        cursor: pointer;\n",
              "        display: none;\n",
              "        fill: #1967D2;\n",
              "        height: 32px;\n",
              "        padding: 0 0 0 0;\n",
              "        width: 32px;\n",
              "      }\n",
              "\n",
              "      .colab-df-generate:hover {\n",
              "        background-color: #E2EBFA;\n",
              "        box-shadow: 0px 1px 2px rgba(60, 64, 67, 0.3), 0px 1px 3px 1px rgba(60, 64, 67, 0.15);\n",
              "        fill: #174EA6;\n",
              "      }\n",
              "\n",
              "      [theme=dark] .colab-df-generate {\n",
              "        background-color: #3B4455;\n",
              "        fill: #D2E3FC;\n",
              "      }\n",
              "\n",
              "      [theme=dark] .colab-df-generate:hover {\n",
              "        background-color: #434B5C;\n",
              "        box-shadow: 0px 1px 3px 1px rgba(0, 0, 0, 0.15);\n",
              "        filter: drop-shadow(0px 1px 2px rgba(0, 0, 0, 0.3));\n",
              "        fill: #FFFFFF;\n",
              "      }\n",
              "    </style>\n",
              "    <button class=\"colab-df-generate\" onclick=\"generateWithVariable('df')\"\n",
              "            title=\"Generate code using this dataframe.\"\n",
              "            style=\"display:none;\">\n",
              "\n",
              "  <svg xmlns=\"http://www.w3.org/2000/svg\" height=\"24px\"viewBox=\"0 0 24 24\"\n",
              "       width=\"24px\">\n",
              "    <path d=\"M7,19H8.4L18.45,9,17,7.55,7,17.6ZM5,21V16.75L18.45,3.32a2,2,0,0,1,2.83,0l1.4,1.43a1.91,1.91,0,0,1,.58,1.4,1.91,1.91,0,0,1-.58,1.4L9.25,21ZM18.45,9,17,7.55Zm-12,3A5.31,5.31,0,0,0,4.9,8.1,5.31,5.31,0,0,0,1,6.5,5.31,5.31,0,0,0,4.9,4.9,5.31,5.31,0,0,0,6.5,1,5.31,5.31,0,0,0,8.1,4.9,5.31,5.31,0,0,0,12,6.5,5.46,5.46,0,0,0,6.5,12Z\"/>\n",
              "  </svg>\n",
              "    </button>\n",
              "    <script>\n",
              "      (() => {\n",
              "      const buttonEl =\n",
              "        document.querySelector('#id_3e113f21-d4ff-417d-9fc5-38912eadd470 button.colab-df-generate');\n",
              "      buttonEl.style.display =\n",
              "        google.colab.kernel.accessAllowed ? 'block' : 'none';\n",
              "\n",
              "      buttonEl.onclick = () => {\n",
              "        google.colab.notebook.generateWithVariable('df');\n",
              "      }\n",
              "      })();\n",
              "    </script>\n",
              "  </div>\n",
              "\n",
              "    </div>\n",
              "  </div>\n"
            ],
            "application/vnd.google.colaboratory.intrinsic+json": {
              "type": "dataframe",
              "variable_name": "df",
              "summary": "{\n  \"name\": \"df\",\n  \"rows\": 100,\n  \"fields\": [\n    {\n      \"column\": \"agent 1\",\n      \"properties\": {\n        \"dtype\": \"number\",\n        \"std\": 29.297416704668468,\n        \"min\": 0.0735554691961724,\n        \"max\": 117.3371038470653,\n        \"num_unique_values\": 100,\n        \"samples\": [\n          62.47909857454682,\n          30.892700393639647,\n          44.33707530228227\n        ],\n        \"semantic_type\": \"\",\n        \"description\": \"\"\n      }\n    },\n    {\n      \"column\": \"agent 2\",\n      \"properties\": {\n        \"dtype\": \"number\",\n        \"std\": 119.37264793285473,\n        \"min\": 0.571259457508237,\n        \"max\": 411.6495484984524,\n        \"num_unique_values\": 100,\n        \"samples\": [\n          277.120588619412,\n          117.60248133944474,\n          179.32589147859625\n        ],\n        \"semantic_type\": \"\",\n        \"description\": \"\"\n      }\n    },\n    {\n      \"column\": \"agent 3\",\n      \"properties\": {\n        \"dtype\": \"number\",\n        \"std\": 18.662416752844297,\n        \"min\": 0.16643351001918738,\n        \"max\": 66.52641333879592,\n        \"num_unique_values\": 100,\n        \"samples\": [\n          43.96596145645741,\n          12.296907220421144,\n          28.389069045901117\n        ],\n        \"semantic_type\": \"\",\n        \"description\": \"\"\n      }\n    }\n  ]\n}"
            }
          },
          "metadata": {},
          "execution_count": 16
        }
      ]
    },
    {
      "cell_type": "code",
      "source": [
        "# create data for n = 10 and N = 100 replications, so we can compare distributions.\n",
        "N = 100\n",
        "performance = {\n",
        "    \"agent 1\" : np.add(100, np.random.normal(loc = 0, scale = 10, size = N)),\n",
        "    \"agent 2\" : np.add(120, np.random.normal(loc = 0, scale = 20, size = N)),\n",
        "    \"agent 3\" : np.add(70,  np.random.normal(loc = 0, scale =  5, size = N))\n",
        "}\n",
        "\n",
        "# show data as a data frame using pandas\n",
        "df = pd.DataFrame(performance)\n",
        "df"
      ],
      "metadata": {
        "colab": {
          "base_uri": "https://localhost:8080/",
          "height": 423
        },
        "id": "VfGHBw6wo8vs",
        "outputId": "3a0b460e-1d5e-448a-a893-cc32caba802e"
      },
      "execution_count": null,
      "outputs": [
        {
          "output_type": "execute_result",
          "data": {
            "text/plain": [
              "       agent 1     agent 2    agent 3\n",
              "0    86.512597  114.545164  73.354119\n",
              "1    88.728940  131.793913  73.905027\n",
              "2    93.045249  143.669712  71.846173\n",
              "3    95.880845   87.525968  68.909628\n",
              "4    91.154652  114.754415  79.079421\n",
              "..         ...         ...        ...\n",
              "95  109.340323   75.241750  58.720303\n",
              "96  117.260829  133.701042  67.658196\n",
              "97   83.219238  126.220151  76.640683\n",
              "98  110.062993  129.638509  71.539108\n",
              "99  103.867064  145.124919  83.355822\n",
              "\n",
              "[100 rows x 3 columns]"
            ],
            "text/html": [
              "\n",
              "  <div id=\"df-bf21860d-4fd6-4cb6-a0f6-0ca87241b26c\" class=\"colab-df-container\">\n",
              "    <div>\n",
              "<style scoped>\n",
              "    .dataframe tbody tr th:only-of-type {\n",
              "        vertical-align: middle;\n",
              "    }\n",
              "\n",
              "    .dataframe tbody tr th {\n",
              "        vertical-align: top;\n",
              "    }\n",
              "\n",
              "    .dataframe thead th {\n",
              "        text-align: right;\n",
              "    }\n",
              "</style>\n",
              "<table border=\"1\" class=\"dataframe\">\n",
              "  <thead>\n",
              "    <tr style=\"text-align: right;\">\n",
              "      <th></th>\n",
              "      <th>agent 1</th>\n",
              "      <th>agent 2</th>\n",
              "      <th>agent 3</th>\n",
              "    </tr>\n",
              "  </thead>\n",
              "  <tbody>\n",
              "    <tr>\n",
              "      <th>0</th>\n",
              "      <td>86.512597</td>\n",
              "      <td>114.545164</td>\n",
              "      <td>73.354119</td>\n",
              "    </tr>\n",
              "    <tr>\n",
              "      <th>1</th>\n",
              "      <td>88.728940</td>\n",
              "      <td>131.793913</td>\n",
              "      <td>73.905027</td>\n",
              "    </tr>\n",
              "    <tr>\n",
              "      <th>2</th>\n",
              "      <td>93.045249</td>\n",
              "      <td>143.669712</td>\n",
              "      <td>71.846173</td>\n",
              "    </tr>\n",
              "    <tr>\n",
              "      <th>3</th>\n",
              "      <td>95.880845</td>\n",
              "      <td>87.525968</td>\n",
              "      <td>68.909628</td>\n",
              "    </tr>\n",
              "    <tr>\n",
              "      <th>4</th>\n",
              "      <td>91.154652</td>\n",
              "      <td>114.754415</td>\n",
              "      <td>79.079421</td>\n",
              "    </tr>\n",
              "    <tr>\n",
              "      <th>...</th>\n",
              "      <td>...</td>\n",
              "      <td>...</td>\n",
              "      <td>...</td>\n",
              "    </tr>\n",
              "    <tr>\n",
              "      <th>95</th>\n",
              "      <td>109.340323</td>\n",
              "      <td>75.241750</td>\n",
              "      <td>58.720303</td>\n",
              "    </tr>\n",
              "    <tr>\n",
              "      <th>96</th>\n",
              "      <td>117.260829</td>\n",
              "      <td>133.701042</td>\n",
              "      <td>67.658196</td>\n",
              "    </tr>\n",
              "    <tr>\n",
              "      <th>97</th>\n",
              "      <td>83.219238</td>\n",
              "      <td>126.220151</td>\n",
              "      <td>76.640683</td>\n",
              "    </tr>\n",
              "    <tr>\n",
              "      <th>98</th>\n",
              "      <td>110.062993</td>\n",
              "      <td>129.638509</td>\n",
              "      <td>71.539108</td>\n",
              "    </tr>\n",
              "    <tr>\n",
              "      <th>99</th>\n",
              "      <td>103.867064</td>\n",
              "      <td>145.124919</td>\n",
              "      <td>83.355822</td>\n",
              "    </tr>\n",
              "  </tbody>\n",
              "</table>\n",
              "<p>100 rows × 3 columns</p>\n",
              "</div>\n",
              "    <div class=\"colab-df-buttons\">\n",
              "\n",
              "  <div class=\"colab-df-container\">\n",
              "    <button class=\"colab-df-convert\" onclick=\"convertToInteractive('df-bf21860d-4fd6-4cb6-a0f6-0ca87241b26c')\"\n",
              "            title=\"Convert this dataframe to an interactive table.\"\n",
              "            style=\"display:none;\">\n",
              "\n",
              "  <svg xmlns=\"http://www.w3.org/2000/svg\" height=\"24px\" viewBox=\"0 -960 960 960\">\n",
              "    <path d=\"M120-120v-720h720v720H120Zm60-500h600v-160H180v160Zm220 220h160v-160H400v160Zm0 220h160v-160H400v160ZM180-400h160v-160H180v160Zm440 0h160v-160H620v160ZM180-180h160v-160H180v160Zm440 0h160v-160H620v160Z\"/>\n",
              "  </svg>\n",
              "    </button>\n",
              "\n",
              "  <style>\n",
              "    .colab-df-container {\n",
              "      display:flex;\n",
              "      gap: 12px;\n",
              "    }\n",
              "\n",
              "    .colab-df-convert {\n",
              "      background-color: #E8F0FE;\n",
              "      border: none;\n",
              "      border-radius: 50%;\n",
              "      cursor: pointer;\n",
              "      display: none;\n",
              "      fill: #1967D2;\n",
              "      height: 32px;\n",
              "      padding: 0 0 0 0;\n",
              "      width: 32px;\n",
              "    }\n",
              "\n",
              "    .colab-df-convert:hover {\n",
              "      background-color: #E2EBFA;\n",
              "      box-shadow: 0px 1px 2px rgba(60, 64, 67, 0.3), 0px 1px 3px 1px rgba(60, 64, 67, 0.15);\n",
              "      fill: #174EA6;\n",
              "    }\n",
              "\n",
              "    .colab-df-buttons div {\n",
              "      margin-bottom: 4px;\n",
              "    }\n",
              "\n",
              "    [theme=dark] .colab-df-convert {\n",
              "      background-color: #3B4455;\n",
              "      fill: #D2E3FC;\n",
              "    }\n",
              "\n",
              "    [theme=dark] .colab-df-convert:hover {\n",
              "      background-color: #434B5C;\n",
              "      box-shadow: 0px 1px 3px 1px rgba(0, 0, 0, 0.15);\n",
              "      filter: drop-shadow(0px 1px 2px rgba(0, 0, 0, 0.3));\n",
              "      fill: #FFFFFF;\n",
              "    }\n",
              "  </style>\n",
              "\n",
              "    <script>\n",
              "      const buttonEl =\n",
              "        document.querySelector('#df-bf21860d-4fd6-4cb6-a0f6-0ca87241b26c button.colab-df-convert');\n",
              "      buttonEl.style.display =\n",
              "        google.colab.kernel.accessAllowed ? 'block' : 'none';\n",
              "\n",
              "      async function convertToInteractive(key) {\n",
              "        const element = document.querySelector('#df-bf21860d-4fd6-4cb6-a0f6-0ca87241b26c');\n",
              "        const dataTable =\n",
              "          await google.colab.kernel.invokeFunction('convertToInteractive',\n",
              "                                                    [key], {});\n",
              "        if (!dataTable) return;\n",
              "\n",
              "        const docLinkHtml = 'Like what you see? Visit the ' +\n",
              "          '<a target=\"_blank\" href=https://colab.research.google.com/notebooks/data_table.ipynb>data table notebook</a>'\n",
              "          + ' to learn more about interactive tables.';\n",
              "        element.innerHTML = '';\n",
              "        dataTable['output_type'] = 'display_data';\n",
              "        await google.colab.output.renderOutput(dataTable, element);\n",
              "        const docLink = document.createElement('div');\n",
              "        docLink.innerHTML = docLinkHtml;\n",
              "        element.appendChild(docLink);\n",
              "      }\n",
              "    </script>\n",
              "  </div>\n",
              "\n",
              "\n",
              "<div id=\"df-2f8d32f9-6345-4e8a-8494-fa174b48d684\">\n",
              "  <button class=\"colab-df-quickchart\" onclick=\"quickchart('df-2f8d32f9-6345-4e8a-8494-fa174b48d684')\"\n",
              "            title=\"Suggest charts\"\n",
              "            style=\"display:none;\">\n",
              "\n",
              "<svg xmlns=\"http://www.w3.org/2000/svg\" height=\"24px\"viewBox=\"0 0 24 24\"\n",
              "     width=\"24px\">\n",
              "    <g>\n",
              "        <path d=\"M19 3H5c-1.1 0-2 .9-2 2v14c0 1.1.9 2 2 2h14c1.1 0 2-.9 2-2V5c0-1.1-.9-2-2-2zM9 17H7v-7h2v7zm4 0h-2V7h2v10zm4 0h-2v-4h2v4z\"/>\n",
              "    </g>\n",
              "</svg>\n",
              "  </button>\n",
              "\n",
              "<style>\n",
              "  .colab-df-quickchart {\n",
              "      --bg-color: #E8F0FE;\n",
              "      --fill-color: #1967D2;\n",
              "      --hover-bg-color: #E2EBFA;\n",
              "      --hover-fill-color: #174EA6;\n",
              "      --disabled-fill-color: #AAA;\n",
              "      --disabled-bg-color: #DDD;\n",
              "  }\n",
              "\n",
              "  [theme=dark] .colab-df-quickchart {\n",
              "      --bg-color: #3B4455;\n",
              "      --fill-color: #D2E3FC;\n",
              "      --hover-bg-color: #434B5C;\n",
              "      --hover-fill-color: #FFFFFF;\n",
              "      --disabled-bg-color: #3B4455;\n",
              "      --disabled-fill-color: #666;\n",
              "  }\n",
              "\n",
              "  .colab-df-quickchart {\n",
              "    background-color: var(--bg-color);\n",
              "    border: none;\n",
              "    border-radius: 50%;\n",
              "    cursor: pointer;\n",
              "    display: none;\n",
              "    fill: var(--fill-color);\n",
              "    height: 32px;\n",
              "    padding: 0;\n",
              "    width: 32px;\n",
              "  }\n",
              "\n",
              "  .colab-df-quickchart:hover {\n",
              "    background-color: var(--hover-bg-color);\n",
              "    box-shadow: 0 1px 2px rgba(60, 64, 67, 0.3), 0 1px 3px 1px rgba(60, 64, 67, 0.15);\n",
              "    fill: var(--button-hover-fill-color);\n",
              "  }\n",
              "\n",
              "  .colab-df-quickchart-complete:disabled,\n",
              "  .colab-df-quickchart-complete:disabled:hover {\n",
              "    background-color: var(--disabled-bg-color);\n",
              "    fill: var(--disabled-fill-color);\n",
              "    box-shadow: none;\n",
              "  }\n",
              "\n",
              "  .colab-df-spinner {\n",
              "    border: 2px solid var(--fill-color);\n",
              "    border-color: transparent;\n",
              "    border-bottom-color: var(--fill-color);\n",
              "    animation:\n",
              "      spin 1s steps(1) infinite;\n",
              "  }\n",
              "\n",
              "  @keyframes spin {\n",
              "    0% {\n",
              "      border-color: transparent;\n",
              "      border-bottom-color: var(--fill-color);\n",
              "      border-left-color: var(--fill-color);\n",
              "    }\n",
              "    20% {\n",
              "      border-color: transparent;\n",
              "      border-left-color: var(--fill-color);\n",
              "      border-top-color: var(--fill-color);\n",
              "    }\n",
              "    30% {\n",
              "      border-color: transparent;\n",
              "      border-left-color: var(--fill-color);\n",
              "      border-top-color: var(--fill-color);\n",
              "      border-right-color: var(--fill-color);\n",
              "    }\n",
              "    40% {\n",
              "      border-color: transparent;\n",
              "      border-right-color: var(--fill-color);\n",
              "      border-top-color: var(--fill-color);\n",
              "    }\n",
              "    60% {\n",
              "      border-color: transparent;\n",
              "      border-right-color: var(--fill-color);\n",
              "    }\n",
              "    80% {\n",
              "      border-color: transparent;\n",
              "      border-right-color: var(--fill-color);\n",
              "      border-bottom-color: var(--fill-color);\n",
              "    }\n",
              "    90% {\n",
              "      border-color: transparent;\n",
              "      border-bottom-color: var(--fill-color);\n",
              "    }\n",
              "  }\n",
              "</style>\n",
              "\n",
              "  <script>\n",
              "    async function quickchart(key) {\n",
              "      const quickchartButtonEl =\n",
              "        document.querySelector('#' + key + ' button');\n",
              "      quickchartButtonEl.disabled = true;  // To prevent multiple clicks.\n",
              "      quickchartButtonEl.classList.add('colab-df-spinner');\n",
              "      try {\n",
              "        const charts = await google.colab.kernel.invokeFunction(\n",
              "            'suggestCharts', [key], {});\n",
              "      } catch (error) {\n",
              "        console.error('Error during call to suggestCharts:', error);\n",
              "      }\n",
              "      quickchartButtonEl.classList.remove('colab-df-spinner');\n",
              "      quickchartButtonEl.classList.add('colab-df-quickchart-complete');\n",
              "    }\n",
              "    (() => {\n",
              "      let quickchartButtonEl =\n",
              "        document.querySelector('#df-2f8d32f9-6345-4e8a-8494-fa174b48d684 button');\n",
              "      quickchartButtonEl.style.display =\n",
              "        google.colab.kernel.accessAllowed ? 'block' : 'none';\n",
              "    })();\n",
              "  </script>\n",
              "</div>\n",
              "\n",
              "  <div id=\"id_1d7e95b0-d41a-4123-b2ed-96ab3324d476\">\n",
              "    <style>\n",
              "      .colab-df-generate {\n",
              "        background-color: #E8F0FE;\n",
              "        border: none;\n",
              "        border-radius: 50%;\n",
              "        cursor: pointer;\n",
              "        display: none;\n",
              "        fill: #1967D2;\n",
              "        height: 32px;\n",
              "        padding: 0 0 0 0;\n",
              "        width: 32px;\n",
              "      }\n",
              "\n",
              "      .colab-df-generate:hover {\n",
              "        background-color: #E2EBFA;\n",
              "        box-shadow: 0px 1px 2px rgba(60, 64, 67, 0.3), 0px 1px 3px 1px rgba(60, 64, 67, 0.15);\n",
              "        fill: #174EA6;\n",
              "      }\n",
              "\n",
              "      [theme=dark] .colab-df-generate {\n",
              "        background-color: #3B4455;\n",
              "        fill: #D2E3FC;\n",
              "      }\n",
              "\n",
              "      [theme=dark] .colab-df-generate:hover {\n",
              "        background-color: #434B5C;\n",
              "        box-shadow: 0px 1px 3px 1px rgba(0, 0, 0, 0.15);\n",
              "        filter: drop-shadow(0px 1px 2px rgba(0, 0, 0, 0.3));\n",
              "        fill: #FFFFFF;\n",
              "      }\n",
              "    </style>\n",
              "    <button class=\"colab-df-generate\" onclick=\"generateWithVariable('df')\"\n",
              "            title=\"Generate code using this dataframe.\"\n",
              "            style=\"display:none;\">\n",
              "\n",
              "  <svg xmlns=\"http://www.w3.org/2000/svg\" height=\"24px\"viewBox=\"0 0 24 24\"\n",
              "       width=\"24px\">\n",
              "    <path d=\"M7,19H8.4L18.45,9,17,7.55,7,17.6ZM5,21V16.75L18.45,3.32a2,2,0,0,1,2.83,0l1.4,1.43a1.91,1.91,0,0,1,.58,1.4,1.91,1.91,0,0,1-.58,1.4L9.25,21ZM18.45,9,17,7.55Zm-12,3A5.31,5.31,0,0,0,4.9,8.1,5.31,5.31,0,0,0,1,6.5,5.31,5.31,0,0,0,4.9,4.9,5.31,5.31,0,0,0,6.5,1,5.31,5.31,0,0,0,8.1,4.9,5.31,5.31,0,0,0,12,6.5,5.46,5.46,0,0,0,6.5,12Z\"/>\n",
              "  </svg>\n",
              "    </button>\n",
              "    <script>\n",
              "      (() => {\n",
              "      const buttonEl =\n",
              "        document.querySelector('#id_1d7e95b0-d41a-4123-b2ed-96ab3324d476 button.colab-df-generate');\n",
              "      buttonEl.style.display =\n",
              "        google.colab.kernel.accessAllowed ? 'block' : 'none';\n",
              "\n",
              "      buttonEl.onclick = () => {\n",
              "        google.colab.notebook.generateWithVariable('df');\n",
              "      }\n",
              "      })();\n",
              "    </script>\n",
              "  </div>\n",
              "\n",
              "    </div>\n",
              "  </div>\n"
            ],
            "application/vnd.google.colaboratory.intrinsic+json": {
              "type": "dataframe",
              "variable_name": "df",
              "summary": "{\n  \"name\": \"df\",\n  \"rows\": 100,\n  \"fields\": [\n    {\n      \"column\": \"agent 1\",\n      \"properties\": {\n        \"dtype\": \"number\",\n        \"std\": 10.101311645909952,\n        \"min\": 69.95503032651786,\n        \"max\": 127.53511077803488,\n        \"num_unique_values\": 100,\n        \"samples\": [\n          100.44310774721744,\n          102.62357502865778,\n          92.3817418417511\n        ],\n        \"semantic_type\": \"\",\n        \"description\": \"\"\n      }\n    },\n    {\n      \"column\": \"agent 2\",\n      \"properties\": {\n        \"dtype\": \"number\",\n        \"std\": 19.630937491663488,\n        \"min\": 62.39312256075894,\n        \"max\": 159.05477354262794,\n        \"num_unique_values\": 100,\n        \"samples\": [\n          110.81602309554411,\n          123.40746311030891,\n          98.93706764587077\n        ],\n        \"semantic_type\": \"\",\n        \"description\": \"\"\n      }\n    },\n    {\n      \"column\": \"agent 3\",\n      \"properties\": {\n        \"dtype\": \"number\",\n        \"std\": 5.408450916087206,\n        \"min\": 58.72030263480244,\n        \"max\": 83.35582163251848,\n        \"num_unique_values\": 100,\n        \"samples\": [\n          65.26734811285637,\n          69.3717937068588,\n          62.458061587512006\n        ],\n        \"semantic_type\": \"\",\n        \"description\": \"\"\n      }\n    }\n  ]\n}"
            }
          },
          "metadata": {},
          "execution_count": 11
        }
      ]
    },
    {
      "cell_type": "markdown",
      "source": [
        "# **Charts**"
      ],
      "metadata": {
        "id": "mL7QZj6Jpd9d"
      }
    },
    {
      "cell_type": "markdown",
      "source": [
        "#Line Charts\n",
        "Plot run time as a function of problem size\n",
        ". This can be used to compare the runtime and look at scalability."
      ],
      "metadata": {
        "id": "S9nouu5spu5m"
      }
    },
    {
      "cell_type": "code",
      "source": [
        "import matplotlib.pyplot as plt\n",
        "\n",
        "# add a grid to the plots\n",
        "import seaborn as sns\n",
        "sns.set(style=\"whitegrid\")"
      ],
      "metadata": {
        "id": "CtpzrQ3BpOEq"
      },
      "execution_count": null,
      "outputs": []
    },
    {
      "cell_type": "code",
      "source": [
        "x = range(N)\n",
        "plt.plot(x, runtime[\"agent 1\"], label = \"agent1\")\n",
        "plt.plot(x, runtime[\"agent 2\"], label = \"agent2\")\n",
        "plt.plot(x, runtime[\"agent 3\"], label = \"agent3\")\n",
        "plt.xlabel(\"Problem size\")\n",
        "plt.ylabel(\"Run time in seconds\")\n",
        "plt.legend()\n",
        "plt.show()"
      ],
      "metadata": {
        "colab": {
          "base_uri": "https://localhost:8080/",
          "height": 458
        },
        "id": "-mV_ElIjqt73",
        "outputId": "573587bd-be7f-4029-b26e-5b8365688adf"
      },
      "execution_count": null,
      "outputs": [
        {
          "output_type": "display_data",
          "data": {
            "text/plain": [
              "<Figure size 640x480 with 1 Axes>"
            ],
            "image/png": "[encoded data removed]"
          },
          "metadata": {}
        }
      ]
    },
    {
      "cell_type": "markdown",
      "source": [
        "# Scatter plots\n",
        "Scatter plots\n",
        "Compare N runs of a fixed problem size of n=10\n",
        ". Here the runtimes of the two agents are not correlated (because I randomly generated the data). Most of the points are above the diagonal indicating that agent 2 has higher performance."
      ],
      "metadata": {
        "id": "nSpyxRoDq3AK"
      }
    },
    {
      "cell_type": "code",
      "source": [
        "plt.scatter(performance[\"agent 1\"], performance[\"agent 2\"])\n",
        "plt.xlabel(\"Performance agent 1\")\n",
        "plt.ylabel(\"Performance agent 2\")\n",
        "plt.plot([0, 180], [0, 180], \"--\", color = \"black\")\n",
        "plt.show()"
      ],
      "metadata": {
        "colab": {
          "base_uri": "https://localhost:8080/",
          "height": 458
        },
        "id": "vKyydEyYqw0a",
        "outputId": "cca39743-7400-4ca1-c9dd-568729f18e0e"
      },
      "execution_count": null,
      "outputs": [
        {
          "output_type": "display_data",
          "data": {
            "text/plain": [
              "<Figure size 640x480 with 1 Axes>"
            ],
            "image/png": "[encoded data removed]"
          },
          "metadata": {}
        }
      ]
    },
    {
      "cell_type": "markdown",
      "source": [
        "#Bar plots\n",
        "Compare the average performance performance."
      ],
      "metadata": {
        "id": "PvpB2cEyro3N"
      }
    },
    {
      "cell_type": "code",
      "source": [
        "mean_performance = np.mean(list(performance.values()), axis = 1)\n",
        "\n",
        "print(f\"Mean performance: {mean_performance}\")\n",
        "\n",
        "plt.bar(performance.keys(), mean_performance)\n",
        "plt.ylabel(\"Mean performance\")\n",
        "plt.show()"
      ],
      "metadata": {
        "colab": {
          "base_uri": "https://localhost:8080/",
          "height": 452
        },
        "id": "2OWaKtc1rUkw",
        "outputId": "3b56156e-490b-41c6-f6c2-d55ebac1fb00"
      },
      "execution_count": null,
      "outputs": [
        {
          "output_type": "stream",
          "name": "stdout",
          "text": [
            "Mean performance: [100.42640023 115.89076104  70.02237947]\n"
          ]
        },
        {
          "output_type": "display_data",
          "data": {
            "text/plain": [
              "<Figure size 640x480 with 1 Axes>"
            ],
            "image/png": "[encoded data removed]"
          },
          "metadata": {}
        }
      ]
    },
    {
      "cell_type": "markdown",
      "source": [
        "#Histograms\n",
        "Show the distribution of the performance for an agent."
      ],
      "metadata": {
        "id": "RmIgmghUryIN"
      }
    },
    {
      "cell_type": "code",
      "source": [
        "plt.hist(performance[\"agent 1\"], bins = 20)\n",
        "plt.xlabel(\"Performance of agent 1\")\n",
        "plt.ylabel(\"Frequency\")\n",
        "plt.show()"
      ],
      "metadata": {
        "colab": {
          "base_uri": "https://localhost:8080/",
          "height": 458
        },
        "id": "x07Kafn6rtvu",
        "outputId": "8f794786-bd67-4bd8-e11a-51a8c5f05b62"
      },
      "execution_count": null,
      "outputs": [
        {
          "output_type": "display_data",
          "data": {
            "text/plain": [
              "<Figure size 640x480 with 1 Axes>"
            ],
            "image/png": "[encoded data removed]"
          },
          "metadata": {}
        }
      ]
    },
    {
      "cell_type": "markdown",
      "source": [
        "Use histograms to compare the performance distribution between agents."
      ],
      "metadata": {
        "id": "HCrSem-tr5W9"
      }
    },
    {
      "cell_type": "code",
      "source": [],
      "metadata": {
        "id": "hyyxKVKrm1j-"
      },
      "execution_count": null,
      "outputs": []
    },
    {
      "cell_type": "code",
      "source": [
        "plt.hist(performance[\"agent 1\"], bins = 20, alpha = .4, density=True)\n",
        "plt.hist(performance[\"agent 2\"], bins = 20, alpha = .4, density=True)\n",
        "plt.hist(performance[\"agent 3\"], bins = 20, alpha = .4, density=True)\n",
        "plt.xlabel(\"Performance\")\n",
        "plt.ylabel(\"Density\")\n",
        "plt.legend(labels = [\"agent 1\", \"agent 2\", \"agent 3\"])\n",
        "plt.show()"
      ],
      "metadata": {
        "colab": {
          "base_uri": "https://localhost:8080/",
          "height": 458
        },
        "id": "ZqfKtgU8r4YR",
        "outputId": "06bbee71-93d8-421c-ac6d-a45548ca9912"
      },
      "execution_count": null,
      "outputs": [
        {
          "output_type": "display_data",
          "data": {
            "text/plain": [
              "<Figure size 640x480 with 1 Axes>"
            ],
            "image/png": "[encoded data removed]"
          },
          "metadata": {}
        }
      ]
    },
    {
      "cell_type": "markdown",
      "source": [
        "#Boxplots\n",
        "Compares distributions using a simplified representation of the histogram as a box (containing the middle 50% of the data) with wiskers. The notches (cutouts) around the median show the 95% confidence interval around the median. If the notches between two boxes do not overlap, then one is significantly better than the other (at a p-value of 0.05). In this case, agent 2 is significantly better than agent 1."
      ],
      "metadata": {
        "id": "nq85CGLKsBgD"
      }
    },
    {
      "cell_type": "code",
      "source": [
        "bplot = plt.boxplot(list(performance.values()),\n",
        "                     notch = True,                 # show 95% confidence intervals around the median\n",
        "                     bootstrap = 1000,             # used to calculate the notches\n",
        "                     vert = True,                  # vertical box alignment\n",
        "                     patch_artist = True,          # fill with color\n",
        "                     labels = performance.keys())  # will be used to label x-ticks\n",
        "plt.ylabel(\"Performance\")\n",
        "plt.show()"
      ],
      "metadata": {
        "colab": {
          "base_uri": "https://localhost:8080/",
          "height": 434
        },
        "id": "Dld4gSYasK_x",
        "outputId": "abfccc51-afc0-4fc7-aecb-fc4c3092a00b"
      },
      "execution_count": null,
      "outputs": [
        {
          "output_type": "display_data",
          "data": {
            "text/plain": [
              "<Figure size 640x480 with 1 Axes>"
            ],
            "image/png": "[encoded data removed]"
          },
          "metadata": {}
        }
      ]
    },
    {
      "cell_type": "markdown",
      "source": [
        "#Show Tables\n",
        "Tables in code can be printed in several ways. The easiest is to use pandas dataframes. Unfortunately, it cannot print custom row names.\n",
        "\n"
      ],
      "metadata": {
        "id": "CI57gakXskuC"
      }
    },
    {
      "cell_type": "code",
      "source": [
        "import numpy as np\n",
        "\n",
        "data = np.array([[1, 2], [3 ,4], [5, 6]])\n",
        "\n",
        "print(data)"
      ],
      "metadata": {
        "colab": {
          "base_uri": "https://localhost:8080/"
        },
        "id": "S1XTKBlwsAnr",
        "outputId": "f1841d14-c767-44f5-84a3-45ad1d511bc7"
      },
      "execution_count": null,
      "outputs": [
        {
          "output_type": "stream",
          "name": "stdout",
          "text": [
            "[[1 2]\n",
            " [3 4]\n",
            " [5 6]]\n"
          ]
        }
      ]
    },
    {
      "cell_type": "code",
      "source": [
        "import pandas as pd\n",
        "pd.DataFrame(data, columns=[\"x\", \"y\"])"
      ],
      "metadata": {
        "colab": {
          "base_uri": "https://localhost:8080/",
          "height": 143
        },
        "id": "-ZIzftK-s5ut",
        "outputId": "19074f18-26b5-4dee-dd3e-85d7aa77e239"
      },
      "execution_count": null,
      "outputs": [
        {
          "output_type": "execute_result",
          "data": {
            "text/plain": [
              "   x  y\n",
              "0  1  2\n",
              "1  3  4\n",
              "2  5  6"
            ],
            "text/html": [
              "\n",
              "  <div id=\"df-7c283ce0-1db7-4dd0-af78-a53ae7e3c14f\" class=\"colab-df-container\">\n",
              "    <div>\n",
              "<style scoped>\n",
              "    .dataframe tbody tr th:only-of-type {\n",
              "        vertical-align: middle;\n",
              "    }\n",
              "\n",
              "    .dataframe tbody tr th {\n",
              "        vertical-align: top;\n",
              "    }\n",
              "\n",
              "    .dataframe thead th {\n",
              "        text-align: right;\n",
              "    }\n",
              "</style>\n",
              "<table border=\"1\" class=\"dataframe\">\n",
              "  <thead>\n",
              "    <tr style=\"text-align: right;\">\n",
              "      <th></th>\n",
              "      <th>x</th>\n",
              "      <th>y</th>\n",
              "    </tr>\n",
              "  </thead>\n",
              "  <tbody>\n",
              "    <tr>\n",
              "      <th>0</th>\n",
              "      <td>1</td>\n",
              "      <td>2</td>\n",
              "    </tr>\n",
              "    <tr>\n",
              "      <th>1</th>\n",
              "      <td>3</td>\n",
              "      <td>4</td>\n",
              "    </tr>\n",
              "    <tr>\n",
              "      <th>2</th>\n",
              "      <td>5</td>\n",
              "      <td>6</td>\n",
              "    </tr>\n",
              "  </tbody>\n",
              "</table>\n",
              "</div>\n",
              "    <div class=\"colab-df-buttons\">\n",
              "\n",
              "  <div class=\"colab-df-container\">\n",
              "    <button class=\"colab-df-convert\" onclick=\"convertToInteractive('df-7c283ce0-1db7-4dd0-af78-a53ae7e3c14f')\"\n",
              "            title=\"Convert this dataframe to an interactive table.\"\n",
              "            style=\"display:none;\">\n",
              "\n",
              "  <svg xmlns=\"http://www.w3.org/2000/svg\" height=\"24px\" viewBox=\"0 -960 960 960\">\n",
              "    <path d=\"M120-120v-720h720v720H120Zm60-500h600v-160H180v160Zm220 220h160v-160H400v160Zm0 220h160v-160H400v160ZM180-400h160v-160H180v160Zm440 0h160v-160H620v160ZM180-180h160v-160H180v160Zm440 0h160v-160H620v160Z\"/>\n",
              "  </svg>\n",
              "    </button>\n",
              "\n",
              "  <style>\n",
              "    .colab-df-container {\n",
              "      display:flex;\n",
              "      gap: 12px;\n",
              "    }\n",
              "\n",
              "    .colab-df-convert {\n",
              "      background-color: #E8F0FE;\n",
              "      border: none;\n",
              "      border-radius: 50%;\n",
              "      cursor: pointer;\n",
              "      display: none;\n",
              "      fill: #1967D2;\n",
              "      height: 32px;\n",
              "      padding: 0 0 0 0;\n",
              "      width: 32px;\n",
              "    }\n",
              "\n",
              "    .colab-df-convert:hover {\n",
              "      background-color: #E2EBFA;\n",
              "      box-shadow: 0px 1px 2px rgba(60, 64, 67, 0.3), 0px 1px 3px 1px rgba(60, 64, 67, 0.15);\n",
              "      fill: #174EA6;\n",
              "    }\n",
              "\n",
              "    .colab-df-buttons div {\n",
              "      margin-bottom: 4px;\n",
              "    }\n",
              "\n",
              "    [theme=dark] .colab-df-convert {\n",
              "      background-color: #3B4455;\n",
              "      fill: #D2E3FC;\n",
              "    }\n",
              "\n",
              "    [theme=dark] .colab-df-convert:hover {\n",
              "      background-color: #434B5C;\n",
              "      box-shadow: 0px 1px 3px 1px rgba(0, 0, 0, 0.15);\n",
              "      filter: drop-shadow(0px 1px 2px rgba(0, 0, 0, 0.3));\n",
              "      fill: #FFFFFF;\n",
              "    }\n",
              "  </style>\n",
              "\n",
              "    <script>\n",
              "      const buttonEl =\n",
              "        document.querySelector('#df-7c283ce0-1db7-4dd0-af78-a53ae7e3c14f button.colab-df-convert');\n",
              "      buttonEl.style.display =\n",
              "        google.colab.kernel.accessAllowed ? 'block' : 'none';\n",
              "\n",
              "      async function convertToInteractive(key) {\n",
              "        const element = document.querySelector('#df-7c283ce0-1db7-4dd0-af78-a53ae7e3c14f');\n",
              "        const dataTable =\n",
              "          await google.colab.kernel.invokeFunction('convertToInteractive',\n",
              "                                                    [key], {});\n",
              "        if (!dataTable) return;\n",
              "\n",
              "        const docLinkHtml = 'Like what you see? Visit the ' +\n",
              "          '<a target=\"_blank\" href=https://colab.research.google.com/notebooks/data_table.ipynb>data table notebook</a>'\n",
              "          + ' to learn more about interactive tables.';\n",
              "        element.innerHTML = '';\n",
              "        dataTable['output_type'] = 'display_data';\n",
              "        await google.colab.output.renderOutput(dataTable, element);\n",
              "        const docLink = document.createElement('div');\n",
              "        docLink.innerHTML = docLinkHtml;\n",
              "        element.appendChild(docLink);\n",
              "      }\n",
              "    </script>\n",
              "  </div>\n",
              "\n",
              "\n",
              "<div id=\"df-8485d55f-15f8-436f-adc3-9936691f5887\">\n",
              "  <button class=\"colab-df-quickchart\" onclick=\"quickchart('df-8485d55f-15f8-436f-adc3-9936691f5887')\"\n",
              "            title=\"Suggest charts\"\n",
              "            style=\"display:none;\">\n",
              "\n",
              "<svg xmlns=\"http://www.w3.org/2000/svg\" height=\"24px\"viewBox=\"0 0 24 24\"\n",
              "     width=\"24px\">\n",
              "    <g>\n",
              "        <path d=\"M19 3H5c-1.1 0-2 .9-2 2v14c0 1.1.9 2 2 2h14c1.1 0 2-.9 2-2V5c0-1.1-.9-2-2-2zM9 17H7v-7h2v7zm4 0h-2V7h2v10zm4 0h-2v-4h2v4z\"/>\n",
              "    </g>\n",
              "</svg>\n",
              "  </button>\n",
              "\n",
              "<style>\n",
              "  .colab-df-quickchart {\n",
              "      --bg-color: #E8F0FE;\n",
              "      --fill-color: #1967D2;\n",
              "      --hover-bg-color: #E2EBFA;\n",
              "      --hover-fill-color: #174EA6;\n",
              "      --disabled-fill-color: #AAA;\n",
              "      --disabled-bg-color: #DDD;\n",
              "  }\n",
              "\n",
              "  [theme=dark] .colab-df-quickchart {\n",
              "      --bg-color: #3B4455;\n",
              "      --fill-color: #D2E3FC;\n",
              "      --hover-bg-color: #434B5C;\n",
              "      --hover-fill-color: #FFFFFF;\n",
              "      --disabled-bg-color: #3B4455;\n",
              "      --disabled-fill-color: #666;\n",
              "  }\n",
              "\n",
              "  .colab-df-quickchart {\n",
              "    background-color: var(--bg-color);\n",
              "    border: none;\n",
              "    border-radius: 50%;\n",
              "    cursor: pointer;\n",
              "    display: none;\n",
              "    fill: var(--fill-color);\n",
              "    height: 32px;\n",
              "    padding: 0;\n",
              "    width: 32px;\n",
              "  }\n",
              "\n",
              "  .colab-df-quickchart:hover {\n",
              "    background-color: var(--hover-bg-color);\n",
              "    box-shadow: 0 1px 2px rgba(60, 64, 67, 0.3), 0 1px 3px 1px rgba(60, 64, 67, 0.15);\n",
              "    fill: var(--button-hover-fill-color);\n",
              "  }\n",
              "\n",
              "  .colab-df-quickchart-complete:disabled,\n",
              "  .colab-df-quickchart-complete:disabled:hover {\n",
              "    background-color: var(--disabled-bg-color);\n",
              "    fill: var(--disabled-fill-color);\n",
              "    box-shadow: none;\n",
              "  }\n",
              "\n",
              "  .colab-df-spinner {\n",
              "    border: 2px solid var(--fill-color);\n",
              "    border-color: transparent;\n",
              "    border-bottom-color: var(--fill-color);\n",
              "    animation:\n",
              "      spin 1s steps(1) infinite;\n",
              "  }\n",
              "\n",
              "  @keyframes spin {\n",
              "    0% {\n",
              "      border-color: transparent;\n",
              "      border-bottom-color: var(--fill-color);\n",
              "      border-left-color: var(--fill-color);\n",
              "    }\n",
              "    20% {\n",
              "      border-color: transparent;\n",
              "      border-left-color: var(--fill-color);\n",
              "      border-top-color: var(--fill-color);\n",
              "    }\n",
              "    30% {\n",
              "      border-color: transparent;\n",
              "      border-left-color: var(--fill-color);\n",
              "      border-top-color: var(--fill-color);\n",
              "      border-right-color: var(--fill-color);\n",
              "    }\n",
              "    40% {\n",
              "      border-color: transparent;\n",
              "      border-right-color: var(--fill-color);\n",
              "      border-top-color: var(--fill-color);\n",
              "    }\n",
              "    60% {\n",
              "      border-color: transparent;\n",
              "      border-right-color: var(--fill-color);\n",
              "    }\n",
              "    80% {\n",
              "      border-color: transparent;\n",
              "      border-right-color: var(--fill-color);\n",
              "      border-bottom-color: var(--fill-color);\n",
              "    }\n",
              "    90% {\n",
              "      border-color: transparent;\n",
              "      border-bottom-color: var(--fill-color);\n",
              "    }\n",
              "  }\n",
              "</style>\n",
              "\n",
              "  <script>\n",
              "    async function quickchart(key) {\n",
              "      const quickchartButtonEl =\n",
              "        document.querySelector('#' + key + ' button');\n",
              "      quickchartButtonEl.disabled = true;  // To prevent multiple clicks.\n",
              "      quickchartButtonEl.classList.add('colab-df-spinner');\n",
              "      try {\n",
              "        const charts = await google.colab.kernel.invokeFunction(\n",
              "            'suggestCharts', [key], {});\n",
              "      } catch (error) {\n",
              "        console.error('Error during call to suggestCharts:', error);\n",
              "      }\n",
              "      quickchartButtonEl.classList.remove('colab-df-spinner');\n",
              "      quickchartButtonEl.classList.add('colab-df-quickchart-complete');\n",
              "    }\n",
              "    (() => {\n",
              "      let quickchartButtonEl =\n",
              "        document.querySelector('#df-8485d55f-15f8-436f-adc3-9936691f5887 button');\n",
              "      quickchartButtonEl.style.display =\n",
              "        google.colab.kernel.accessAllowed ? 'block' : 'none';\n",
              "    })();\n",
              "  </script>\n",
              "</div>\n",
              "\n",
              "    </div>\n",
              "  </div>\n"
            ],
            "application/vnd.google.colaboratory.intrinsic+json": {
              "type": "dataframe",
              "summary": "{\n  \"name\": \"pd\",\n  \"rows\": 3,\n  \"fields\": [\n    {\n      \"column\": \"x\",\n      \"properties\": {\n        \"dtype\": \"number\",\n        \"std\": 2,\n        \"min\": 1,\n        \"max\": 5,\n        \"num_unique_values\": 3,\n        \"samples\": [\n          1,\n          3,\n          5\n        ],\n        \"semantic_type\": \"\",\n        \"description\": \"\"\n      }\n    },\n    {\n      \"column\": \"y\",\n      \"properties\": {\n        \"dtype\": \"number\",\n        \"std\": 2,\n        \"min\": 2,\n        \"max\": 6,\n        \"num_unique_values\": 3,\n        \"samples\": [\n          2,\n          4,\n          6\n        ],\n        \"semantic_type\": \"\",\n        \"description\": \"\"\n      }\n    }\n  ]\n}"
            }
          },
          "metadata": {},
          "execution_count": 20
        }
      ]
    },
    {
      "cell_type": "code",
      "source": [],
      "metadata": {
        "id": "Ne_C4SY_s-Bj"
      },
      "execution_count": null,
      "outputs": []
    },
    {
      "cell_type": "markdown",
      "metadata": {
        "id": "G8AfFZZnCdUC"
      },
      "source": [
        "# **[How to use random numbers and arrays in numpy]**\n",
        "\n",
        "Random number generators are defined in package `numpy`. See: https://numpy.org/doc/stable/reference/random/\n",
        "\n",
        "The following example throws a fair coin where `True` represents head and `False` is tail (i.e., head is false)."
      ]
    },
    {
      "cell_type": "code",
      "execution_count": null,
      "metadata": {
        "id": "RhPJdTX_CdUG",
        "outputId": "0c4a5610-53b6-498a-9f7e-fa63f97ac008"
      },
      "outputs": [
        {
          "name": "stdout",
          "output_type": "stream",
          "text": [
            "True\n",
            "False\n",
            "False\n",
            "True\n",
            "False\n"
          ]
        }
      ],
      "source": [
        "import numpy as np\n",
        "\n",
        "# initialize a new random number generator\n",
        "rng = np.random.default_rng()\n",
        "\n",
        "p = .5\n",
        "\n",
        "for i in range(5):\n",
        "    print(rng.random() < p)"
      ]
    },
    {
      "cell_type": "markdown",
      "metadata": {
        "id": "WAYffqz5CdUH"
      },
      "source": [
        "A useful function is `random.choice`. Here is again a fair coin."
      ]
    },
    {
      "cell_type": "code",
      "execution_count": null,
      "metadata": {
        "id": "yRoc06okCdUI",
        "outputId": "315f7ac6-cd01-4685-e461-ef160837e14b"
      },
      "outputs": [
        {
          "data": {
            "text/plain": [
              "array([False,  True, False, False, False])"
            ]
          },
          "execution_count": 2,
          "metadata": {},
          "output_type": "execute_result"
        }
      ],
      "source": [
        "rng.choice([True, False], size = 5, p = [p, 1-p])"
      ]
    },
    {
      "cell_type": "markdown",
      "metadata": {
        "id": "PdHqxYUdCdUI"
      },
      "source": [
        "# Multi-dimensional arrays\n",
        "\n",
        "Package `numpy` provides a convenient way to work with multi-dimensional arrays."
      ]
    },
    {
      "cell_type": "code",
      "execution_count": null,
      "metadata": {
        "id": "o3C7pBfUCdUI",
        "outputId": "8c1c8f98-567d-4413-a5b1-7737eea9adf3"
      },
      "outputs": [
        {
          "name": "stdout",
          "output_type": "stream",
          "text": [
            "[[1 2 3]\n",
            " [4 5 6]]\n"
          ]
        }
      ],
      "source": [
        "import numpy as np\n",
        "\n",
        "arr = np.array([[1, 2, 3], [4, 5, 6]])\n",
        "\n",
        "print(arr)"
      ]
    },
    {
      "cell_type": "code",
      "execution_count": null,
      "metadata": {
        "id": "KqxXZMniCdUJ",
        "outputId": "0e2fe9f7-fea9-4dd6-e975-fd72cca94b0d"
      },
      "outputs": [
        {
          "data": {
            "text/plain": [
              "1"
            ]
          },
          "execution_count": 4,
          "metadata": {},
          "output_type": "execute_result"
        }
      ],
      "source": [
        "# access values using row and column index\n",
        "arr[0, 0]"
      ]
    },
    {
      "cell_type": "code",
      "execution_count": null,
      "metadata": {
        "id": "tl3ZIH7lCdUJ",
        "outputId": "97d476f3-25b5-48f5-bab1-e61d29d06463"
      },
      "outputs": [
        {
          "data": {
            "text/plain": [
              "21"
            ]
          },
          "execution_count": 5,
          "metadata": {},
          "output_type": "execute_result"
        }
      ],
      "source": [
        "# sum all elements of the array\n",
        "np.sum(arr)"
      ]
    },
    {
      "cell_type": "code",
      "execution_count": null,
      "metadata": {
        "id": "SgFPRWD0CdUJ",
        "outputId": "1b7ef384-a7e1-47e2-e9d6-539f90687644"
      },
      "outputs": [
        {
          "data": {
            "text/plain": [
              "array([ 9, 12, 15])"
            ]
          },
          "execution_count": 6,
          "metadata": {},
          "output_type": "execute_result"
        }
      ],
      "source": [
        "# dot product\n",
        "np.dot([1, 2], arr)"
      ]
    },
    {
      "cell_type": "code",
      "execution_count": null,
      "metadata": {
        "scrolled": true,
        "id": "eKufJP3KCdUK",
        "outputId": "a5a1e368-592b-4fac-d9f5-077fe7144aac"
      },
      "outputs": [
        {
          "data": {
            "text/plain": [
              "array([[1, 2],\n",
              "       [3, 4],\n",
              "       [5, 6]])"
            ]
          },
          "execution_count": 7,
          "metadata": {},
          "output_type": "execute_result"
        }
      ],
      "source": [
        "# reshape array dimenstions\n",
        "newarr = arr.reshape(3, 2)\n",
        "newarr"
      ]
    },
    {
      "cell_type": "markdown",
      "source": [],
      "metadata": {
        "id": "o03skEpssH5g"
      }
    },
    {
      "cell_type": "markdown",
      "source": [
        "# **[How to apply OOP concepts using python lanuage]**"
      ],
      "metadata": {
        "id": "Fg5NSxM10zmA"
      }
    },
    {
      "cell_type": "markdown",
      "source": [
        "**Python Classes/Objects**\n",
        "\n",
        "Python is an object oriented programming language.\n",
        "\n",
        "Almost everything in Python is an object, with its properties and methods.\n",
        "\n",
        "A Class is like an object constructor, or a \"blueprint\" for creating objects."
      ],
      "metadata": {
        "id": "M-UoMvsC2JVt"
      }
    },
    {
      "cell_type": "markdown",
      "source": [
        "**1) Define a class Car with attributes for make, model, and year. Include a method display_info that prints the car's details**"
      ],
      "metadata": {
        "id": "6m_f_0SqeTt3"
      }
    },
    {
      "cell_type": "code",
      "execution_count": null,
      "metadata": {
        "colab": {
          "base_uri": "https://localhost:8080/"
        },
        "id": "wS6Ot5V9GDjx",
        "outputId": "fbf0fc87-3ae5-4d26-9e67-14b82898762c"
      },
      "outputs": [
        {
          "output_type": "stream",
          "name": "stdout",
          "text": [
            "2020 Toyota Corolla\n"
          ]
        }
      ],
      "source": [
        "\n",
        "class Car:\n",
        "\n",
        "    def __init__(self, make, model, year):\n",
        "        self.make = make\n",
        "        self.model = model\n",
        "        self.year = year\n",
        "\n",
        "    def display_info(self):\n",
        "        print(f\"{self.year} {self.make} {self.model}\")\n",
        "\n",
        "my_car = Car('Toyota', 'Corolla', 2020)\n",
        "my_car.display_info()"
      ]
    },
    {
      "cell_type": "markdown",
      "source": [
        "\n",
        "\n",
        "*  All classes have a function called __init__(), which is always executed when the class is being initiated.\n",
        "*   Use the __init__() function to assign values to object properties, or other operations that are necessary to do when the object is being created\n",
        "\n",
        "\n",
        "*   The self parameter is a reference to the current instance of the class, and is used to access variables that belongs to the class.\n",
        "*  It does not have to be named self , you can call it whatever you like, but it has to be the first parameter of any function in the class\n"
      ],
      "metadata": {
        "id": "sJ0Iu5wyif9U"
      }
    },
    {
      "cell_type": "markdown",
      "source": [
        "**2) Create a base class Animal and a derived class Cat that overrides a method.**\n",
        "\n",
        "> Add blockquote\n",
        "\n"
      ],
      "metadata": {
        "id": "jteBCzVigTTA"
      }
    },
    {
      "cell_type": "code",
      "source": [
        "class Animal:\n",
        "    def sound(self):\n",
        "        return \"Some sound\"\n",
        "\n",
        "class Cat(Animal):\n",
        "    def sound(self):\n",
        "        return \"Meow\"\n",
        "\n",
        "my_animal= Cat()\n",
        "print(my_animal.sound())\n"
      ],
      "metadata": {
        "colab": {
          "base_uri": "https://localhost:8080/"
        },
        "id": "tM_DItRMedFi",
        "outputId": "5d1065f3-7e11-49e5-e670-bd8baf3370d8"
      },
      "execution_count": null,
      "outputs": [
        {
          "output_type": "stream",
          "name": "stdout",
          "text": [
            "Meow\n"
          ]
        }
      ]
    },
    {
      "cell_type": "markdown",
      "source": [
        "**3)XXX Create a Person class with private attributes for name and age, and public methods to set and get them.**\n",
        "enc."
      ],
      "metadata": {
        "id": "M_X-coVdhTDi"
      }
    },
    {
      "cell_type": "code",
      "source": [
        "class Person:\n",
        "    def __init__(self, name, age):\n",
        "        self.__name = name\n",
        "        self.__age = age\n",
        "\n",
        "    def set_name(self, name):\n",
        "        self.__name = name\n",
        "\n",
        "    def get_name(self):\n",
        "        return self.__name"
      ],
      "metadata": {
        "id": "uZ_coByUgik1"
      },
      "execution_count": null,
      "outputs": []
    },
    {
      "cell_type": "markdown",
      "source": [
        "**3.2)xxx Implement encapsulation in a class BankAccount to protect the balance attribute.**"
      ],
      "metadata": {
        "id": "I3-CQE_6qQVE"
      }
    },
    {
      "cell_type": "code",
      "source": [
        "class BankAccount:\n",
        "    def __init__(self):\n",
        "        self.__balance = 0  # Private attribute\n",
        "\n",
        "    def deposit(self, amount):\n",
        "        self.__balance += amount\n",
        "\n",
        "    def get_balance(self):\n",
        "        return self.__balance\n",
        "\n",
        "account = BankAccount()\n",
        "account.deposit(100)\n",
        "print(\"Balance:\", account.get_balance())\n"
      ],
      "metadata": {
        "colab": {
          "base_uri": "https://localhost:8080/"
        },
        "id": "2d6b8S-jqXkF",
        "outputId": "3159c63e-1ab3-41a1-cec7-923d86877b66"
      },
      "execution_count": null,
      "outputs": [
        {
          "output_type": "stream",
          "name": "stdout",
          "text": [
            "Balance: 100\n"
          ]
        }
      ]
    },
    {
      "cell_type": "markdown",
      "source": [
        "**4)Create a Counter that has a class attribute to count instances.**\n",
        "\n",
        "\n",
        "\n"
      ],
      "metadata": {
        "id": "B2u_Hc7ZkS4e"
      }
    },
    {
      "cell_type": "code",
      "source": [
        "class Counter:\n",
        "    count = 0        #class attribute: count is a class attebute(variable), meaning it is shared among all instances of the Counter class. It starts at 0.\n",
        "\n",
        "    def __init__(self):\n",
        "        Counter.count += 1  #  to use the class atribute inside instance method >> [className.classAttribute]\n"
      ],
      "metadata": {
        "id": "wuQ5relQhb9D"
      },
      "execution_count": null,
      "outputs": []
    },
    {
      "cell_type": "markdown",
      "source": [
        "**5) Implement a class that include a metode that print the name of each user and method that returns the number of instances created.**"
      ],
      "metadata": {
        "id": "nGuCNGDGodLn"
      }
    },
    {
      "cell_type": "code",
      "source": [
        "class Students:\n",
        "    count = 0\n",
        "    Restricted_list=[\"Dahab\", \"Fahd\", \"Ramy\"]\n",
        "\n",
        "    def __init__(self,first_name,middle_name,last_name):\n",
        "       self.fName= first_name\n",
        "       self.mName= middle_name\n",
        "       self.lName= last_name\n",
        "       Students.count += 1\n",
        "\n",
        "    @classmethod\n",
        "    def get_count(cls):\n",
        "        print(f\"The class has{cls.count} users \") #  to use the class atribute inside a class method >> [className.classAttribute]\n",
        "        return cls.count\n",
        "\n",
        "    def delete_user(self):\n",
        "        if self.fName in Students.Restricted_list:\n",
        "            Students.count-=1\n",
        "            return f\"Student{self.fName} is deleted\"\n",
        "\n",
        "print(Students.count)\n",
        "\n",
        "St1= Students(\"Ali\", \"Mohamed\",\"said\")\n",
        "St2= Students(\"Eman\", \"Mohamed\",\"khaled\")\n",
        "St3= Students(\"Fahd\", \"Ali\",\"Ali\")\n",
        "\n",
        "#print(Students.count)\n",
        "\n",
        "print(St1.delete_user())\n",
        "print(St2.delete_user())\n",
        "print(St3.delete_user())\n",
        "\n",
        "print(Students.count)"
      ],
      "metadata": {
        "id": "uuB_U4HooceK",
        "colab": {
          "base_uri": "https://localhost:8080/"
        },
        "outputId": "08eec6fc-0943-49d7-f621-cfa0c8756ab9"
      },
      "execution_count": null,
      "outputs": [
        {
          "output_type": "stream",
          "name": "stdout",
          "text": [
            "0\n",
            "None\n",
            "None\n",
            "StudentFahd is deleted\n",
            "2\n"
          ]
        }
      ]
    },
    {
      "cell_type": "markdown",
      "source": [
        "**6)  Create a static method in a class MathOperations to calculate the square of a number.**"
      ],
      "metadata": {
        "id": "iOAIa-NKoyEm"
      }
    },
    {
      "cell_type": "code",
      "source": [
        "#Static methods are used when you want to perform a function that is related to the class but does not need access to class or instance data.\n",
        "class MathOperations:\n",
        "    @staticmethod\n",
        "    def square(x):\n",
        "        return x ** 2\n",
        "\n",
        "print(\"Square of 5:\", MathOperations.square(5))\n"
      ],
      "metadata": {
        "colab": {
          "base_uri": "https://localhost:8080/"
        },
        "id": "Q_pQyad2oq3i",
        "outputId": "0340f279-393a-4b10-aaed-505a11b75f1e"
      },
      "execution_count": null,
      "outputs": [
        {
          "output_type": "stream",
          "name": "stdout",
          "text": [
            "Square of 5: 25\n"
          ]
        }
      ]
    },
    {
      "cell_type": "markdown",
      "source": [
        "Difference between instance method, class method, static method\n",
        "![image.png](data:image/png;base64,iVBORw0KGgoAAAANSUhEUgAAA8YAAAD7CAYAAAConY0vAAAAAXNSR0IArs4c6QAAAARnQU1BAACxjwv8YQUAAAAJcEhZcwAADsMAAA7DAcdvqGQAAHT3SURBVHhe7d0JvEzlGwfwx75HdsoerRQKkTVk35V93/cla/ad7GRJaBGKKApRpJS0WfojKnsh2fd1/uf33HnHuWPmzrn3zpVrfl+f+bhz5izvnPPu73vOxHFZhIiIiIiIiChExXX/T0RERERERBSS2DAmIiIiIiKikMaGMREREREREYU0NoyJiIiIiIgopLFhTERERERERCGNDWMiIiIiIiIKaVFqGPMXnoiIiIiIiOh+4eh3jLHKuXPn5OLFi3L16lW5fv26+xOimJEoUWIrrl1xvyMiIiIiIvIvXrx4kjhxYkmRIoU88MAD7qXOBWwYnzlzVk6fPiUJEiSQJEmSWQdLInHjcgY2xazDhw9IlizZ3e+I6H7C9E109zC9EVEoQJP25s2bOrB2+fJFuXbtmqRNm1ZSpkzpXiOwCFu4//zzj5w9e1ZSp04radKkl6RJk7FRTERERERERPeMOHHiSPz48SVZsuRWgziDtl8xwHv8+D/uNQLz28o9fvy4trTTp88oCRMmci8lIiIiIiIiundhlnO6dBnk/PlzjhvHPhvGGCW+cuWqjhITERERERERxSYYRc6cOYvVrr2i7dtA7mgYY372qVOnJFWqB91LiIiIiIiIiGIXNI4feCCl/Pvvv+4l/t3RMMbTp/GgLU6fJiIiIiIiotgM06oTJkyo7dyI3NEwvnDhoj59moiIiIiIiCi2Q/v2/Pnz7ne+3dEwvnbtqraqiYiIiIiIiGK7RIkS673GEQnXMMb9xdevX+dPMhEREREREdF9IV68ePo7xxEJ1wLGzclERERERERE9wsn7VwODRMREREREVFIY8OYiIiIiIiIQhobxkRERERERBTS2DAmIiIiIiKikMaGMREREREREYU0NoyJiIiIiIgopLFhTERERET3BPzO6K5dO+X48ePuJUREd0fQGsYzZrwhRZ4v7PP1y9Zf3GtF35UrV+Ts2TP6P5E3Ew+DGefg4sWLGu+uX7/uXnJvW7lyhZ6HGjWry/4DB9xLw/to2VJdp2WrlvrdnPKVBnEMHAvnPyaY7xPs60qx0/79+2XgoAFSslRxjReVq1SUd999Vy5fvuxeI+bjpBMxmQ595UlMhxRst27dks2bN0uz5k312uOFv7ds+V5cLpd7raiXkb7Kk//971dp07aNxuOo1PWwP6QnhHXmrBnhwmn8+++/0rx5M10H8dopnI9z587qC38bCGtE6Ty6Ynr/RBQm6CPG2bNnkyeeeDLcK1HChO5Po2/durXyUoWX9H+iu+Wdd97WePerVWDHJseOHZNffvnJ/e42FOobNmxwv4scpkH6L/34409aaV63bp1kypRJyxiYMfMN6de/r5w+fVrf30tiIh3G1jyJYg80KD9b9Zn06v2qpqt6r9STmjVryV9//S09X+0p6zesd68Z9fjoqzzJnTuPdO/eXapVqy6JEiVyL42aH7b8ICdPnnS/u23r1q2y+7fd7nfOnT9/Trr36KEv/E1E95egN4x79+4r8+bOC/d68smn3J+GTZFBZSCinkXT8+jdI4flV65c1b/xv/nc7PPChfOenkHvXj2zDvZh/rb3RDoJF8U+uN64rri+uK64vvZ4Yucr3mE9rH/lalhcuWSt47296fE2xzFMHDTrm/376wE34fPej2HCgnWwL6dQ8cY+7Xbt2i3btm1zv7uTCav3d8VyX2nQzh7OQGnce/+GPf36OhcUmjDKM2PGdP17yuQpsmjhB1rGLF/2ibRo3kK+//57q7L+pX7uj7/0atjjr7/4aeKvr/jvT7DSoQlfRHkS2L8H0yFFxcWLF+QLq8GaOXNmeWP6TOnWrbv06d1HZs+aJWnTppVvv92k5UCg+OgvzfkrT9AYLle2nDz22GMSJ04c/RzscRrbOoHGLxrBdpcuXZIv1/vPJxBGhMU77WD52bPnrP9v6At/+yrPA9U1/O3fzqxjzgkR3R137R5jZA6bNn0j1apXkfIvldcewho1q+kyk3Egs5oyZbL1WdjnWK9Fy+Y6bQ7QIzlh4nj9G/+bHrtDhw9Lk6ZN5PXXX5erV8MyWe9ePbPOtGnTZOSoEbpv9FA6CRfFXogzuO4rVnwidV+uo9e3QsUKMm/ePC14APFuzJgx4eJdh44d5ODBgxqfEK8+/PBDXffVXq964hm2X7R4kbVNOc92tWrXlJ9//lnXNXFw9OjRejyz/9p1auqol4H9fPzxMilbroxnP/XqvSzbt9+uMP/999/SuUsna52yug72hSliJr778/hjj2vFGxVw49q1a1opSJEihaRLl869NMxZqxAeNnyovFg2LCw43vARw3Q5+EuDBgr5t+bO8YQT53zbttuVEl/7HzDgNW3wGPiuXbp21vOAF9LrResaEe3YsUMrug0aNJBChQp7Ks0JEyaUChUqSuFCheTI4SNWurimy+0CpVfAyBLSuIm/Jn6aUeiI8oqIBDMdRpQnGUyHFAxIMxcuXpIECRJar/jupSI5c+aSj5d/IoMGDrbeuaJcRgaq0+Fzw1cZiPoi0qQ/Dz74oGTNmlXTmX29P/78wyqDf5Ac2bO7l4QJVB9EuJAmfvvtN329/ErdO2ZO/fH779KwUQPdFmGdNHmi59j+9v/52s/DNX53794ljRo38qS9ufPe8tuAJqLgCnrDGL2F6AUzL9NjtnfvHhkzdow8+ujj8s7b78iiRR/o31iGz7DO0qVLZcnSJdKhfUf57NNVMmrkaJ2y8/bb87VXrkKFCtKwYUM9Dv7v0rmzJEmSVN87tebz1RLH+jdxwkR56qm8AcNFsR8qe6tXr5auXbppQY6e7oWL3pedu3bq56vXrJKPP1kunTp1ltWr1sjMGbPk1KmTsuD9BRov69WvL+XKldN1u3btpu8TJEggX238St54Y7rUrFHLatiu0O3Q0z1r1kw5c+b2dM5vv/tWTlhhmDB+gjRr1sxKF+fknXfna08wYD/jJ0yQggWf0ziIkbA4ceNacXCsHDnyl/baowJw5MgRGT1qjKz4ZKW0aN5S3n//favBv0LD6M/zRZ+X3I/k1ooBKuJw6NAh2bz5O6lcqbI888wzugxQiZk3b658880m6d2rtx6nf7/X9D2W4/NAaXDFSis8t1wydep0/a4494s/+EArBjj+zJmzZO3atdKmdVvP/n/48UerIjVOvyfS+ezZs7QRge1nz5otWbNkk7lz57qPQKHsjz9+1/+fejJvuJEkQAV4ypRpmkYTJbrz9p1A6RXxG2keDcgRw0fI52s+1zII8fPjTz7WdBZRXmHSly/BTIdxrbzBX55kMB1SMCRPnkKKPl9U/rQakp06ddBGLgYqEEcNxLuolpFO63QoK8eOGyN79uzVNLF0yTKpU7uOhgf1Rn9lYObMD8mLZV7URjAaw4CwY/ZGmjRp5JVXXtFlRqD6YPp06aRHj56a1+CF8rhgwWfdW4fVNZYs+VDat+ugn+E2j2XLlmmHHuzcuVOGDhsmGTJkkjffnOPZ//Dhw+T77zfrOidPnpKp06bqvjBCj7R3/vx5Wf7xcv2ciGJW0BvG6C0M680Le6HnEIWsuRelQ/sOVkbwmPbUtWvbVjOpzZu/10pO48aNrcrIWqlXr55mWvnz55eHH3pIjvz1l1y9ekV7KbNnC+vhw/9PP/2MjhREBjIx3LtStGgxyW6FIVC4KPa7ceOGVu5Kly4tlSpVkubNm+s0rIPuh1ic/Dfs/qOUD6SUlClTaiX1nbfftSqL/a1COomO9mTKmEnXefTRR/V9vHjxtMBd+/k66dy5i2TMkEGnfeXJ86jVCD4hp8/cnjKZJUtWadmihRQuXESaNmkmpUqV1kbuyVOnNW18vXGjpEqVyhMHsV7fvv2kTJnSVjy8IXv27tXGNdIHvkP69Om1QEeFZdOmr7Ui6w/CXaJkSa2AoyKOCsQ3m77Rz0qWKiVx49zOAtAbvtEKS5UqVaR69Rp6nMqVK1uVl5fkhy1b9AmhgdJgwQIFrQpOIyn03HPSoH4DPZcnTpyQ69evyV9//20V/t/JCy8U1zRu3/9PP/8kB6zrcfTo37Jt+zZdp0njprp/fO/y5cq7j0ChDGkZ4sWPfNEVKL3euIFpkmc0PqdM+aA8YOUHpaw0suKTFdK8WXMtoyLKKyIqi4KZDlFh9pcnGUyHFAyIU40aNdLG7qXLYTP66jeop7Ou8LA7jApjnaiWkU7rdH/8+aeOMps08fDDD0nr1q01XKnTpPbkC74ULVZM65NoDKNed/ToMZ0CXqzYC/LQQ1nda4WN5gaqDyZLlkyezpdPUqR4QF8FCuTXaeaGva6BV/169XXZiRP/uNP813LZOo9tWreRfHnzefaPWSMbN36to8L79u3Tqd/4rnXr1NVzgvXtDXAiijlBbxgjo0IvtXmh5xBTRI5ZmRGmyAwbPkxatGyhL/ScoSfs/IVzmmkgU9i+Y7uMGDlcp9FgiklUHo4QkeRWxhY/fljPOjJ1J+Gi2C+x1cA17JVQQE83en+HDhuinTl9+/WVjV9v1EZrRBCv0Ys8ecokfbplterV5Isv1rk/vQ0FfcKEYXEOlet4cW8fHx0+6PjJkCGjpEuX1r1UpED+AtK6VRvJli2b/GU1olG4oifaxNFOnTrK1m3b5Ny581a68V8pgOJW5RZQEUelGg3x561GdTbrO9udPn1KHxK0ceNX0rpNaz0O/l+PaWiXL2tYA0FHgqmgJ0yYSNKkTqN/g9l/1ixZJGnSsFEBrJsndx7tqECF4PSZM9oA917nscce1b+J4OaNyN9zFyi9YpS5YoXK2kDu3KWjVKlaScuirdu2ekZ5o5pXANMhxUYY4UUDb8Unn+pIbd8+fbQzBQ+7W7BggTYa/XFaRgZiysCcOXJ44nWyZMk1XFUqVwk3W8Jb5kwPaSMYjWE0irf8sFlvmUDD1d7BFqz6oL2ukSbt7XRn9o8ZaxkyZnQvFavsz6Aj2xjRvnTpopU2/9bl9u+KkftcOXPq30QUs4LeMEZvIXqpzcvek50+XXpp2rSptGvXXl9oRE+cOFnKli2nFYuJkyZJ7969rErIdWnSuLFMmjRFexhjWkThst/3QfenHDlyyvx582XsmLFa8f39970yZMhgmTBhvN8KLwpIVAratW+nI0C1ateW18eN08I2plSuXNUTR9t36CgjR47SnviIRqoAFXlUwFERX7Vqlfz+x+/ak48Ksy/Fixf3HAevwYOHyWuvDdT7tWKS6bDy5ZaL6ZDEKg8e1///t/PXOyqpaGy+88478ulnn2onq4FbF9CwdZJen3vuWVm86AO95QIzN/CTND16dJf33ntPGwBRySsMpkOKbZCOMIsCHSaox2GktkaNWnorWq5cj8h3m7/T2+V8+S/KSF/iW41fHBON4VWrP9WR4+eeKySPWOH35b+qD+L8et8eYuBc3rzFh98R3Q1Bbxj7gh7HjJkyyqnTp/UhI6bR/MTjj0mqlA9I1ixZrYrLVa1kYJrpa/1f00woR/Ycej+wUxeszPvGjbAKETLBkydvP0jEFyfhMo16uj+hwEGF+s99+6RIkef1/qV333lXe5gxrfDosWPuNcND7y/uu0LHz5DBQ6Vqlao69SpevNsPKHEiadJkWkAfP35MR3EM/K4ieqt37vyfPPTww1bhHl97zJ979lmNowULFNA4itsBMDoUETScUQFHRRwP7MK0yieeCGtg2D34YGrJmDGjXLp0WZ55+mk9Do6XLm0aHdXC1LHoyJgho04dw7k2lSk0WHb8+qtOUcuaNYukTZNWK1+7du/y3IONBscvP/N3U0nkySef1KmYn3zysd6vZ6DRuvzjZRq/z5w5E24E6cqVy/r7xoHSKyq9eMDP8eNH5aWXXtLG8by5b3saABhJikpeYTAdUmyzf/8+qVe/nowZO1rvT4+MYJSR/1p1ODxIL2fOnBo3MapqRqhRx+vTt49O7/b1sD07lLFoDOMhmD/99JOmQzMTwojp+mDixIm1Yw3l/OHDh9xLRQ4eOiQHDuzX+i7ur0YHGsp7pEczU+XUqdOya9cu/ZuIYtZdaRijF6zCSxX0Pg/cc4wn8H333bcyfPhwrfzj6bvIcJInS6rTbnbs2K49jLPffFP2WxmGHfYBaz5fI4s/WKw9menTpdUGAqbKvDbgNf0h9CFDh0Y4xQechIvufys/XSkdOrSX+W/PswqfndqjjIdlIE4hbkEaq6IImM6MESlUohMnTqLToH/48QetUONhWLiHMDJQgceUTBTsI0aO1Dj4wQcfyKzZM3VqZ8aMmeUxqzJRvnx5WbhwoY6I4SE5eEpl6zat5J13375j5MwXTIFEBQVwr5KvyjWmTeJew9WrV1kV95k6Wvbhhx9Kp84dZeLECdrAAF9p0AlMGStbtrym02nTpmtaw3FwvNKlSmsD5KGHwqa9ofIy0jofmE46fvzrVsMk7MEkFNoQhxrUr6/TgTt2aq8zjJDft2zVQh8MhVsQKlao6F77NjywKlB6RcfT/LfnS9du3fQhkLiNBw/tO3jwgKZBdGI5ySsiEtx0GD5PcvrUWqZDcipr1mxSrGgx/c3wHj176APZkN7wIC40evGcC0zzhaiWkRGVJzdv3LTKt1saJxE3P/roI5n+xnT55ptvZNy4sRov0Wj29bA9OzSCixUtqn+j4fn440/o33ZO64OYUZEmdWqto741961I1RMx8IPjIx1j1giOgWPFjRtP6wGoDzzyyCN6zpEeJ02eJOvXr5fRY0bJ7t3Bva2QiHy7Kw1jQE/ZsKHDtddv8OBBmsn+tuc3fRompqwhc23RoqW4rMy0a7eu0rhJQ0mXNq32zNs980x+va9k+/btsnTph9priHtN2rdrr9Out2zZYlVW1kvHDh20khRIoHDR/Q2F4ct1X5a61mvRooVaAI4cNdKKO/mlb59+GrcADVP0MqMijCdBY2YCfjImV65cGm/wsw14CFY5q8IZWfmtOD3CKnyvXL6k+8LPOyBeYkQqTZrUWqhjOtdLVhjwEyxdunSyKhgLpEaNmppmnPRip0yZSh9CgvubcK+jrylb2A8etNOqZWtZtmyppsNp06dKvnxPS/fuPTznwlcadAL7x4Nc2rVtb1WCVmlaQyWqRvUa0rlLF+1Rxzr4ThhdwAPH0NGFB5O0bNnSvRcKdS9ZlddZM2dL3rz55OtvvpZ333tXR7bwQLrRY8Z4Ktp2qHAGSq8Y0W3bpq1V5hSW6dOn6T2RSG+In23attHPneQVEQlmOvTOk/BQHyeYDskpxAXECaSt3bt3ascR0tuZs+f010MQjxBXIKplpJPyxIQDcRRxtVfvV+WXrVvDykUrP3Aif/6C2ihFh0+mTLfv8bVzUh/EZ3iCNkaRlyxZonVOp7Jnz6b7z5gxk/5cGo6Bch/lP+oBgPSN74WOs+XLl8nQYYOtvwtKTau8J6KYF8flNdy0d+9eyZIl/G+7BRt6BNELiAzAu2KAXkZM78J9V8gM/TG9494PXcDIGx505KvCEUhE4aK76/DhAzEeD71hhgEK7ojiHuJX/PjxPJUBJB9sEydOXC0wo8PJvhDvUQFGHDVhiAnmXGBql3caM/ylQSec7N/csxlRPkCxU7DSN+IIbsNxmh6cplfEbTwIB6PEvuKnk7wiGJykE+88KTKYDkNDMNKbiSuAgQzMwvAlqmWk0/LkbpWBgeqD+F5IG0gXMVXfxDrokAt0TojIOeSHefLkcb+703/SMCYK5L9oGBPR3cH0TXT3ML0REYUJ1DC+a1OpiYiIiIiIiO5FbBgTERERERFRSGPDmIiIiIiIiEIaG8ZEREREREQU0tgwJiIiIiIiopDGhjERERERERGFNDaMiYiIiIiIKKSxYUxEREREREQhjQ1jIiIiIiIiCmlsGBMREREREVFIY8OYiIiIiIiIQhobxkRERERERBTS2DAmIiIiIiKikMaGMREREREREYU0NoyJiIiIiIgopMVxWdx/qwMHDsq1a1fd74j+GwkTJmI8JCIiIiKioMmTJ4/7rzvd0TDeu3dvhBsQ3Q2Mh0T3L6ZvoruH6Y2IKEyg/JBTqYmIiIiIiCiksWFMREREREREIY0NYyIiIiIiIgppbBgTERERERFRSGPDmIiIiIiIiEIaG8ZEREREREQU0tgwJiIiIiIiopDGhjERERERERGFNDaMiYiIiIiIKKSxYUxEREREREQhjQ1jIiIiIiIiCmlsGBMREREREVFIY8OYiIiIiIiIQhobxkRERERERBTS2DAmCiHXr1+Xixcvut8RERHRvcrlcmmZffPmTfcSIopJQW8YI/GOnzBRnn4mv77ef3+h+xOiu2vdui+kdJkX5bfffnMvCW03btyQca+/Lh06dpKzZ8+6l0YPCu3z58/LlStX3EtiH4S9X7/+8vHHH7uXBHbr1i09h+hooP/Gr7/+KkWLvSDffPONewkFYuL6Tz//7F5yb0B4GjVuImfOnHEvCQzfBXkP8iCKOVOmTJU+ffvKpUuX3Etui8p1CxXBKiN27d4tFSpWktWr17iXRB/ChLAhjBQe6gGI8/cS5o93V9AbxqdOnZJfbIXujz/+yBEquuuuXbsmm779Vq5evSqbNn3rXhra4sePLy1btJDX+veXBx54wL00enB+R40aLWvWBK/Qjg3OnTsnHTt1lu07driX0N2Ewv77LVv07w0bvmIHRQhCnoO8B3kQxaw1az6XTz5ZwUp2JASrjMj9yCMya+YMKVmyhHtJ9CFMCBvCSPcn5o9RF/SG8d69v8uevXslffr0kjp1avnBahjv27fP/Wl4aDCjBySinqtA65heOazjrwGOShM+x8vXyBZGuQPtg2KXI3/9JQcOHJDevV6VX7b+otfXFxM3/MUvMyLqL+6AiaOB4h+O4Ws6VKDPTfz097k9jIHib6pUqeShhzJLnDhx9PtiO+wT3w3b++th9BVGs/2169fk8uUrd4TPnja9zx32h23NPnytYwS6RoHOjy9mn/6+L5j9Yj2sb5jlN2/ekIsXLtwRLn/bUfDg3H6/+XtN34cOH5Zjx467PwkvGOk3UPwKlP4CxYfIhDGi+GoXKMzeTPrH+hGlMX/fwaQnp8ezf+eI0oi/743lyHOQ9+Bz+3mLKN+hqHnqqadkydKl8uuv/3MviZg9PviKT74EioNg4oOvdAaBjhsordk/93WMQJ8bJr34KyMChcMOHdpZs2aVpEmT6nusj2Pb47mvNOQvrLq9FSaEDdt7fw9/18HsD8eK7nkGHNc7bIH428YeNhzv999/j7BBGJnzD4HyP3/n2gi0vTf7/iJa35wPrIttDCz3lz+Cv+0oTBzrpIQ7K3utRm2ePHnc7yIHF3/S5Cny3nvvSYf27eW8lfjwd+dOnaRVq5butcJGlUePHiNr161zLxEpUKCADB40ULJnz67vnazzl9X4GTJ0mPzwww/6HhlI/Xr1pEOH9pqJIDwLFy2SadOmWYnkmq6TKFFC6dy5szSoX1/ixo0ra9eu1eml//57Uj/33gf9N6ITD+GDDz+UPb/t0es4YMBAadW6lTxbsKD707CMx1z7FClSaAaRM2cuGTJ4kNVwfEjXMXEQI1Pp0qWzKt/HpEf3blKzZk2JFy+eTi2bMWOmrFy5UjJkzChHjhyRevVekbZt2ljxLJHnGLi1IGXKlHLjxnVrP+ll2LChkslaP9DnsHXrVhk0aLDEix9Prl27LokTJ5bh1udPPvmkfm7CiMZ/hvQZ5Pg/x6Vjh45SvXo1DaM3TBM6ePCQdO3aRTNGnJvChQvp+UqYMJGmqRbNm2t6xfYRhTFpkiQyYsRIPT84h9myZZN+/fpK1ixZtFNi6LDhcvz4cf0M5wZ5As4P9oupQQsXLtJG+oYNG6zC1WWl0SsyauQoDQ84uUaBzo837PPrr7+WYcOH6z4xvbx06dLW9/5bShR/QWrUqKHr2fcbP34CLdR69+ol5cqV1YbYiBEjZNu2bZI5c2Yrnj4qr/Xvp+cnou3otuim72+//U7eW7BARljXcdr06ZL/mac9185wmn6XLV+u1/Hvv/8Ol34huunPOz4Atn/88cf1b/v2Dz6YWsPgL49BnP/nxAndN8KYMGFC3Yc3c8yb7gqrPcyoIA21yszadWprfmjKyFmzZsvDDz+saSxDhgzWOkM0HUNE38FJHubtjJUmxo8fLxs3fi2ZMmXSZdWrVZPVa9bI9GlTtfPO+3vjvBYoUFDTGT6f//bbsmTJUg1vFivczZo3k/LlygXMd0JVdNIbppXiOmfPkV3WrMYo1Egd9ADk45OtOp+5bt7x4fTpU1ajLlu4eps3J3EwUFp1UlYESmuB0nKgz+0iKiN8haN9+3ZaJ/UVR0053aNnD8mZI4eW4eiguHnrpu4f3zVlylQy/vVx1nfOqdtEFNYv16+3zuUMPW6OHDmlQoWXpHmzZgGvg8k70EnyyYoV2iA+dOigVKpUScs4U182x45qvckXX9vUsvZn6ukmbE8+9aR8+OESK6++Zq3/hp4vb4HCZ68jQaAyPVC8CFQGeIvJ/DHQdqEiYH5oZSjh7Nmzx/1X5FmFkavuy6+4ni9azLVjxw6XVQF15Xv6GVer1m1cVuLWdS5fvuwaOHCQLm/YqLHLisSu3n366PvuPXq6Ll686Ggd7K9tu/auAgWfdb0+foJrw4avXN26ddd1rITtsiq8GgaE5aUKFV0rVqx0rVv3hatBw0a6zaZN37qsxOWqUaOm64XiJVxWJUvD27FTZ93H4g8+0PDSfyM68RDxA/EE1xPmzHlL4wjihLF9+w6Nq4gjcPXqVdf06W+4Bg0eon/jNWz4CNfEiZNcVqar6+zZs9dVp25d19Zt21xWoeCaO3eeq1//11wXLlzQz48ePepq0aKla/ny5fr+n3/+cTVp2sz17bff6nsc/805czQ8ViEU8PNDhw5rfMXnOB6WLVu2XI9x4sS/ug3iKdIGvjP88ccfrq5du7n279+v770hbFZFRv8+ffq0pi/7d/jtt99c1WvU8JyXQGFEWu3bt5/nO4OV+boGDxnimjtvnuec79q1y/XyK/Vcf+7bp+9//OknTYf4PtgPXkuWLHG1bdvOde7cOV0n0DVycn684fg1a9W+YxuExXyHkydPaj7w6Wef6TqAuITzYBWC+t6cO3wPw8l2FCY66RtxCul5wYL39f3ates85YLhNP0i7Zx2l00m/a5evUbfRzf9mXwI22B7vFAOWZUoTTcmjIjT+BtMGL//fou+RznVvEULTYdw4sQJV4+ePV0///yzvvdmwrx+w4ZwYUa6Qplp0quJt/i/WfMWrn37wvILnNux48a5pkydqtsH+g6B8gdv+Bzf11e+ifSEdAUrV37q6tylq6YpsCp4Wr7b8xn8je+CcICTfCdURSe9obzAC3HhtQEDXG/MmOE5v4g/9uuG98izEY8B6y1cuEjraqYO6C1QHMQrUFp1Wp5HlNYClaWRLWt9lRGIq6jb2sOBNNu4cRPX52vX6ntv2E/Hjp08cRjxHnVWky9hP5OnTHFZDUOX1SDUdQKF1fu6QaDrYPIOnHecf8D/SP/Ig8Gc5+jUm7whHKjT27dBPEC+hH35C5svgcIHCIepIzkp06NTBnjDd42p/BGcbBcKAuWHQZ1KbR1MX/ny5tXewUcffVRfO3fulP0HDug66NH9ZtMmHV0aPWqU1K1bR/r36yeVK1eWSxcvilXwO1rHygBl8+bNUqVKFenSuZOUKlVSR6twPPSIWRderl67plMG0OtVoEB+KVv2RXlz9iz58ot1UrBgAf388pUrkixZMilYoIC88MIL2uu28asNUsU6FsVOf/75p17/xx57TN+/8EIxjYNYBlaFTVatXqU9fuj9BIy+tGnTWnsOMWsA0/9379olderU8fRi5s79iMybO1ces+IY4uCmbzdJs6ZNNf5AxowZpVmzptqLjhkK6LXEsZInT6Gfo/ewdatWOhqL2QqBPrcyYMmfP78ULlxYpz5jWfny5fT+4MOHD+k258+d1x5yhBly5colkydP8ts77y2utd+6dWp7vgPS3OOPPa49phAojL4kSZJEhgwerCPPWB+QBuNZ66N31cC5L1OmtO4HrwIFC2qPJtZxco2cnB9vm7/bLIUKPRduG4QBs1EMjIagZ7ZypUq6DqDX/7p1LqwCWd/7EtXtKHLQw79j+3Z57rnn9P3TT+cTq8Ighw7dvuZO0q/VeJT69etLqpQp9XOk36lTp0jx4i/o++imP8RhlFcpU4bdz499VK1aRfr27aOjuAjjwYMH5eWX63pGf/PkyS01qteQn376Sd8jPSRNmszzedq0aWXC+PHh4qsdwvzII49IsaJFPWGuVq2qjB07xkrDyd1r3YZR4/nz5kqOHGH5BdIrvsPRv4/qVMRA3yGy+QPyYOSPTRo3Cpdv1q1bV/82qlSpLFOnTPaMTGLdLFmzePIlX5zmOxQ1GJlr2aKlfPXVRit+3vnwNsSDL774QvNspDXAdahUqSJGYOT3P/7QZd4CxcFAadVJWeEkrQUqS6Nb1gLqtlbDyUqT1TzhyJLlYWnQoIFsWL/B0bRewP3GBQs+q+kR+ylWrJhYDWfNLyAqYQ10HQyMrOL8A/4vYOWRGIGDYNSbvCHPQHsA185sg3jQpElj+fbbb3VE3ahXr54nbL4ECp83J2V6dMoAbzGZP0JUtws1QWsYYx48HoICaJzeuHHDKhjjyZNPPqGNUzyEy2qIa8JAIYVGS9q0aXR9TC8ZNXKEzJo1UyvmTtY5dOiwLse0h+cKFdYnYJcr/5I2zPFAgQvWMbNb6yGxY7pJpcpV5MWyZXWaFRIHMpOMVqH57LMF5ejRo1KvfgMpUbKUdO/RU7Zbla4ECcKmPFDsgjiGKTI5c+awMqG4mmmiIotM8Jdftuo6iKtnz5yVfHnzeTI7wDVHPEOFDvHn4SxZPPEPsC4yQGRo+PzEPydk4KBB0rBRY89rwsSJVuF3UC5fvqQZ6Csvvyzt2re3MvGmMnfuPJ0ChDBCoM///fdfWb9+vTRp2syz/9at22jGiUIeatSobm3zl1S0Mu4BAwfqE3rthVggODcpfUyhwZRICBRGfxAGhGXkqFEa7rrWPnZaBZJd5kyZPIWTgemfeDm5Rk7Ojzdskzt3bk/FGRCGtGluX2e4cOGCfLZqlZ7TBg0aSrPmLeSU1fgKJKrbkXOYRpjUKtCTJ0+m6RvlTPbs2bTyZOKlk/SLv81UTQMVBVMhiW76w/6bW400pIGXX3lFpkydqs/fuOWe4owwoLzq2rWbZ/94vb9woaYxVJKLFSuq36FK1WpaNiFuIY75gzDny5fXU+kGxHWkGXucN3C+cCxMvevUqbPUqfuyPrDFCPQdIps/4Dvj/OMZJHZp06V1/xUG+8dxZs6aJa2sc16zVi1555133Z/65yTfoahDowmdHrPfnK31NDt/eXbixEn0+h45HFZn8xYoDgZKq07L80BpLVBZGt2yFhAO73wJMmRIr7cxOW0Yp0ubziq3bqdxQCPMpLuohDXQdTAyZrqz4Yn6Pvj6fpGtN3nzd/0ftOotuPb2TucHUz/o/su3QOHzJVCZHp0ywBvCF5P5Y1S3CzVBaxj/888/Opce3n7nHSlVuow2RJctW67LfvjhR22w4j5GuGZFHH+Rw8k6iZOERWLcHzF79qxwrxHDh0kGK2Khd3369Gl6Twx6aRIlSiyff/65tG7TVj77bJX2gA6yIjLWQW9UmjSp5bvvvpMuVuY5f/7bmtFQ7IKK8jdff6PxDvGvZKnSVoZVWWcXbP7+ex3hMK5di7igiCj+AXrdWrZsIZ07d/K8+vbtKz17dNe4hQwX8W71qs+sCnUrrUg0bNhI789BIRToc8BMCPv+u3TtIq+/Ps4zWoY4/oYVf+e8+aaO9M6z4m2HDh21ghwMTsLoDffgvNqrt3zw4RJ5vkgRGTN6tCxYsEDy5s3rXsO5QNco0Pnx5crliCsfqKC0btNGtny/RSpVrGgV2hPkrTlvWvlD+MqMt6huR86h4rhx40ZNz0jXSN+mnDFljBEo/eLhM6ZC50900x/ul19ppZU+ffro+y5dusqs2bM9ZQtGd9u1axvuGIMGDZRGjRtpxd6UUYsXLdRRIvxkS6PGjXVWjD+B4rfdl1+ul5atWsvNGzeljRV3EV/x1Hq7iL5DVPKHQOcd27373nvSy8pD0lnnt3v3bvLeu+/qfZARCWa+Q/69WKaMDlqgAYV44y1Qnu3NSRx0klYDHTdQWguUloNV1gbKl4IhKmF1ch2ciG69yRcn19+pyJx/J2V6dMsAbzGVP0Z1u1AUtIbxrl27Zd/+/TqNAJG+bds2+mratIne4P7LL7/oVJoHH3xQ3/9v507P1DdMjXulXn15qUJFLfCdrJMxQ0adunDt6jV56sknpUjhwpL/mWckoZXBGfv3H9DH0ud+JLcMHzZMPl25Qtq0bq2RDqPG2OcvVmMePU99rUi7fNkyfZgLYMoLeqModkE8ROb69cavZPu2rZ7Xkg8/1OnU6JXECGGmzJnktz17wlXeMB0TnTtoPCPzRk/kqVO3ewaRkWH0AZlliuTJJUHChPJQ5swa98wr/zP5JV++fDpig31fvnxZR2WLFy+u02eGDB2iDzBBL2Sgz9Eze+P6DXnu2Wc9+y9kVciftvZvHiiCOIpMHg/daNiwgU6TwWja1q3b9PPoChRGX06eOiV4kNaggQOkjFWJwlSxRNb5uBWJjiYn18jJ+fGGbfb+/rtub+D74ZoaR618AQ/R6NOntxQtWlQfIoS8xhWgMI3qduQcZgodPnLEystXhkvfX6xbq9MI//e/nbpeoPSLPB8VwL+PHnV/GgbTHPGCYKQ/xC2MAGDmUtcuXWTihPHy3Xebtex5IEXY9Do8BMTsHy/s/3Gr4YERXoT5uhUGHK9G9eoyZfIkKwyFPLOzvGXLlvWO+I0ZW0gz+N8b8sQmVkMbo4AYadYHKFn/7CL6DpHNH5BvYrqk93m3jyZitAUPTuz1ak+d8vjkE0/oNPBbrojTUTDyHQoM8RKV6d9++01HXA1/efa5c2fl8OEjWjf0JVAcDJRWnZQVTtJaoLQcjLLWV74ESLNouJvZKtEVlbA6yQsCCUa9yZu/649RWnwnNPKcChQ+b07K9OiUAd5iMn+M6nahKCgNY2Q8+M1Y0B72Tp30SZB44e8SVoGJxihGYzHFFfdpoWe5W/ceOsWgU+cumskWLlRIKwC5cuUMuA7uK8N+ce8JeolnzJwpXbt1l+YtWspHHy3TjA6j2D169JT2HdrrFK9lVsMXv+2FiI1IfMmKsEOGDJUWLVvKtGnTdRQZT+cF3B+AXkSKPZDBYVS44LMFtaJmlzVrFv09wK1WJRqjHKVKltJ4gqfbIlND5jXnrbfky/UbNO48bMUxFFSYcoKRCBS4v/76qwwbNtyqYF7SXsKizz8vc+a85cngcH/IoMGD9KmOCAt+mB/ThDA1H9sjY9q+bbv+9AIyykCfF32+qGbYGCXC/hDOr776SrdBJxQy5NdfHy+TJk/W8GMfmAqFDD7zQ5k1TNEVKIw6XS1VSu1wQEUE4URlFE9DRKXFbIMRPXwXp5xco0Dnxxdss2vXTk3rWB9hW7R4sd6fZSD8f/39l3Ue/9b3uP4LFy0ON31KRxjSpJF9f+7Tz7EvJ9tR9CD9ooKNqYd2SI/omUf6R1wIlH5R6cN9edOmTtOnswKmR+Pz48f/0ffRTX/YL6arrbfiK7bFPtBx98ADKXSKJ6Z/oxx6++13NIyAjuB27TvIihUr9D2evN2vf3/P8xGQ1/zx5x9ajvqC+w4Rv1d++qkeD2Uzfn/2vQXva5ryhoo4viMazQg/fm4RT3U1An2HQPmDN1ynkiVK6Hk3DWuU64sWf6DPOwCkbdwvvGPHrxp+HBezAVatWq2fGxi1QQXy6NFjOpMgGPkOOYOBi7Zt2mrD00D8Kle2rKxc+Wm4PBtxOJsVH3ALiy+B4mCgtOqkrAiU1gKl5aiUtb7KCJwH3F5oz5cweIOwV6pcKSh1TidhTW6dc3QiHbYaXDjvEOg6OBGMepM3XP+yVryyX39cu7fmztV7fzFd2alA4fMWqEyPbhngLSbzR6fbUZAaxsickEGiwYleFXsBjIT+vJUQAL87icpzp44ddSQZj/JHwttvVTIwJbpbt65amOICBloHPR39+/fTZbh/efbsN/X/WrVqSq9er+o6zz33rE5DwyPS8ZMew0eMtBrDl3T6DB4IkcNq/I4cMcIqxLPptKDXBgywMoM92pjHwwAQDoo9/v77qGzZ8r1Oc/SuBCI+lCxZUjZt+lYrT3nzPqUjC2PHjpX8BQpKEasSjHtfWjRvptcdPZeY4oMevDIvlpVn8heQnq++qp/jYQ3YP3oH8bCPatWr6z3u5V+qIKlSprIqig11H088/rhVeWit22H7QoWLaIaJKYdIF4E+x4gHpjJ9tGyZFLAqvAjnpEmT5dWePTTuYh1MDUO4EX7so1Pnztrji17wYAgURnzPl+vWlS0/bJHKVapamf4uve8QD9fAfUTYpriV0ceNF1d7KCMj0DUKdH58wTZ4kN+8efN0fYQty8NZpG6dOu41rO9shRMPR8EUO1zXWrVrS/ZsWcNNn0IlAtd/rrWfZs2a63MKnGxHUYdKyRdffKnTZL1HFpAeS1jX8peff9YOVafpF2VTjZo19XrhftRy5ctJkSKFdZ/RTX9IB1h3ypQpui32sWr1aunZo4eWXyaMqPwgjAhDHSstFX/hBalYsaKGAWkL9+Ijb8HnuCcMjQA8KNIXhHnokKHy6aef6fHw/I11X3wheEClr2mKKC/xIJmixV7Q8E+cNEmnbBuBvkOg/MEbzjt+mgU/VYL8AttMnjJVp/WZzkxshwfr4F5uhB/HXb1mtVYY7QoWLCiP5Mql52yB1fAPVr5DzuD5LPXr13O/C4Mp1oOt82/y7BeKl9CfzjL1Nl8CxUEnadVpee4vrQVKy4E+98VXGYGwdOzQwWrspfTkS71795FWLVvoA2CDwUlY0UlRvnx5admqlUyYMFEbeIGugxPBqDd5wza1a9fS+pu5/uiMe/HFMmEPdouEQOHzFqhMD3SuA+Wf3mIyf3S6HVnXwcoows2ViO7vS0YGek8w3QoFNi6aL07WQaJGLxcyIl/r4CtiH+ghQe+Sr6dlYnuMaiOy+kqcdHfdrXiIOIGGMjp1EH98QW8bRh/8xY1AcdR87u8YgT4HxE+EFWFA5uktpuNvoDAijeF3Xu0PBHGSdp1wco0CnR9vZp+YhuevwoZ8BdNzIzqn2A+mutq/t5PtQt3dLGcCpd9A5QdEJ/2ZuIZyx9/2geIMvgNeEYXRzpR54O+YdoG+X6Dv4CQP82aui78y2XwHfBbRPjH1MEGC+J59BCvfuZ/czfQGJr5ElL96c5KHB0qr5rgRxcNAaS2itAyBPveGMHmXERAo/gdDoLDiM5xr+2dOroMTgfLdqKTTYJatgcJn5+S4EZ1rEy/95Z++xFT+6HS7+1mg/PA/bRgT+cN4SHT/YvomunuY3oiIwgTKD2Omm4qIiIiIiIgolmDDmIiIiIiIiEIaG8ZEREREREQU0tgwJiIiIiIiopDGhjERERERERGFNDaMiYiIiIiIKKSxYUxEREREREQhjQ1jIiIiIiIiCmlsGBMREREREVFIY8OYiIiIiIiIQhobxkRERERERBTS2DAmIiIiIiKikMaGMREREREREYU0NoyJiIiIiIgopLFhTERERERERCEtjsvi/lvt3bvX/RcRERERERHR/SFPnjzuv+7ks2Ec0QZEdwPjIdH9i+mb6O5heiMiChMoP+RUaiIiIiIiIgppbBgTERERERFRSGPDmIiIiIiIiEIaG8ZEREREREQU0tgwJiIiIiIiopDGhjERERERERGFNDaMiYiIiIiIKKSxYUxEREREREQhjQ1jIiIiIiIiCmlsGBMREREREVFIY8OYiIiIiIiIQhobxkRERERERBTS2DAmIiIiIiKikMaGMREREREREYU0NoyJiIiIiIgopN21hrHL5ZJt27bJ5s2b5ebNm+6lRERERERERP+toDWMp0yZKk8/k9/n6+OPP5ZDhw7JgIEDpXefvvLbnj3uraLu4sWLcubMGbly5Yp7SXj4rFHjJuHCUalyFT0+GuhoqMdmt27dkrNnz+qLHQ1EREQUbKjb9enbVy5duuRecttPP/+s9SzUt4iI7gd3bcQ4U6ZMUqdOHalTu7bkyJ7dvTTq3nprrpQsVVrWrFnjXhLYX3/9JZ9//rm0bNVaPv30M/fS2OncuXPSsVNneaVefTl46JB7KQWDvZOnX7/+jjtfsB0R/becpl8icmbNms/lk09WxPoBBSKiQILeMG7RvLls37Y13KtGjRoSL148qWn936xZU0mUKJGOctpHPDECfP78eU/Gi//xHo0PrIMRUvvyK1fDKjuXL18JOGo6d+5bGo4ftnwvrVu1khs3bshnn32m+zFQecKx8Lp+/bp7afhwYB18Zj+eGbnF5/bwA9a1Lzej3Gb/gUZ9zfb2bcCcu5s3b3jC531s83289222Ncu9zzuJdO3aRePL0CGD3UvuhPM7duw4ee7ZZz3xHNsR0X/LSfolIueeeuopWbJ0qfz66//cSyJm6i6oZ5i6m4GyE/UOe93JXr+xM3Um/E9EdDfctRFjjGpidNOMcNrfz5g5U0qXKSOjRo2Wq1evyoEDB6RFy1byQvESOipcomQpHeXFcnyO9RYuXKT7HTN2rONRUzTIy5Z9UVKnTi0HDh6UE//+q/t7440Z1jFK6rHwqlCxoo4so7Fojoflb8yYIQ0bNfYcb+fOndb7Rho+fI7w9u7dR06dOqXH275jhy4fMXKkLFq02LMett+6dav0fLWXLsMLo7//WuEBHHfjxo0aDqyPlz1MOHbbdu1l167dcuzYMWnSpKnn3KGxu9QqwMz3wb5r1Kipx4OIzjs5h8L98JEjUuyFYu4lRERE9x90ADdp0lhmWHUgU7/xBfUT1FNw21qr1m2kVu3anrqbgVl+EydOkmHDh0vTZs2kdp06Wh/Zt2+few3Radvjx0+QSpUqS5u27aRc+Zdk6rRprKcQUYwLesP476N/y/dbtnheaJBdu3bN/emdjh49Ku+99568WOZFyZUrl9y4cVPeffc9+eWXX6R2rVoyc8Yb0qpVS9lhNTKnTpuuGWOR54vIM08/rduXtBqAda2MNUXy5Po+kAsXL+o05CSJE0uihAllw4av5M05cyR37jwyYfx46dXrVSu812XS5Cmy35aZA8KVLFkyq3FdVhtGk6dMlb17f9fwTZ82VYoXLy5r162TBe+/H24E9quvNmphgGnkadOmkT///FO6dO0mCRIk0GWJEiXUh5Jt2rRJ10ev7ICBg6zPE8pr/fvLyBEjJGmSpFYDe5T8bJ0XfNeqVatIunTpNDyvvPyynhOMyn+5fr2MHjNWsmfPIaNHj5LevXrJpcuXZPCQobJ//+3v433e48S5a30kMQ73PZmplL6mU+7bv18qVKzk+Rz3wBNR7OH9TIvIpuHobk8USuLEiSPly5WTtOnSyuIPPgg3C80O9ZO58+bLG9Ony9IlH8paq5GM7caMHaejwwbqSVi+fNkyWb1qlVWPKyELFryvI8eoOy1e/IGcOn1aVq36TD78YLEs+2ipbN+2XVavXu3eAxFRzAh6a2jNms+lbdt2nteEiZN8PrTBiB8/vjZI0YhDAzN+/Hhy+fJl/ezxxx+XwoULS4f27WX9l1/I4EEDJUWKFFK9WjUpUKCArlOmdClp2bKFNhL92b17tzbScV/xUKuBiKnUBQoW1G2KF39BNqz/UmbPmqmjyZUqVpQsDz+sDUfvntGGDRvIW3PelFd79pBH8+SR8a+PszL+NRo+NIpLW2GBo38fDdezmSFDBhk5cqTVQOsrHTp00GUFrfDj+wwY8JrUq1dPlx08eEgLnFWrV2njvVvXrvLyy3WlSpXK0rt3L132xRdf6Ih3wwYNJGPGjPLAAw9Ivfr19JygA2LVZ6t0ZLx//376XRDmFs1bWPs+KN99950eB7zPOxrn9wM0eidNmizLly/zTHHGd0ycOLHn8w4dOsqIEcP1s41fbZClHy1zXDE2jW6Mxv/6669W3Gul79HQxr6JKGahUYuZMlu+3+xJ47hdxymk9ehsTxSKkiZNKi1btNSO/p9++tm99DbUXVA/KVeurOTO/YguQ2d9pUoVMZQsv//xhy4DNIQLFnxWG9wJEyaUYsWKyZ/79mld8cSJE7Lp203SrGlT7fgH1HVwGx7K36tX/Q+0EBFFV9AbxhUqvCSzZ8/yvLp166ojo/6gcfqQ1RA10KgrXKSwNtwwBblQ4SLSqHFjWW5VZtCTGDdu5IOMKTlopL82YIAcOnxYChUqZDUWm2mGjLDt3LVLBg0eotN5MGUZ733Jkzu3ZvSA/3Hfy5IlS3XaN6YODRs2XD/zhsZrihRhI9rx3OFPkiSJ7gMFQ7y4YfsEjGweO3pM/8aTIM2IRqfOYfevnj1zNsL7cf62GvT4v2nTZp5tx73+un5upmqD93m/n5w8eVJ2bN/ufhcellesUEGeLVhQ36dKlUrq1K4lW7b8EG5U2R9sZxrUefPm9dy/vmb1KsmZI4d7LSKKCeh8+uHHH6V1m9aezq6o2Lptm+aVRORcjhzZtSN99puztQFrh3oJ6if58ubTeo2ROHESHWk+YtW9jHRp093RGY+GNep4mNV34p8TMnDQIL11zbwmTJwoBw4clMuX/Q+0EBFFV9AbxpkzZZYihQt7XmhImF4/J5ChYvTzg8WLpF27tpIvXz6deoxRwF62+3cj49VXe3oa6suXfSSzZs6Qhx56SDPi+fPflk6dOuvPSZUqVVImTpgopUuFjfxGBNOS27XvIPPmz7O+cyZpY1XUhg8f5v406tDwT5gokf5tD7d5NWrcyG9HAzoT4luNbYwo48Ez3ttWrlzJveb9C43TGTPekFmz3/R0DKCX2cCo/Lz58z2f4YVp5kR070P+jzIi9YMPupdEHkaH27VtIzVr1tL0z5+bIXLuxTJl5LHHHpP5b78tN2/cOaX62rXo3weMOgxmAnbu3Mnz6tu3r/Ts0V1HromIYkrQG8bRhak0uE/l9OnT0qhhQ5k/b64sXrxYsmR5WA4fPixnbPepwE2vJx76ginZpqGeM2dOz6gvnsb8zaZNOk1n7JjR0r5dO3nyySccNb63b9+m05MxDXrUqJFSo3p1ueXnvpvIwCh2+vTp9e/48eJL4UKFNNyP5Mqly7yhh9XlPgcYQcloNdIx5TpNmjSe75w5c2b9PFSgcYwRXIzkYkR3wICBnmnO2bJl9fnkdPt0ayK6N6HCjDwP9x9GBxrHJu3jwUJ4wryTGSNEoQ71p+bNmslvv/0m7y9c6F4aNtsvU+ZM8tuePZpGjXPnzlp1tyP6LBMn8AyVBFY96CGr3mLqMHjlfya/DpSgjkREFFPuuYYxRkw/WvqRPtGwX//X9J7lt+e/LUePHrMax1kkVcqUuh5GRwFPSRw4cJBcuHBB30eGaYTifrP331+o9868Pn6CPk06kHTp0msY1q5dp/cuf/jhEh2ljC4UOpUrVdSpzpMmT5IRI0bqPXXNm7fQ6eC/7917ewq29T/C3vPVV2XR4sXak1qzRnXdz5ChQ2XsuHH6am41BHv06CknT0Z+tD22Q0UanQRGvqefltVr1oQbRSai2AGzc7Ja5cCcN+cErSGLzjIicg71k7Zt2np+7QJQJylXtqysXPmpfPvtd/pzTHhezHsLFki2rFkld+7c7jUjljZtWin6/PMyZ85bWr8B3B41aPAgmTVrts70IyKKKfdcwxijdj16dNd7lfGkZtxn+8mKFVKieHEZNnSINnTglVdelhIlSsi//56Urdu2asYZWWhINm7UUCtaHy1bJr379NYM/MUXX3Sv4V/+/M9I/Xr19D6bAQMHamMLD4cIBkxTGjtmjGTNmk2WfvSRTv3Fk6XxhOqqVavqOilTppROHTvoaDemdeOno/BQCjzEAk+xjh8/gf6kFV76ROsRw6VQoed02/uZ9xOpMV2ye/dunvt/zVRrjCLb1zMP38KUSkytxDJMsV61erUULvI8p1sS3QNQPgy2KsiAdBmV9Ov9RGo8fK+PlfdzxgiRc88+W1Dq1w97cKiBusvgQYNk7Nixkr9AQf0Jy+PHj+uzZpymLzSw8dBQ/HZyterVNY2Wf6mCpEqZShpa9TUz44+IKCbEcdnnvFj27t0refLkcb/7b+FhDniQFDJUf5kqGoN4knV0Mkv0bGJaNRrKET0ozBeMWiCcyZMn1ww92PD98RRtPI3b14PHcPkQBpwf+/Gx3Iyix1TYYtK9FA+JKLiYvonunrud3kydCtOro9PhhNFh1GOiUjcjIvIlUH54z40Y2yEjxFODI8pY8WTD6PYgosGJEdioZLwIGxqtMdXwxIPLEDZ/T+PGcfGEa+/j4z3CFZNhIyIiIrIzdaroNIoBdbuo1s2IiKLinm4YExEREREREcU0NoyJiIiIiIgopLFhTERERERERCGNDWMiIiIiIiIKaWwYExERERERUUhjw5iIiIiIiIhCGhvGREREREREFNLYMCYiIiIiIqKQxoYxERERERERhTQ2jImIiIiIiCiksWFMREREREREIY0NYyIiIiIiIgppbBgTERERERFRSGPDmIiIiIiIiEIaG8ZEREREREQU0tgwJiIiIiIiopAWx2Vx/6327t3r/ouIiIiIiIjo/pAnTx73X3fy2TCOaAOiu4HxkOj+xfRNdPcwvRERhQmUH3IqNREREREREYU0NoyJiIiIiIgopLFhTERERERERCGNDWMiIiIiIiIKaWwYExERERERUUhjw5iIiIiIiIhCGhvGREREREREFNLYMCYiIiIiIqKQxoYxERERERERhTQ2jImIiIiIiCiksWFMREREREREIY0NYyIiIiIiIgppbBgTERERERFRSGPDmIiIiIiIiEIaG8ZEFCUul0suXrwoN2/edC8hIiK6DeUDygmUF95isgy5deuW7Nu/X77fskX+/fdf99L/Dr7n9evX3e+I6F4VtIbxlClT5eln8uv/dmfOnJFGjZvoZz/9/LN7KVHMQWG7c+dOade+gxR89jmNe81btJQtW37wWTj/VxCW8+fPy5UrV9xLYpddu3dLhYqVZPXqNe4l0YdzgXNyL12nyPr444+lX7/+jq9rbI8H/4UjR45In759pVDhwpq+69R9Wdas+fye66S5H+JzRBDXvcv8/5qpc0SmvoEGy9mzZ7UxReHh+vq7xt55na/z+N6CBfJKvXpy6NAhXQ/rm2vjXYZgO2wf3QYk0tu7770nzZs1l5kzZsrx48fdn8Q8X/n50aNHpXGTpvLmm3PcS2IXXK//qkwzcQZxzZ9gpV9/4f6v8rnInncKDo4Y030FGdunn34mXbp2lZIlSlh/r5Qvv1gnFStUkAEDB8onK1boOveCq1evyqhRo60KffAalndT7kcekVkzZ0jJkiXcS6IP5wLnBOcmVMT2eHC3oYMLHV0PP/ywfLT0I9mw/kvp0L6dvPHGGzL7zTfvqcZxKMbn2Gj7jh3SsVNnOXfunHsJRYWv81ijenUZO3aspldv3mUItsP22E90YD8bNnwlI0YMl3feeVuefPJJ9ycxz1d+niFDBhk1coS88srL7iX3t7tdpgUr/bIsJvjPGsamZwa9u/56etBLgs/x8tWDaN8HPsfL1/5MLyQ+w3QWun8dOfKXLFy0UIYPGyb169eTTBkzStq0aeXll+vKiOHDZd68+fL773/ouogviD+IR4gXiB/+eubscc17HbMfxDP0TGM0y7DHPft2WI5trl2/JpcvX9F1vCv0Jkz+4qw9vjtpDET0HUx4sB+T7vAe2/gTP358yZo1qyRNmlTfYzuE1f6dEUZvOIavz7EtzgXOia8wmvPhHa7IhN0cO6JzFui8ezPfN6J9gq/wB4oH9nPpfT5CEc7F/LffthrC7aVTx46SJcvDkjp1ailTpoxMnjxJ1q5dK99/v0XXNfEdccx+3XFOffF33e3xC///+eef4a6RiXPe+8Z+IorP9vTrK0wmzFjHVzryxd93sJ+LQMf1xd9+fcE+Tbh9xVkTFn/7C/S5L+YaRLS+v+uE5RcvXLDO9w39zHsf/raj8Pydx2TJkknWLFkkbtw7q5v2MsTEd2yP/Zjzjf34uq7+lpv4fe3aVU9cxL7xt0nHhj1dgH4Ha59mO+zHX9rzlY7MMbzz8zhx4shDDz0kKVOm1PUM853NenbYP/Zl9oljIXzeIpNezPfDsQ4fPhJuirl9P76O481+juzr+zsHhpPjmHOL9bB+RPQ7RZB+IzrHdoHCDfaw+4sXOD4+D3Qt7CKzjb/zbmf25+v82b9DZMIYSuJYJyncWdu7d6/kyZPH/c45TDOYN3++tGjeXLp27eJeGjatqVPnLvLrr7/K3LlvybMFC8qBAwdk6LDh8ssvv7jXEilQoIAMHjRQsmfPrr02b701V9559x3r72v6edq0aaR3r15Svnx5zWQuXbok415/XZYvD5tekStXLqldq5Yuy5s3r0yfNlVSpUolf/31lwwZOkx++OEHXQ8Zcf169aRDh/aeCj3de6IaDzHlBSNKgwcPksSJE7uXhkEm9/r48ZI2TVpp1aqlTlNZsmSJPJ3vaY27iC9///239OjeTWrWrCnx4sXT7U6dOiWjR4+RX7b+Ig8+mPqOdbCfhQsXaSN8wfvve9KAiedoLKdIkUIbzKjQ16v3ilywMvIRI0bq/U/4LFu2bNKvX1+tQCBuz5gxU1auXCkZrH1iO2zTtk0bSZQokWZsaACMnzBRC9obN65LunTpZdiwoRoGX3x9h/bt20mD+vX1OyCdDhgwUAoXLiQffPihJEyYSNMOvgvOlTkXdmabHj17SM4cOfTc//rr/+TmrZuybds2zXxTpkwl418fJzlz5tRttm7dKoMGDZZ48eNZaTGBLhtuhfvxxx/XBs+SJUt1uywPPyzNmjeT8uXKhTsfqFwc/+e4lV8UlNf699Nr5jTs5tg3rYIFED9wbDOaEOi8+2Lyl337/tTzmj59Onnqqafk8KHDnjgYUfiRl/mLBxHFH1/XIzaJavpGWps2bbpMnjTROt8Pupfe9v77C7XhinOI9D7UujYvFH/BipufyOnTp63XKSsu5pIh1rXBtYBA193Er0KFCsmct97Sa4TyBddk4aJFMmvWbB0NQ7zFyNDQoUP0+vmLz97p11eYIkonvvj6DrWs/MmUc6hA4VwgbmLWDCpXhw4dlEqVKmm56q8sNPtdtny5ZM6cWfMN+7lBmj948JCnzA8UZ+35UIb0GTQtdOzQUapXr+boc2+4xsutsE2cNFnDh3ONUbkv1n2h+RLqG1gnouu0dt066zvO0O+WI0dOqVDhJWnerFnA7WKTqKY3MFNI7fU6w17efv3NNz7PI9IsZnZgHUA8rF2ntl4bexmCutmIESO07MC1zJPnUc0jd+zYIe++t0DLEdOwxLXo1au31K5dW8qVK6vLDNQ1R4wcJfv379P9ZMqUWfODB6z4aC+vwKQLEx4nZZhJv6hrIo5jHZN+kydP7jM/T58uXbjjgD2NX7t2XeLFjatleP78+fVzU6946KHMsmHDBivNuqz68BUZZX03lHUQ2fRivt/Va1etvOJTGTpksNSoUcNRHcdcQ5RpUa3bBDoOzu3XX38tw4YP121v3LghpUuXtsrZv6WElY8jrN78pV8IdI7t0Nj0F26ct527dkmCBAnku+++0315X4uo1B8C5a+ROe84f/YwoCz558QJjQvYX8KECSMdX+5XAfNDKyKGs2fPHvdfkTN58hRXvqef0f/trMqIq2GjxvrZjz/95Lp27ZrLyiD0Pf7/9ttvXVOnTXMVKPisq3uPnq6LFy+6Vq9eo583aNjItW7dF673FixwvVC8hOulChVdf+7b57IKdZeVYeg6WD56zBjXsGHDXSVKlNRlOB6Oa2W6rrbt2uu+Xx8/wbVhw1eubt266zpWYeeyEp07lHSviUo8RLyYMHGia8GC991L7mRVolyvDRjgunLlqsbHQoWLuN6YMcN19epV/XzPnr2uOnXrur7/fou+x/Jhw0e4pk9/w+862A/i2LJly11WZUqXWRmUa/CQIa658+Z54tmuXbtcL79ST+MwXL582dW3bz8Nk4HvMHfuPFe//q+5rAJGlx09etTVokVLz3r//POPq0nTZpp2APt/c84c15w5b3mOb4fjDBw4KNx3OHTosKtx4yauz9eu1fcmndqP+9tvv7mq16jhsiom+t4btunYsZPn+yB8SI8IF74HjjV5yhRN50j3SNtI4zhP+ByvFStWuqyMWsNo9oFzYt6DVYC7Onfp6jp58qS+tyoimo7N+XASdnxf5CfrN2zQ4+I8IRxt27bTfMLJefdmrp933KharXq47xAo/GY/9uM4iT+xWVTLmaUffaT5vb+8G2kRaQPX1JzX2nXq6nUBXCdcL3N9nFx3X/ELcKxmzVu49u3br+8RprHjxrmmTJ2q+wXswx4XYPv2Ha66L7/iN0xO0okdjovyzB6+09b3xz7w3bC9ORf4Xvh+gP9xrtauXafvvZlz07tPH90fmHODMhrw/UyZ7yTOLv7gA90fviP88ccfrq5du7n27w87h4E+94Y8GHmx97lEGY/rA06uE9Yx9QbDyXaxRVTTG+D6etfrDO/47e88mnVMPMQy8C5DTFozn4Mp77Zu2+Ze4tJ8HcvwmS++9uN9LPAOD75PRGUYmPRryhYT5wYNHqJ/m32a/AO8j4M4hX2Y4+D15ZdfuurVr69lFWBde70CryVLlmiZde7cOV0nsunF+/sBwuykjmOuYVTrNk6Og+1r1qrtCZ8pp3Ee7PvyhvB5xzsn59ibr3CD93nD90a90bRZsCyy9QezTUT5a2TP+6ZN37qat2jhSRcnTpxw9ejZ0/Xzzz/r+8jGl/tVoPzwrk+ltiK6WBdZ/0bvd+HChbXHY/2XX+iIMXpFihd/Qe8bmz1rppQt+6JUqlhRe9ytSKM9HlbEk40bN+o+sG2f3r1lwIDXpFXrVrrMQE/j5s2bpUqVKtKlcycpVaqk9gA9+uij8uX69WJVVN1r0v3AymzlxD8nJFmyiGcC3LxxU6xsSf/OnCmTVK9WTXvTIHfuR3RWwoavNmhc3bdvnxw8eFCnYpt18uTJLTWq15CffvpJ38Nzzz6rcdVMF0uSJIkMGTxYRy1NTxxGG9BjiTjsj5WRyaZvN0mzpk11ChpkzJhRmjVrqr2HmEFhFdAatuTJU+jn2H/rVq10dNTXdDX0MloZoFSzfU9MQW3QoIGVzjZ4puPEjRNH6tap7Tkuekwff+xxHRFyCveKFSz4rI6E4ljFihUTK9PWnkyE+dLFi5Iy5QO6LtapWrWK9O3bR9O9P1WqVJapUybrlFlA+LJkzRIuXIHCjl7oRx55RIoVLarHxXmqVq2qjB07Rnv5nZx3bzivx44fl7p164SLP/hOdk7C7y2q8ed+d+TwEUmSOEmEvduIZ1bZ5n4nUuGllzTNAq4T0gHSNK6f0+ueMGECqV/vFc86gJGf+fPmSo4c2fU9woSZS0f/Pqp5kS8I26rVq6R27VrhwoQ4ZFXqdCQgsukE5dg3mzZpHmXClyplSmnSpLFYFTkdlTMwMoPvB/i/QP782nvuC87N+g0bpH79+ro/wDZTp07RMtqbkzh7/tx5HenA6CDgfGEKPGaKQaDP7XCekE8jL/a+vkj/RlSuE0R1Owou3ApVsGAB+fHHHzVd44VRPcwMNHlqMAUqw5B+MUqN2ReAddq0aa0jnybeBoJRR9R/n7XqDTgOXi+88IIVjx+Vn3++Xa/AMcqUKa3lFV4FrDiJcDhNT76UK1tWnnvuOT0mOK3jGFEtm5wcZ/N3m6VQoee0XYDw4Tvj+2NGaWQ5PcdO2eMFvneZ0qWttsh5rY9Fpf4QE/kr4kbSpMk85xdpZ8L48Z7zF5X4EoruesMY0wMKFymsF2bEyJFSqHARadS4sSz/+GPN8JAQMF0B0xYGDR4ir9SrLxWshjHeG8icLrjnxue2EpaJ9N7TzA4dOqz/YxrEc4XCnl5arvxLsmfPHr1J3+yD7g+IW+nSp5OLFy+5lwSGChSm4xqIR489+qicPRP2ZEzEEcSXrl27ScNGjT2v9xcu1GksplGJaZ2It3aoPH3zzTcyctQo3abuyy+Hi8e+4Hho3A8cNCjc8SZMnGhV5A/K5cuXdMrNK9a+2rVvb1V+m8rcufM0LPbGgB32+XCWLHo7gl2GDOl1KrD5Dg888ICktJ0LA1O1nUqXNp11HcIyZQPpFWFDhtzcytRxPl5+5RWZMnWq7LEq5bfcU5v9wedYb+asWdKqdRupWauWvPPOu+5PwwQKO+6lypcvr6fAABQumJqH/52cd2/YJl26dPq9DMSfdFZhZOck/L5EJf7c7x7O8rBcvnJZ45RTjz4afspU6tQPSvr06fX6Ob3uSZMklWTJk+vfBuI00h2mTHfq1FmfjI0Ht0QEeQrylkWLFoU7XucuXXV62wkrnkY2neA7YBvv6b0PWukBxzttaxhnzHTnrRY3btxw/xWev/2i4mfvILALFGdr1KhunbO/pGKlSvowRKxrb2QG+tzOnEt0eNmlSJFc8wMjKtcJorodBRfy1BIlSsj3m7/XTh7U3TBFFh3RpoEQTBGVYSbO5cubT8NloOxHWYL6qxO+yiP8jSnX9g5TdNx7T8PFrUDmdqDIpBcD4bTXVZDOndRx7KJSNjk5Ds5L7ty5w11XfP+0acLXXZxweo6d8o4XCa1wJUwQ9t5pOWIXE/lrsWJFtZ5XpWo16d6jp3y2apUOJBpRiS+hKOgNY9ybgQzEQG8KXgYyE4zQfbB4kbRr19aKuPn0nrBJkyZLr959tBdl/vywggiP98co78QJE6V0qVLuPfiHkUC7xEnCetdxz8Hs2bPCvUYMHyYZrMoR3T8Qt3Bfxd7ffw8X5wwUbr9ZGTN6yczICzJj7wrnlSvhMwpUvBBXO3fu5HkNGjRQGjVudEdj2MD9Kq/26i0ffLhEni9SRMaMHi0LFizQXu5A0AvesmWLcMfr27ev9OzRXe8FxPfECNLqVZ9J69atNM00bNgowiduX7Myv0AN0LsB9+OstMLZp08ffd/FahDMmj3bb0MH3wc/u4H7ydDg7N69m7z37ruee4gi48rlOwt4u0Dn3ZdA5zWq4Y9O/LmfZcyQUQ7sPxCusLfb89seyWNVrOwVC+/0jOtlr+xF5brDl1+ul5atWmu506ZNG3lrzpvyWv/+7k8jVr169XDHQ7yYajWAc7nvY4xsOsGDZ/w1cKMjMvt1EmcxgvHG9Gky5803dUbHPKus79Cho+chQIE+9wUPWYpIVK9TdK5vqDANtJiGdJHAatRg5Hb/gQO6LMd/OMoVKM45Eag8ciIq6cWXyNRxolM2OTlOMM6LEcx9BRKVciTY+SuOM8hq8C5etFBHuPEzaBh4RBsLghVf7ndBaxhny5ZV///qq42ep/6icfLFF19qLxEedoAHA2Go/+dfftFpY40aNtSpSosXL9apnYcPH5a//v5bp4VhSsHYMaOlfbt28uSTT4SbooFGDaZWA6ZLoLKAY2FalR0qURiZvnb1mjz15JNSpHBhyf/MM5LQT2OGYj9MEcLDN7Zu3eZechumDH6nU3XCHpYAfx89KmfOnHW/C2vI7P5tt2TKHNZT+0CKsJEH3KiP+GNeT+fLZ2Usj/ntsT5pxVc8nGHQwAH6xFzE70RWwX7LT8XWSJE8uVYAHsqcOdzx8j+TXzuR0OOJMOJ2BIyKFC9eXKdYDhk6RNZYmaCvBgMybIwanTp12r0kDDoQUFD5652MCQg30i+mKXbt0kUmThiv1+TYsWPuNcJDbyYaO71e7Sl16tSRJ594Qqc+33JPhXcK+ZN3h8nFixd15AH/Oznv3hA3/j15Mtx5xbU5ZOVjRlTDH9X4c7/DbTAYtdnw1Vd6ru0Qhz777DMp8nyRcJW5AwcPhFsXo7LnrXSCdBGV627gt9KbWJUO3MKAkQnMPHFZ/yKCcKWxKicolwpb+ZA5Hm7FwDHNA8Uik04wMozGG/IyO4wMJLXStvcMBqf87Re3ZeDlzUmcxbVDxwQeZNSwYQO9xQBhNPl1oM/tzLlEZ6f9+p6y6hb2il5UrhNEdbv7DfLO/1nnAhVzO+SlO3b8Gq6jOaZgZK34C7jFboOsX79eihUtpiOfkYXRZntdEukMs6acQp0AdQPvOIf6LMoSXx3yvvgqj1A3RsP/CauMcCoy6cWfyNZxolo2OTkOZrR4n5fIXiMjWOfYiaiUIzGRv6ItdP36DR0gws+kTZk8SQo9V0h/ugyCEV9CQdAaxpjqggYH7iHA8P5LFSrKi2XLydhx4/TzqlWr6hRQTDXBU9YwpbBf/9dkzZrP5e35b8vRo8esC51FC3FMc0MFAE8YRUP79fETwv2uHTLh0mVKa+UC00irVqsuNWrWki3un+kwnn46n5SwGg6Yx4+elhkzZ0rXbt31NzA/+mhZjEzDof8WepFxbx2miSBuoTBHYYgOGkwtqVypkna0GKhAvfXWW9o4Qobx7bffyapVq6VUyVI6Mps9ezbNRN5++x1PxQAzGdq17yArVqzQ974gw8LTKpHBoQBFA2nZsuXhpr2gYpcyVUqdaoOCFZkaevSKPv+8zJnzlqcSjHsIBw0epE9HxTq7du/WaTTbt2/37Hv7tu36sxe+KijZrOX4zpjKi++AbZCekAYqVa4UrhERk/DERaT79VblBudav8uu3VYDP4WnkpMmTRotKJAfYFQPaRT31qAChgIO2/3ww496jSID9wbt2rVTVn76qR4X+/rkkxXy3oL39To7Oe/eEDfQUMN5tccfPLHUcBJ+X/HASfwJRZgmhtG7adOm6RQ8XCNUdvBk3J6v9tKOHuT5dp988ok+awLnEfEfv3jwmFURe9iqPETluhvoUML1wLXHvvfu/V0+/HCJ+9MwvuIznky9zEp7uGcS8QHxYsnSpdKhQwcrPzrpKJ3YocFWtmxZmTZ1mm4LyKPemjtX8zs0KqIC+8X9lfb9onwfpk9F/Uff2wWKs6iUvf76eJk0ebJWdrEOplCi0pv5ocwBP/dmziXyMfv1fcfKq5HnG06uU3JrHVQ60TmP9cDJdqEA92Wi8j1t+nRNI4iTyKdmzpxllUHb5MUXX3Sv6fs8RgbyQkyb3ffnPr2WOJaBTu+NX2/UhjH+jixcT+QP+CUKxCm8kBccdad7J1BWoG6AOIe8HuFDXMXT6r+00ivipK/83FuRIkXk9717w5VHK1au1GcL4H5qJyKbXvyJbB0nqnUbJ8cp+nxRLac/+2yVnlvse9HixdqYjYiveBeVc+zk2vkSlXIk2PkrvLdggdWu6q/HBoTljz//sM57jqDFl1AQtIYxet/HjB6lvRCYh48LgsIJ93Di92ObNm2imQoq7j16dNfpzSjM+vTtq1NAUZkZNnSI9nQ0btRQ591/tGyZ9O7TWyv29swX8ACBGW+8ob2I6GVH7wimo9lhZKZ//356LFRCZs9+U/+vVaum9Or1aoz3ctLdhzhWrWpVGTxokFYMS1iFWPESJfVnmjpaFU/7z/dAyRIlpGjR56WaFX/yFygow0eMkP79+krevLcfrIEpMchEyrxYVu9Tr1O3rsa7ihUr6jq+oBMID2LAPSfP5C9ghaGExI0XV0cMDYTjZWtfW37YIpWrVLUKhF0afqQhPHQDYcLxyr9UQVKlTGU1hhvqNk88/ri0bdPaagi8qvvGffrI3DCtGhm7N2yD757KyvDxHbBN7959pFXLFlIwCg+1iCqck1d79pApU6bouS5gNVZXrV4tPXv00LQKBQsWlEdy5dJzvMBqtOL7oKMDD7DAcwKw3eo1q/W6RQZ6V4cOGSqffvqZHhf7WvfFF4KH8pnp6YHOuzfEjY4d2st1q8AtWuwFDdsXX36hP39jOAm/r3jgJP6EKjycZaoVhzZu/Frj8/NFi8mr1jl/sUwZee21/nfk6927ddMpZTiPWD9B/PiapnH9onLdDZQj5tpj3xMnTdLpa3be8RmQt6D8GT58hMYHxIvPP18rPXv21Ia/k3Rih++Ah3mVLFlSatSsqd8BHWcvvlhGKlXyn0cFYs7N81aFz+wXnd7lypezKp2F3WvdFijOIi1gGiXuxStiVYCxTqfOnTVPxohRoM99wbns3q2r55i1atfWn3expy8n1wn3NeKhiy1btZIJEyZqJdLJdqEAlf4RI4ZrQwH5E+JkqdJldBQZD/YxDycDX+cxMtB4RZybO2+eNGvWXB+4amTNmkXyPpVXX/g7skxe/I8VvypVriJNrLiKdF+gwJ0/3RMRxDmM2o0dO1bPBeIq4myL5s00v/CVn3vDjMjhw4eFK48wdR+zv1CXdiIq6cWXyNZxolq3cXIclNP9+/WTedb1x7nFvrM8nEXq1qmjn/vjK95F5Rw7uXa+RKUcCXb+Cgg77kvHsbE/PM8EHTno3ApWfAkFQfsdYzv09KBnAyO6yOj8QeRF7w4qMt6VGbMPVFpxQb1hW/Q6YWqL6RHHqEGbtm31fuSRI0eEO7Y5Fpb52h/dW4IRDwHXHHEJFUpkRHZorJjfiEPGhZEnrOcrEwPEoUDreENPIaY3+4vHgCSI38Xz9cCPiLY1nwdKZ3YYtUJPI9KM0weFBJtJ2zi+r+sCeIpjggTxPWHEOcJ3xXun39UXsx/wd2wn18xbRPEMnITfVzyISlhig2Cl74jiMz4zvx2KDqBA5z+q5zrQtQfv+AyB4oSTdOItKnmUE5EpP52cR+wL99b5C2egz705PWag64Rj4jP7MZ1sd68LZnrDy1edzc7XeYwMnG9MCbXnhRjxGzlqtN5ficGO6EB6xJPmo3M9Tfr0V/76ys+9OSkXnIhsevEnMvmHkzTn7xwEOo45t6jfRxTPvPmKd1E5x06unT9RKUeCnb+adOpvf8GKL7FVoPwwRhrGMQ1BxgO68LROPIa8YYMGcu36NZ2ioU+969JFmjdvFmsLMbo78dDeMI5M5ktE0XM30re9YYx7dYlCVWyo1/ljGjbbtm3ThwWNGztGfw2AiCgqAuWH/82QUTShwVuv3is6PXvnzv/plNJ+/frLgQP7pXOnTjo9gY1iIiIiotgLP9HUsWMnGTFylHRo346NYiKKUbFyxNjOTBkAJ9MQKHaIzT3cRBQxpm+iu4fpjYgozH05YmyHKbB4uhtebBQTERERERFRZMX6hjERERERERFRdLBhTERERERERCGNDWMiIiIiIiIKaWwYExERERERUUhjw5iIiIiIiIhCGhvGREREREREFNLYMCYiIiIiIqKQxoYxERERERERhTQ2jImIiIiIiCiksWFMREREREREIY0NYyIiIiIiIgppbBgTERERERFRSIvjsrj/Vnv37nX/RURERERERHR/yJMnj/uvO/lsGEe0AdHdwHhIdP9i+ia6e5jeiIjCBMoPOZWaiIiIiIiIQhobxkRERERERBTS2DAmIiIiIiKikMaGMREREREREYU0NoyJiIiIiIgopLFhTERERERERCGNDWMiIiIiIiIKaWwYExERERERUUhjw5iIiIiIiIhCGhvGREREREREFNLYMCYiIiIiIqKQxoYxERERERERhTQ2jImIiIiIiCiksWFMREREREREIY0NYyIiIiIiIgppbBgTERERERFRSAtaw3jKlKny9DP5Pa9KlatIp06dZeXKT+Xy5cvutWKXixcvypkzZ+TKlSvuJXSv++nnn6VCxUryxx9/uJfchmvZqHETXYeIiIiIiMiIsRHjv/76S77ZtEkGDBwo3Xv0lH///df9Sezx1ltzpWSp0rJmzRr3EooNjh49Km+8MUMuXLjgXkJE95OPP/7Y0wmLzi50ejkVnW1ji5joBGTHYugy196kG6ShexHiJsJ3L8ZRhCnY+U1M7JMo1AW9YdyieXPZvm2r/PTjD/LOO2/LU089JZs3b5aZs2bLtWvX3GuFwUgsEvTZs2fl5s2b7qXhmVFbrHPr1i330vD8reNyueT8+fP6GY51/fr1cMfCuniPz7Ee1gez3ZWrYSPFly9fuSOM+Nts6z2ijOPYw4N9IYx0d2TKlEn+OXFCPvxwieeaRsRcS+9rDLiWuH7mOvq63ob3dSei4MPspC1bfpAt32/WsqZO7Voyduw4xzN7atSoodvNnfuWe0nshLyGDVWKafv275d69RtIt25dNd1s/GqDLP1oWaTiXTDiKhrj/fr1d5zO/ws4Vw0bNdb/iSh2irER4wQJEsgzTz8tA17rL+nSpZONGzfKgQMH9TM0PpYuXSolSpbUEdkSJUtZlZWasnXrVv0cTp06Jb169ZaixV7wrNOyVWtrHwfcawRe5+rVqzJq1Gj97I0ZMzTDeqVefTl46JDs3LnTet9It8HnLxQvIb1799F9mu0WLlyk+xkzdqxnOzS0Pv/8cyn/0kuebfE93luwwNOo2r5jhy5v376DjJ8wQUqVLqOjz3R3pE2bVrp17SJrrOv08y+/uJf6hjiHuNe0WTOp36DhHfEQ13LwkKEyafJk6/MG0qBhI6lcpYpWzA0TJ3D7QKvWbaRW7drStl17nTVBRMGDivWxY8dk8OBBkjhxYl1WoUIF/f9/Vp5ORMGDRuicN+fIiBHD5dmCBXVZqlSptJH80dKP7rlGKsKIxrsJKxFRZMX4w7eyZs0qTz35pJw4cUIOHgxrGH+5fr2MHjNWsmfPIaNHj5LevXrJpcuXtAGyf/8BzWwnT54ia9etk7x581qN69esys9L8ovVyJk6bbpcunQp3DrPP/+8jB0zRipXrqzrjLQatWjg2r377nuSLFkyKVu2bNi2U6bK3r2/S6tWLWX6tKlSvHhx3deC99+XuHHjSpHni2jDHkpaDd+6depIiuTJtaE1YuQouXbtunTu1Ele699fUqdOo2FZtWq1rm/s3LVL77GuVq2qjmLS3fPII49Igwb1ZfbsN/1O40dcQzzs16+vLF+2TD77dKV0795Nxr3+uhw+fMS9lminTs4cOWXFJ5/IpytXSPt27WT+/Pk6ggy//vo/mTtvvrwxfbosXfKhrF61SuPO9Olv3HMVB6LYCmkJlfHadWp7GsWAvwsXLiRHDh92L7k9pdK8IjvS5L09RqntMCKEZxmYz72nM+JYOKZ9H2a0DP/js5GjRulydMCadc064B0G85kZfUPn66+//iotW7byrOMdTpSDWBefIbz2kSzvMHp/DvYwmONR6DCdTajD2T2SK5f+b9KUd1w16c1pXI0oLppbH1A/XLV6tRQu8vwd63inR3s6svN+Fo6ZEo7/kR5NGFAXRLi904R9e3uaN8evWbOW/O9//9P/vY9h/PDjj57PzHkyzPkyn9uPYdjDgPNJREHm8rJnzx73X5FjNQxd+Z5+Rv+3u3z5sqtv33762fLly10XLlxwde3azfV80WKurdu2uddyuRYseF/Xwf+7d+92lSpdxlW1WnXXoUOH9XMrc3D16/+aq23bdq4DBw74XadV6za6n7Vr14U79thx41w3btzQ9fA/1rUaTJ5lSz/6SNfD+tgOzHdCuAHrjh4zRpe9OWeO69atW7p89eo1ugxhO3funOvHn37S9y+WLefatWuXrkORE9V4iHPfsFFj1+nTp/U6Dhw4yPXGjBl67bAMn2EdQFwbNHiI6+rVq/oe8DeWmWuOdZs0babxxfhz3z5X48ZNNB6aOLH4gw/cn4Y5fvy4J64SUXhRSd9Iv8if8b/JY/FCPo339jT7UoWKmk4jgvVMXmGH91Zj1f0uLL1jf1gfvPMRXxAm77LQwHYIN8KLF/7GMvs2eG//Dt5hgIjCYT6z7wP7NuWbKRvtYfQ+pvd7J9+b7k1RLU9NHLXXpRAnrAazxh3ECcSPBg0beeKJL4Hizudr14bb3h5XDYTDe5m3iI7ja5+Gdzo03xHr4zPw3h7LcSwc04joXGDfOIbZhwmr2b/3e/A+hncYsE/vMBBRxALlhzE+YmwdQ26677dMliy53mv799Gj+n/Tps08PV8YpQOM7mF0GT3djz32mKRNm0aXp0yZUkaNHCGzZs2UbNmyedbJmSOHpE79oGcd07O5d+9e/d/Ikzu3xIsXT//G/zj+kiVLpUXLVjoFdtiw4fpZRNCzd+zoMf37sUcflThx4ujfeR7NoyPCR/46Em6kOmPGjBwp/g9hJKl169byzTffyJYtW9xLb0Ncy5cvryRMmNC9RPTv9OnSycGDh9xLRDJb1zBRokTud2EQp/HS+9bPnJVFixbpVH3z6tylq/yy9Rc5EQsfOkd0L/rjzz81T4W3578ty5cvk6FDBlvlQVZdhjSLPBqjyu3attGyISowVbR+/Xrud2HpP/8zz4QbkYZvN33r/ss3q9J6x2iPgZlQpUqV0r8rVayo5Zb5HoB9278D/q9YoULAY3rDFFizj2IvFJPDR47oOUIZfMj6PlWrVdXPAGHA99yxfbu+9w4DhRbEE8x6y/f00/oAUqQ93F+MOJI6dWq5cPGCnDp9Wtc9efKkJ95ERfly5cLFM3tcDQaM6GKktnWb1uFmm9iZdAhIa08+8YQnv0E6/v3338Ntb9Iv8iWnkO779Omt+0A+89yzz3rqGmY/Zr9gP4avMBBR8MV4w/josWOyY8cOzUizZHlY4sePL/Gthineo1Ize/ascK/KlStZjZOwRsi1q1f9PsTIrGMX1ggPu8/XuyFjhym07dp3kHnz52mlp42V0QwfPsz9qX+YYp3Qx35dVhhx7ATxE+j3o3sH4lyH9u11WjOeVu3tyuXgFLzVq1eXzp07eV6Ykj116lTJlTOnew0iii40HlFJTJEihebdqFQ+nCWL5zNUpFGhNsuiyj5dEVM3MYXTQIUWt9+g4WvW8Z4u2bVrF630YgopPveeMhkRrKf3UQ8Z6tk/XvPmz3evEX3owEXHbuoHwzqVAZVtNARMBwPCQKEtebLkkiRJEn2mBhqraAgnT2Ets+IKPkP8QYN2xow3ZNbsNz1x1d9UZn+8p0IHe4qwr/geGfjeyHfsU6SDfWsBOt6yPPxwuEYv/sYyfIYwnPbT0UZEwRNjDWM0FA8dOiQTJ07SBkmRwoUle/bsYYWvVaE5d+6cpEmTRpfjlTlzZveWIg9amRce2IX7W7APQCGNB2C9VKGi/GllUL7WwQjg9u079O9HH82j//uyffs2q/A/KPXq1ZNRo0ZKDatRc8vracR2ZsRbRxPTp9e/N3//vT5sC99zx45fNXwYyUalie4tRYsW1XvGx70+Ptz9xqhI7/3993BPS8f963/u2ydPPPGEe0nE8JC5NGnTaodI4UKFPPEZleL8VuGJeEpE0WdGbPG/GckxjTfzmb0iGVVo5KLRi9ExPMgHT7/GaJId8vkF772rn2PkGo0C78YAGsdme8DzDpwwDVR0HGN7+wv7DAZ0TKPsMiN+YBrD9pFrCl0mPqDzGM/TQJxBA/PC+Qty2avjBI3jNatXaRzF094HDBgY7t7ciGAkdNCgwTo7wcTzYD8x3ld8jww0qHFfNdK6CaN5BetBX+jM8x4lx9/B6OgjIueC3jBGrzZ6057JX0CqVquu01jxk01trUwPBX7SpEmlZo3quu6QoUNl7Lhx+mrevLn06NFTTp48Jbly5ZTy5cvpdOlu3XvoQxE6de4iv/32mzY+HnroIV0HD7XCOnia9MRJk/T3krdt26YP48qXL58ew5d06dJrQ2bt2nXy6aef6c/6oGLjzYz+zpgxQwYOHCSXL1+2GtHVdHr0Bx98KP36vyYjRoyU0WNG67qVKlfSB3zRvQVT5xvUry9x48QJN2pcpEgR+X3vXln56afayYEG8oqVK+XSxYtSsGAB91oRw74xDWzZR8vkxx9/1BkO2M+SpUulQ4cOVkP8pHtNIooO78qhmQ6MES0z5RNlDB7EhfzcacXcG0ZM7SM3mEZqHzH2hkoznoTvj2noRgZG5wJ9B+wX4Yzs9GrAaHtW63yuXLHSvSTse6ISjumb5jxipBCVczReUAbz4Vuhw1e8RVzDMvziAv73NRCARigGPewiiqtorKLD2qRvxLXJk6fo33b4fKtVv0O6jywT3/GEbXvD0yl8z9y5cwfcHnkBRqajMq3cPNDsq6++0v/hnXfe1fOGKd7mO5h9oyOOD98iCr4YnUqdJ09unVI6a+YMHS02ihUrJiNHjLAakwn0iZx4JU2SVO+HKlToOW1sdOrYUZo2bSKnT5/Shut+TLWp8JL+TAAyWazTtk0bfTL08X+Oawaye/duXWf4sKF6v7E/+fM/I/Xr1dNG9YCBA2W1VSFo1qyp+9PbXnnlZSlRooQ2brZu26r30eBpxxMnTNCGN36iZ+lHH8mDD6bW71P2xRfdW9K9BhXXNlZ8eeCBB9xLwu4BxxR6dI4UKPisPFeosHz55Xrp27ePFu5O5c37lPTq9aq1rxGSv0BB3c/nn6+Vnj17eu6RJ6LoQ6MVDWDk2RhlKm014ho0aKjTOs09ividYow+2ac9mqnMeJknz6JSiYYepkTanz6LcgcNRPP0WxwTv89veE/7xPb4LWUzcmQ/hnlhdA2dw05hXygP7d8BL/uoNMpB3G+Ic2E+xxRwJ7At7nW0TwfHb9Niirhp7JifwcJ5wHdE+L1Hzun+hvuIXdY/NAoRF9HxjziDEWFzfzripIlDeGE91Pvs9wxHFFexHtIr0iOW4zeTmzRpLKm86nBIE7j316QJe5rFLA8sM9Obzb7MLQ44Pn7iDUy6tn/uBGZroM5g3977qdFIO6ij2m+DcHoMbDvMqrvap6Qj3zA/TWfOofkcnQcYWfc+T0QUPXFcmF9ig4dW5cnjfxpyMOHQFy5c0L+TJ0/ueZiVHUbysA5GmjFt1Rcn6/iCCgwenuTv2MbVq9esRnw8bYzb4QFeGCEMtD1F3n8RD3EPeXRG/IO1H6L7XVTSNyqgY8eO0wadr5EqIvItquWpadShs4mI6H4QKD+M8YdvRQSNSTxEBS9/DUs0RjH6G1GD18k6vqAHLqJjG4kSJbyjUQxo/DjZnu5tJh5GtzEbrP0Q0Z3QGMaIDRrHZjojGsuLFi3Wv4kouDA7AyOU9pkK+I3fqN6mQER0r/tPG8ZEREROeU9nxLTLwkUKuz8lomAyT5zG1GkzvXf3rt3hpkkTEd1P/tOp1ET+MB4S3b+YvonuHqY3IqIw9/RUaiIiIiIiIqL/GhvGREREREREFNLYMCYiIiIiIqKQxoYxERERERERhTQ2jImIiIiIiCik+WwYez2omoiIiIiIiChWctK+vaNhHD9+fLlx44b7HREREREREVHshfYt2rkRuaNhnDhxYrl8+bL7HREREREREVHshfYt2rkRuaNhnDx5cjl//rz7HREREREREVHshfYt2rkRuaNh/MADD8jVq1fl0qVL7iVEREREREREsQ/atWjfop0bEZ8P30qbNq38+++/fAgXERERERERxUpoz6Jdi/ZtID4bxmhNYw72vn372DgmIiIiIiKiWAXtWLRn0a4NNFoMPhvGkD59ekmRIoUcPnyY06qJiIiIiIgoVkD7Fe1YtGfRrnXCb8MYsJNUqVLJsWPH5K+//pJz587J9evXOYpMRERERERE9wS0T9FORXsV7Va0X9GOddoohjjWThy1cnGQCxcuyJUrV/g7x0RERERERHTPwO8UY9o0nj7tZOq0N8cNYyIiIiIiIqL7UYRTqYmIiIiIiIjud2wYExERERERUUhjw5iIiIiIiIhCGhvGREREREREFNLYMCYiIiIiIqKQxoYxERERERERhTQ2jImIiIiIiCiksWFMREREREREIY0NYyIiIiIiIgppbBgTERERERFRSGPDmIiIiIiIiEKYyP8BrWBAyIT84CAAAAAASUVORK5CYII=)"
      ],
      "metadata": {
        "id": "x89_f0LX3BFm"
      }
    },
    {
      "cell_type": "markdown",
      "source": [
        "**7) Create a class Engine and a class Car that uses Engine as a component.** Composition"
      ],
      "metadata": {
        "id": "Ka9Vf2iGxO0s"
      }
    },
    {
      "cell_type": "code",
      "source": [
        " class Engine:\n",
        "    def __init__(self, horsepower):\n",
        "        self.horsepower = horsepower\n",
        "\n",
        "class Car:\n",
        "    def __init__(self, model, engine):\n",
        "        self.model = model\n",
        "        self.engine = engine\n",
        "\n",
        "my_engine = Engine(150)\n",
        "my_car = Car(\"Ford\", my_engine)\n",
        "print(f\"Car Model: {my_car.model}, Engine Horsepower: {my_car.engine.horsepower}\")\n"
      ],
      "metadata": {
        "colab": {
          "base_uri": "https://localhost:8080/"
        },
        "id": "LCW3XsqBp0pt",
        "outputId": "9f67b647-b461-4aed-c943-a03eaf82490c"
      },
      "execution_count": null,
      "outputs": [
        {
          "output_type": "stream",
          "name": "stdout",
          "text": [
            "Car Model: Ford, Engine Horsepower: 150\n"
          ]
        }
      ]
    }
  ]
}