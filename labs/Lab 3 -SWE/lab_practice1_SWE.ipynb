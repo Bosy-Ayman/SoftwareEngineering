{
  "nbformat": 4,
  "nbformat_minor": 0,
  "metadata": {
    "colab": {
      "provenance": []
    },
    "kernelspec": {
      "name": "python3",
      "display_name": "Python 3"
    },
    "language_info": {
      "name": "python"
    }
  },
  "cells": [
    {
      "cell_type": "code",
      "source": [
        "from abc import ABC, abstractmethod\n"
      ],
      "metadata": {
        "id": "RBIuKr7KHaSe"
      },
      "execution_count": 2,
      "outputs": []
    },
    {
      "cell_type": "markdown",
      "source": [
        "Step 1: Base Class Account (30%)\n",
        "\n",
        "●\tCreate a base abstract class Account that models a generic bank account.\n",
        "\n",
        "○\tAttributes:\n",
        "\n",
        "■\tProtected attribute _balance (initial value is 0)..\n",
        "\n",
        "○\tMethods:\n",
        "\n",
        "■\tdeposit(self, amount): Adds to the _balance. Ensure the deposit amount is positive. Raise a ValueError if it isn’t.\n",
        "\n",
        "■\tget_balance(self): Returns the current balance as a float.\n",
        "\n",
        "○\tAbstract Methods:\n",
        "\n",
        "■\twithdraw(self, amount): An abstract method to be implemented by subclasses.\n"
      ],
      "metadata": {
        "id": "WzK9R41GFYN8"
      }
    },
    {
      "cell_type": "code",
      "source": [
        "class Account:\n",
        "    def __init__(self, balance=0.0):\n",
        "        self._balance = balance\n",
        "\n",
        "    def deposit(self, amount):\n",
        "        if amount <= 0:\n",
        "            raise ValueError('Deposit amount must be positive')\n",
        "        self._balance += amount\n",
        "        return self._balance\n",
        "\n",
        "    def get_balance(self):\n",
        "        return self._balance\n",
        "\n",
        "    @abstractmethod\n",
        "    def withdraw(self, amount):\n",
        "        pass\n"
      ],
      "metadata": {
        "id": "qaodiTD5P2_i"
      },
      "execution_count": 3,
      "outputs": []
    },
    {
      "cell_type": "markdown",
      "source": [
        "Step 2: Subclass SavingsAccount (25%)\n",
        "\n",
        "●\tCreate a subclass SavingsAccount inheriting from Account.\n",
        "\n",
        "○\tAdditional Attributes:\n",
        "\n",
        "■\tinterest_rate: A float representing the interest rate (default is 0.05 or 5%).\n",
        "\n",
        "○\tMethods:\n",
        "\n",
        "■\tcalculate_interest(self): Returns the interest based on the current balance (interest = balance * interest_rate).\n",
        "\n",
        "■\tImplement the withdraw(self, amount) method.\n",
        "\n",
        " This method should raise a NotImplementedError since withdrawals are not allowed from savings accounts."
      ],
      "metadata": {
        "id": "R9MYDkVuIUpj"
      }
    },
    {
      "cell_type": "code",
      "source": [
        "class SavingsAccount(Account):\n",
        "    def __init__(self, balance=0.0, interest_rate=0.05):\n",
        "        super().__init__(balance)\n",
        "        self.interest_rate = interest_rate\n",
        "\n",
        "    def calculate_interest(self):\n",
        "        return self._balance * self.interest_rate\n",
        "\n",
        "    def withdraw(self, amount):\n",
        "        raise NotImplementedError(\"Withdrawals are not allowed from savings accounts.\")"
      ],
      "metadata": {
        "id": "RDNs8c3YQB5V"
      },
      "execution_count": 4,
      "outputs": []
    },
    {
      "cell_type": "markdown",
      "source": [
        "Step 3: Subclass CheckingAccount (15%)\n",
        "\n",
        "●\tCreate a subclass CheckingAccount inheriting from Account.\n",
        "\n",
        "○\tMethods:\n",
        "\n",
        "■\tImplement the withdraw(self, amount) method.\n",
        "\n",
        "Ensure that the withdrawal does not result in a negative balance.\n",
        "\n",
        "If the balance is insufficient, raise a ValueError\n"
      ],
      "metadata": {
        "id": "B-1XQqP9McLK"
      }
    },
    {
      "cell_type": "code",
      "source": [
        "\n",
        "class CheckingAccount(Account):\n",
        "    def __init__(self, balance):\n",
        "        super().__init__(balance)\n",
        "\n",
        "    def withdraw(self, amount):\n",
        "        if self._balance - amount < 0:\n",
        "            raise ValueError('Insufficient balance')\n",
        "        self._balance -= amount\n",
        "        return self._balance"
      ],
      "metadata": {
        "id": "pv3VD_byP-bD"
      },
      "execution_count": 5,
      "outputs": []
    },
    {
      "cell_type": "markdown",
      "source": [
        "Test Cases (20%)\n",
        "\n",
        "Below are specific test cases that you must implement and ensure your code passes. Use these to verify your implementation.\n",
        "\n",
        "Test Case 1: Deposit in Savings Account\n",
        "\n",
        "1.\tCreate a SavingsAccount with an initial balance of 1000.\n",
        "2.\tDeposit 500 into the account.\n",
        "3.\tCall get_balance() and expect the balance to be 1500.\n",
        "4.\tCalculate interest using calculate_interest(). Expect the interest to be 1500 * 0.05 = 75.\n",
        "\n",
        "Expected Outcome:\n",
        "\n",
        "print(savings.get_balance())  # Expected: 1500.0\n",
        "\n",
        "print(savings.calculate_interest())  # Expected: 75.0\n"
      ],
      "metadata": {
        "id": "Mmsw2qPsOL8l"
      }
    },
    {
      "cell_type": "code",
      "source": [
        "account = SavingsAccount(1000)\n",
        "account.deposit(500)\n",
        "print(\"Balance:\",account.get_balance())\n",
        "print(\"Interest:\",account.calculate_interest())"
      ],
      "metadata": {
        "colab": {
          "base_uri": "https://localhost:8080/"
        },
        "id": "ASgez-sLQIDu",
        "outputId": "609a66cb-5985-4f8a-db64-003014d18630"
      },
      "execution_count": 6,
      "outputs": [
        {
          "output_type": "stream",
          "name": "stdout",
          "text": [
            "Balance: 1500\n",
            "Interest: 75.0\n"
          ]
        }
      ]
    },
    {
      "cell_type": "markdown",
      "source": [
        "Test Case 2: Withdrawal from Checking Account\n",
        "1.\tCreate a CheckingAccount with an initial balance of 500.\n",
        "2.\tDeposit 200 into the account.\n",
        "3.\tWithdraw 400 from the account.\n",
        "4.\tCall get_balance() and expect the balance to be 300.\n",
        "5.\tAttempt to withdraw 500 and expect a ValueError due to insufficient balance\n",
        "\n"
      ],
      "metadata": {
        "id": "sXJqvE8bQxQe"
      }
    },
    {
      "cell_type": "code",
      "source": [
        "savings = CheckingAccount(500)\n",
        "savings.deposit(200)\n",
        "savings.withdraw(400)\n",
        "print(savings.get_balance())"
      ],
      "metadata": {
        "colab": {
          "base_uri": "https://localhost:8080/"
        },
        "id": "nVsgk0dqQsgK",
        "outputId": "607d0918-f94b-4297-e6f7-14df9cd20760"
      },
      "execution_count": 17,
      "outputs": [
        {
          "output_type": "stream",
          "name": "stdout",
          "text": [
            "300\n"
          ]
        }
      ]
    },
    {
      "cell_type": "code",
      "source": [
        "checking = CheckingAccount(500)\n",
        "checking.deposit(200)\n",
        "checking.withdraw(400)\n",
        "print(checking.get_balance())\n",
        "\n",
        "checking.withdraw(500)\n"
      ],
      "metadata": {
        "colab": {
          "base_uri": "https://localhost:8080/",
          "height": 329
        },
        "id": "t70rnrmwR7Di",
        "outputId": "d6fb736f-01ba-42ac-833a-e0eb64707c71"
      },
      "execution_count": 16,
      "outputs": [
        {
          "output_type": "stream",
          "name": "stdout",
          "text": [
            "300\n"
          ]
        },
        {
          "output_type": "error",
          "ename": "ValueError",
          "evalue": "Insufficient balance",
          "traceback": [
            "\u001b[0;31m---------------------------------------------------------------------------\u001b[0m",
            "\u001b[0;31mValueError\u001b[0m                                Traceback (most recent call last)",
            "\u001b[0;32m<ipython-input-16-84f26937bf3c>\u001b[0m in \u001b[0;36m<cell line: 6>\u001b[0;34m()\u001b[0m\n\u001b[1;32m      4\u001b[0m \u001b[0mprint\u001b[0m\u001b[0;34m(\u001b[0m\u001b[0mchecking\u001b[0m\u001b[0;34m.\u001b[0m\u001b[0mget_balance\u001b[0m\u001b[0;34m(\u001b[0m\u001b[0;34m)\u001b[0m\u001b[0;34m)\u001b[0m\u001b[0;34m\u001b[0m\u001b[0;34m\u001b[0m\u001b[0m\n\u001b[1;32m      5\u001b[0m \u001b[0;34m\u001b[0m\u001b[0m\n\u001b[0;32m----> 6\u001b[0;31m \u001b[0mchecking\u001b[0m\u001b[0;34m.\u001b[0m\u001b[0mwithdraw\u001b[0m\u001b[0;34m(\u001b[0m\u001b[0;36m500\u001b[0m\u001b[0;34m)\u001b[0m\u001b[0;34m\u001b[0m\u001b[0;34m\u001b[0m\u001b[0m\n\u001b[0m",
            "\u001b[0;32m<ipython-input-5-cb9b51ca14ac>\u001b[0m in \u001b[0;36mwithdraw\u001b[0;34m(self, amount)\u001b[0m\n\u001b[1;32m      5\u001b[0m     \u001b[0;32mdef\u001b[0m \u001b[0mwithdraw\u001b[0m\u001b[0;34m(\u001b[0m\u001b[0mself\u001b[0m\u001b[0;34m,\u001b[0m \u001b[0mamount\u001b[0m\u001b[0;34m)\u001b[0m\u001b[0;34m:\u001b[0m\u001b[0;34m\u001b[0m\u001b[0;34m\u001b[0m\u001b[0m\n\u001b[1;32m      6\u001b[0m         \u001b[0;32mif\u001b[0m \u001b[0mself\u001b[0m\u001b[0;34m.\u001b[0m\u001b[0m_balance\u001b[0m \u001b[0;34m-\u001b[0m \u001b[0mamount\u001b[0m \u001b[0;34m<\u001b[0m \u001b[0;36m0\u001b[0m\u001b[0;34m:\u001b[0m\u001b[0;34m\u001b[0m\u001b[0;34m\u001b[0m\u001b[0m\n\u001b[0;32m----> 7\u001b[0;31m             \u001b[0;32mraise\u001b[0m \u001b[0mValueError\u001b[0m\u001b[0;34m(\u001b[0m\u001b[0;34m'Insufficient balance'\u001b[0m\u001b[0;34m)\u001b[0m\u001b[0;34m\u001b[0m\u001b[0;34m\u001b[0m\u001b[0m\n\u001b[0m\u001b[1;32m      8\u001b[0m         \u001b[0mself\u001b[0m\u001b[0;34m.\u001b[0m\u001b[0m_balance\u001b[0m \u001b[0;34m-=\u001b[0m \u001b[0mamount\u001b[0m\u001b[0;34m\u001b[0m\u001b[0;34m\u001b[0m\u001b[0m\n\u001b[1;32m      9\u001b[0m         \u001b[0;32mreturn\u001b[0m \u001b[0mself\u001b[0m\u001b[0;34m.\u001b[0m\u001b[0m_balance\u001b[0m\u001b[0;34m\u001b[0m\u001b[0;34m\u001b[0m\u001b[0m\n",
            "\u001b[0;31mValueError\u001b[0m: Insufficient balance"
          ]
        }
      ]
    },
    {
      "cell_type": "code",
      "source": [
        "checking = CheckingAccount(-100)\n",
        "\n",
        "checking.deposit(-100)\n"
      ],
      "metadata": {
        "colab": {
          "base_uri": "https://localhost:8080/",
          "height": 311
        },
        "id": "BZUlHBlHSNT_",
        "outputId": "3b3825b2-0ef2-422f-fcc1-35712dcfdbc7"
      },
      "execution_count": 15,
      "outputs": [
        {
          "output_type": "error",
          "ename": "ValueError",
          "evalue": "Deposit amount must be positive",
          "traceback": [
            "\u001b[0;31m---------------------------------------------------------------------------\u001b[0m",
            "\u001b[0;31mValueError\u001b[0m                                Traceback (most recent call last)",
            "\u001b[0;32m<ipython-input-15-f7c34d249f6b>\u001b[0m in \u001b[0;36m<cell line: 3>\u001b[0;34m()\u001b[0m\n\u001b[1;32m      1\u001b[0m \u001b[0mchecking\u001b[0m \u001b[0;34m=\u001b[0m \u001b[0mCheckingAccount\u001b[0m\u001b[0;34m(\u001b[0m\u001b[0;34m-\u001b[0m\u001b[0;36m100\u001b[0m\u001b[0;34m)\u001b[0m\u001b[0;34m\u001b[0m\u001b[0;34m\u001b[0m\u001b[0m\n\u001b[1;32m      2\u001b[0m \u001b[0;34m\u001b[0m\u001b[0m\n\u001b[0;32m----> 3\u001b[0;31m \u001b[0mchecking\u001b[0m\u001b[0;34m.\u001b[0m\u001b[0mdeposit\u001b[0m\u001b[0;34m(\u001b[0m\u001b[0;34m-\u001b[0m\u001b[0;36m100\u001b[0m\u001b[0;34m)\u001b[0m\u001b[0;34m\u001b[0m\u001b[0;34m\u001b[0m\u001b[0m\n\u001b[0m",
            "\u001b[0;32m<ipython-input-3-1b5344d2da87>\u001b[0m in \u001b[0;36mdeposit\u001b[0;34m(self, amount)\u001b[0m\n\u001b[1;32m      5\u001b[0m     \u001b[0;32mdef\u001b[0m \u001b[0mdeposit\u001b[0m\u001b[0;34m(\u001b[0m\u001b[0mself\u001b[0m\u001b[0;34m,\u001b[0m \u001b[0mamount\u001b[0m\u001b[0;34m)\u001b[0m\u001b[0;34m:\u001b[0m\u001b[0;34m\u001b[0m\u001b[0;34m\u001b[0m\u001b[0m\n\u001b[1;32m      6\u001b[0m         \u001b[0;32mif\u001b[0m \u001b[0mamount\u001b[0m \u001b[0;34m<=\u001b[0m \u001b[0;36m0\u001b[0m\u001b[0;34m:\u001b[0m\u001b[0;34m\u001b[0m\u001b[0;34m\u001b[0m\u001b[0m\n\u001b[0;32m----> 7\u001b[0;31m             \u001b[0;32mraise\u001b[0m \u001b[0mValueError\u001b[0m\u001b[0;34m(\u001b[0m\u001b[0;34m'Deposit amount must be positive'\u001b[0m\u001b[0;34m)\u001b[0m\u001b[0;34m\u001b[0m\u001b[0;34m\u001b[0m\u001b[0m\n\u001b[0m\u001b[1;32m      8\u001b[0m         \u001b[0mself\u001b[0m\u001b[0;34m.\u001b[0m\u001b[0m_balance\u001b[0m \u001b[0;34m+=\u001b[0m \u001b[0mamount\u001b[0m\u001b[0;34m\u001b[0m\u001b[0;34m\u001b[0m\u001b[0m\n\u001b[1;32m      9\u001b[0m         \u001b[0;32mreturn\u001b[0m \u001b[0mself\u001b[0m\u001b[0;34m.\u001b[0m\u001b[0m_balance\u001b[0m\u001b[0;34m\u001b[0m\u001b[0;34m\u001b[0m\u001b[0m\n",
            "\u001b[0;31mValueError\u001b[0m: Deposit amount must be positive"
          ]
        }
      ]
    },
    {
      "cell_type": "code",
      "source": [
        "savings = SavingsAccount(1000)\n",
        "\n",
        "savings.withdraw(100)\n"
      ],
      "metadata": {
        "colab": {
          "base_uri": "https://localhost:8080/",
          "height": 274
        },
        "id": "AAH3JtruV3zf",
        "outputId": "26678a91-9a7f-4d82-dcb3-7244cd17e217"
      },
      "execution_count": 14,
      "outputs": [
        {
          "output_type": "error",
          "ename": "NotImplementedError",
          "evalue": "Withdrawals are not allowed from savings accounts.",
          "traceback": [
            "\u001b[0;31m---------------------------------------------------------------------------\u001b[0m",
            "\u001b[0;31mNotImplementedError\u001b[0m                       Traceback (most recent call last)",
            "\u001b[0;32m<ipython-input-14-f85d92fa1a2d>\u001b[0m in \u001b[0;36m<cell line: 3>\u001b[0;34m()\u001b[0m\n\u001b[1;32m      1\u001b[0m \u001b[0msavings\u001b[0m \u001b[0;34m=\u001b[0m \u001b[0mSavingsAccount\u001b[0m\u001b[0;34m(\u001b[0m\u001b[0;36m1000\u001b[0m\u001b[0;34m)\u001b[0m\u001b[0;34m\u001b[0m\u001b[0;34m\u001b[0m\u001b[0m\n\u001b[1;32m      2\u001b[0m \u001b[0;34m\u001b[0m\u001b[0m\n\u001b[0;32m----> 3\u001b[0;31m \u001b[0msavings\u001b[0m\u001b[0;34m.\u001b[0m\u001b[0mwithdraw\u001b[0m\u001b[0;34m(\u001b[0m\u001b[0;36m100\u001b[0m\u001b[0;34m)\u001b[0m\u001b[0;34m\u001b[0m\u001b[0;34m\u001b[0m\u001b[0m\n\u001b[0m",
            "\u001b[0;32m<ipython-input-4-d59f0cd6d55d>\u001b[0m in \u001b[0;36mwithdraw\u001b[0;34m(self, amount)\u001b[0m\n\u001b[1;32m      8\u001b[0m \u001b[0;34m\u001b[0m\u001b[0m\n\u001b[1;32m      9\u001b[0m     \u001b[0;32mdef\u001b[0m \u001b[0mwithdraw\u001b[0m\u001b[0;34m(\u001b[0m\u001b[0mself\u001b[0m\u001b[0;34m,\u001b[0m \u001b[0mamount\u001b[0m\u001b[0;34m)\u001b[0m\u001b[0;34m:\u001b[0m\u001b[0;34m\u001b[0m\u001b[0;34m\u001b[0m\u001b[0m\n\u001b[0;32m---> 10\u001b[0;31m         \u001b[0;32mraise\u001b[0m \u001b[0mNotImplementedError\u001b[0m\u001b[0;34m(\u001b[0m\u001b[0;34m\"Withdrawals are not allowed from savings accounts.\"\u001b[0m\u001b[0;34m)\u001b[0m\u001b[0;34m\u001b[0m\u001b[0;34m\u001b[0m\u001b[0m\n\u001b[0m",
            "\u001b[0;31mNotImplementedError\u001b[0m: Withdrawals are not allowed from savings accounts."
          ]
        }
      ]
    },
    {
      "cell_type": "code",
      "source": [],
      "metadata": {
        "id": "kv12CyKpVQR_"
      },
      "execution_count": 9,
      "outputs": []
    }
  ]
}