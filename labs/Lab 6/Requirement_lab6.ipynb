{
  "nbformat": 4,
  "nbformat_minor": 0,
  "metadata": {
    "colab": {
      "provenance": []
    },
    "kernelspec": {
      "name": "python3",
      "display_name": "Python 3"
    },
    "language_info": {
      "name": "python"
    }
  },
  "cells": [
    {
      "cell_type": "markdown",
      "source": [
        "Deliverables\n",
        "1. Code Implementation (Use any programming language):\n",
        "\n",
        "o Implement the Observer Pattern based on any use case.\n",
        "\n",
        "o The program must:\n",
        "\n",
        "▪ Use a subject to manage product discounts.\n",
        "\n",
        "▪ Implement observers (for at least two).\n",
        "\n",
        "▪ Ensure only relevant observers are notified when an update is applied.\n",
        "\n",
        "o Add documentation as comments in the code explaining:\n",
        "\n",
        "▪ How the Observer Pattern works.\n",
        "\n",
        "▪ The problem solved by this pattern in the use case.\n",
        "\n",
        "2. UML Diagram:\n",
        "\n",
        "o Provide a UML diagram representing the system design."
      ],
      "metadata": {
        "id": "aaF83_0LeolH"
      }
    },
    {
      "cell_type": "markdown",
      "source": [
        "Each product is owned by one moderator.\n",
        "\n",
        "Moderator get only notified of the discount of the assigned product.\n",
        "\n",
        "\n",
        "\n"
      ],
      "metadata": {
        "id": "6q-B9XBu2iFd"
      }
    },
    {
      "cell_type": "markdown",
      "source": [],
      "metadata": {
        "id": "HzbzAxY_NKCl"
      }
    },
    {
      "cell_type": "code",
      "source": [
        "from abc import ABC, abstractmethod"
      ],
      "metadata": {
        "id": "TkNbvxewyf0U"
      },
      "execution_count": null,
      "outputs": []
    },
    {
      "cell_type": "markdown",
      "source": [
        "Product Class:represents a product with a name and discount. It maintains a list of observers and notifies them when the discount changes.\n"
      ],
      "metadata": {
        "id": "y6SCdJm0NMS_"
      }
    },
    {
      "cell_type": "code",
      "execution_count": null,
      "metadata": {
        "id": "ASU3lkZmeY3j"
      },
      "outputs": [],
      "source": [
        "class Product(ABC):\n",
        "    def __init__(self, name):\n",
        "        self.name = name\n",
        "        self._discount = 0\n",
        "        self._observers=[]\n",
        "    def add_discount(self, discount):\n",
        "        if self._discount!=discount:\n",
        "            self._discount=discount\n",
        "            self.notify()\n",
        "    def add(self, observer):\n",
        "        self._observers.append(observer)\n",
        "    def notify(self):\n",
        "        for observer in self._observers:\n",
        "            observer.update(self)\n",
        "    @property\n",
        "    def discount(self):\n",
        "        return self._discount"
      ]
    },
    {
      "cell_type": "markdown",
      "source": [
        "All observers must implement the update method"
      ],
      "metadata": {
        "id": "gzPA4fbNNdls"
      }
    },
    {
      "cell_type": "code",
      "source": [
        "class Observer(ABC):\n",
        "    @abstractmethod\n",
        "    def update(self, product):\n",
        "        pass"
      ],
      "metadata": {
        "id": "_uAOqdH8yyok"
      },
      "execution_count": null,
      "outputs": []
    },
    {
      "cell_type": "markdown",
      "source": [
        "Moderator Class: A concrete observer that receives updates from products and prints the new discount."
      ],
      "metadata": {
        "id": "bI7tI_YKNQ5r"
      }
    },
    {
      "cell_type": "code",
      "source": [
        "class Moderator(Observer):\n",
        "    def __init__(self, name):\n",
        "        self.name=name\n",
        "    def update(self, product):\n",
        "        print(f\"Moderator {self.name}:discount of{product.name} is{product.discount}%\")\n"
      ],
      "metadata": {
        "id": "U77i-e990IYj"
      },
      "execution_count": null,
      "outputs": []
    },
    {
      "cell_type": "markdown",
      "source": [
        "When a product’s discount is updated, its moderators are automatically notified and display the change."
      ],
      "metadata": {
        "id": "WmHeDr8pNYgO"
      }
    },
    {
      "cell_type": "code",
      "source": [
        "if __name__ == \"__main__\":\n",
        "    tshirt = Product(\"tshirt\")\n",
        "    jacket = Product(\"jacket\")\n",
        "    tshirt_moderator = Moderator(\"Bosy\")\n",
        "    jacket_moderator = Moderator(\"z\")\n",
        "    tshirt.add(tshirt_moderator)\n",
        "    jacket.add(jacket_moderator)\n",
        "    jacket.add_discount(20)\n",
        "    tshirt.add_discount(10)"
      ],
      "metadata": {
        "colab": {
          "base_uri": "https://localhost:8080/"
        },
        "id": "Lisklg-YvTQA",
        "outputId": "bf697ece-aa34-4d9f-e688-a252c76a9d7b"
      },
      "execution_count": null,
      "outputs": [
        {
          "output_type": "stream",
          "name": "stdout",
          "text": [
            "Moderator z: The discount of jacket is 20%.\n",
            "Moderator Bosy: The discount of tshirt is 10%.\n"
          ]
        }
      ]
    }
  ]
}